{
 "cells": [
  {
   "cell_type": "code",
   "execution_count": null,
   "metadata": {},
   "outputs": [],
   "source": [
    "library(ggplot2)\n",
    "library(dplyr)\n",
    "\n",
    "# Load the penguins dataset\n",
    "data <- read.csv(\"penglings.csv\")\n",
    "\n",
    "# Drop rows with 'nan' values in the specified columns\n",
    "data <- na.omit(data[c(\"flipper_length_mm\", \"body_mass_g\", \"bill_length_mm\")])\n",
    "\n",
    "# Normalize the bill length\n",
    "min_bill_length <- min(data$bill_length_mm)\n",
    "max_bill_length <- max(data$bill_length_mm)\n",
    "data$normalized_bill_length <- (data$bill_length_mm - min_bill_length) / (max_bill_length - min_bill_length)\n",
    "data$scaled_sizes <- data$normalized_bill_length\n",
    "\n",
    "# Replace NA values in 'scaled_sizes' with a default value (0)\n",
    "data$scaled_sizes[is.na(data$scaled_sizes)] <- 0\n",
    "\n",
    "# Create the plot\n",
    "plot <- ggplot(data, aes(x = flipper_length_mm, y = body_mass_g, color = species, size = scaled_sizes)) +\n",
    "  geom_point(alpha = 0.8) +\n",
    "  scale_color_manual(values = c(\"Adelie\" = \"orange\", \"Gentoo\" = \"green\", \"Chinstrap\" = \"purple\")) +\n",
    "  labs(x = \"Flipper Length (mm)\", y = \"Body Mass (g)\") +\n",
    "  theme_minimal() +\n",
    "  theme(legend.position = \"right\")\n",
    "\n",
    "# Add annotations for small ball and large ball\n",
    "plot <- plot +\n",
    "  annotate(\"text\", x = Inf, y = Inf, label = \"Small Ball (bill length mm: 40)\", hjust = 1, vjust = 1, color = \"black\") +\n",
    "  annotate(\"text\", x = Inf, y = Inf, label = \"Large Ball (bill length mm: 50)\", hjust = 1, vjust = 1, color = \"black\")\n",
    "\n",
    "# Show the plot\n",
    "print(plot)\n"
   ]
  }
 ],
 "metadata": {
  "language_info": {
   "name": "python"
  }
 },
 "nbformat": 4,
 "nbformat_minor": 2
}
