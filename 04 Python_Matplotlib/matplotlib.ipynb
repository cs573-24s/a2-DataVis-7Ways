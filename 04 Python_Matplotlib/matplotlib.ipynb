{
 "cells": [
  {
   "cell_type": "code",
   "execution_count": null,
   "metadata": {},
   "outputs": [],
   "source": [
    "import matplotlib.pyplot as plt\n",
    "import pandas as pd"
   ]
  },
  {
   "cell_type": "code",
   "execution_count": null,
   "metadata": {},
   "outputs": [],
   "source": [
    "# Load the penguins dataset\n",
    "data = pd.read_csv(\"penglings.csv\")\n",
    "\n",
    "# Drop rows with 'nan' values in the specified columns\n",
    "columns_to_check = ['flipper_length_mm', 'body_mass_g', 'bill_length_mm']\n",
    "data = data.dropna(subset=columns_to_check)"
   ]
  },
  {
   "cell_type": "code",
   "execution_count": null,
   "metadata": {},
   "outputs": [],
   "source": [
    "# Normalize the bill length\n",
    "min_bill_length = data[\"bill_length_mm\"].min()\n",
    "max_bill_length = data[\"bill_length_mm\"].max()\n",
    "data[\"normalized_bill_length\"] = (data[\"bill_length_mm\"] - min_bill_length) / (max_bill_length - min_bill_length)\n",
    "data[\"scaled_sizes\"] = data[\"normalized_bill_length\"]\n",
    "\n",
    "# This step is really important; otherwise, always show sizes nan should be an integer\n",
    "data[\"sizes\"] = data[\"scaled_sizes\"]\n",
    "\n",
    "# Replace NaN values in 'sizes' with a default value (0)\n",
    "data[\"sizes\"].fillna(0, inplace=True)  # Replace NaN with 0\n",
    "\n",
    "# Create scatter plot using Matplotlib\n",
    "colors = {'Adelie': 'orange', 'Gentoo': 'green', 'Chinstrap': 'purple'}\n",
    "\n",
    "plt.scatter(data['flipper_length_mm'], data['body_mass_g'], c=data['species'].map(colors), s=data['sizes'] * 100)\n",
    "\n",
    "# Customize the plot\n",
    "plt.title('Scatter Plot')\n",
    "plt.xlabel('Flipper Length (mm)')\n",
    "plt.ylabel('Body Mass (g)')\n",
    "\n",
    "# Create a legend\n",
    "legend_labels = {species: plt.Line2D([0], [0], marker='o', color='w', label=species,\n",
    "                                      markerfacecolor=colors[species], markersize=10)\n",
    "                 for species in data['species'].unique()}\n",
    "plt.legend(handles=legend_labels.values(), title='Species')\n",
    "\n",
    "# Show the plot\n",
    "plt.show()"
   ]
  }
 ],
 "metadata": {
  "kernelspec": {
   "display_name": "Python 3",
   "language": "python",
   "name": "python3"
  },
  "language_info": {
   "codemirror_mode": {
    "name": "ipython",
    "version": 3
   },
   "file_extension": ".py",
   "mimetype": "text/x-python",
   "name": "python",
   "nbconvert_exporter": "python",
   "pygments_lexer": "ipython3",
   "version": "3.12.1"
  }
 },
 "nbformat": 4,
 "nbformat_minor": 2
}
