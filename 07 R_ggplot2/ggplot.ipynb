{
 "cells": [
  {
   "cell_type": "code",
   "execution_count": null,
   "metadata": {},
   "outputs": [],
   "source": [
    "import pandas as pd\n",
    "from plotnine import ggplot, aes, geom_point, labs, scale_color_manual, theme_minimal, theme, element_text, element_rect, element_line\n"
   ]
  },
  {
   "cell_type": "code",
   "execution_count": null,
   "metadata": {},
   "outputs": [],
   "source": [
    "# Load the penguins dataset\n",
    "data = pd.read_csv(\"penglings.csv\")\n",
    "\n",
    "# Drop rows with 'NaN' values in specified columns\n",
    "columns_to_check = ['flipper_length_mm', 'body_mass_g', 'bill_length_mm']\n",
    "data = data.dropna(subset=columns_to_check)"
   ]
  },
  {
   "cell_type": "code",
   "execution_count": null,
   "metadata": {},
   "outputs": [],
   "source": [
    "# Normalize the bill length\n",
    "min_bill_length = data[\"bill_length_mm\"].min()\n",
    "max_bill_length = data[\"bill_length_mm\"].max()\n",
    "data[\"normalized_bill_length\"] = (data[\"bill_length_mm\"] - min_bill_length) / (max_bill_length - min_bill_length)\n",
    "data[\"scaled_sizes\"] = data[\"normalized_bill_length\"]\n",
    "\n",
    "# Set 'sizes' column (this step is really important)\n",
    "data[\"sizes\"] = data[\"scaled_sizes\"]\n",
    "\n",
    "# Replace NaN values in 'sizes' with a default value (0)\n",
    "data[\"sizes\"].fillna(0, inplace=True)\n",
    "\n",
    "# Create scatter plot using plotnine\n",
    "scatter_plot = (\n",
    "    ggplot(data, aes(x=\"flipper_length_mm\", y=\"body_mass_g\", color=\"species\")) +\n",
    "    geom_point(size = 4) +\n",
    "    scale_color_manual(values={\"Adelie\": \"orange\", \"Gentoo\": \"green\", \"Chinstrap\": \"purple\"}) +\n",
    "    labs(x=\"Flipper Length (mm)\", y=\"Body Mass (g)\") +\n",
    "    theme_minimal() +\n",
    "    theme(\n",
    "         panel_background=element_rect(fill=\"white\"),\n",
    "        legend_title=element_text(\"Species\"),\n",
    "        axis_text=element_text(color=\"black\"),\n",
    "        axis_line=element_line(color=\"black\"),  \n",
    "        panel_grid_major=element_line(color=\"lightgray\"), \n",
    "        panel_grid_minor=element_line(color=\"lightgray\"), \n",
    "        plot_background=element_rect(fill=\"white\") \n",
    "        \n",
    "    )\n",
    ")\n",
    "\n",
    "# Show the plot in Jupyter Notebook\n",
    "scatter_plot.draw()"
   ]
  }
 ],
 "metadata": {
  "kernelspec": {
   "display_name": "Python 3",
   "language": "python",
   "name": "python3"
  },
  "language_info": {
   "codemirror_mode": {
    "name": "ipython",
    "version": 3
   },
   "file_extension": ".py",
   "mimetype": "text/x-python",
   "name": "python",
   "nbconvert_exporter": "python",
   "pygments_lexer": "ipython3",
   "version": "3.12.1"
  }
 },
 "nbformat": 4,
 "nbformat_minor": 2
}
