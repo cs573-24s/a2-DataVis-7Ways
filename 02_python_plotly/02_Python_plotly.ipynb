{
 "cells": [
  {
   "cell_type": "code",
   "execution_count": 6,
   "id": "b31aac18",
   "metadata": {},
   "outputs": [],
   "source": [
    "import pandas as pd\n",
    "import numpy as np\n",
    "import plotly.express as px\n",
    "import plotly.graph_objects as go"
   ]
  },
  {
   "cell_type": "code",
   "execution_count": 2,
   "id": "f0cc2ca0",
   "metadata": {},
   "outputs": [],
   "source": [
    "import warnings\n",
    "warnings.filterwarnings('ignore')"
   ]
  },
  {
   "cell_type": "code",
   "execution_count": 3,
   "id": "baa76ff3",
   "metadata": {},
   "outputs": [
    {
     "data": {
      "text/html": [
       "<div>\n",
       "<style scoped>\n",
       "    .dataframe tbody tr th:only-of-type {\n",
       "        vertical-align: middle;\n",
       "    }\n",
       "\n",
       "    .dataframe tbody tr th {\n",
       "        vertical-align: top;\n",
       "    }\n",
       "\n",
       "    .dataframe thead th {\n",
       "        text-align: right;\n",
       "    }\n",
       "</style>\n",
       "<table border=\"1\" class=\"dataframe\">\n",
       "  <thead>\n",
       "    <tr style=\"text-align: right;\">\n",
       "      <th></th>\n",
       "      <th>Unnamed: 0</th>\n",
       "      <th>species</th>\n",
       "      <th>island</th>\n",
       "      <th>bill_length_mm</th>\n",
       "      <th>bill_depth_mm</th>\n",
       "      <th>flipper_length_mm</th>\n",
       "      <th>body_mass_g</th>\n",
       "      <th>sex</th>\n",
       "      <th>year</th>\n",
       "    </tr>\n",
       "  </thead>\n",
       "  <tbody>\n",
       "    <tr>\n",
       "      <th>0</th>\n",
       "      <td>1</td>\n",
       "      <td>Adelie</td>\n",
       "      <td>Torgersen</td>\n",
       "      <td>39.1</td>\n",
       "      <td>18.7</td>\n",
       "      <td>181.0</td>\n",
       "      <td>3750.0</td>\n",
       "      <td>male</td>\n",
       "      <td>2007</td>\n",
       "    </tr>\n",
       "    <tr>\n",
       "      <th>1</th>\n",
       "      <td>2</td>\n",
       "      <td>Adelie</td>\n",
       "      <td>Torgersen</td>\n",
       "      <td>39.5</td>\n",
       "      <td>17.4</td>\n",
       "      <td>186.0</td>\n",
       "      <td>3800.0</td>\n",
       "      <td>female</td>\n",
       "      <td>2007</td>\n",
       "    </tr>\n",
       "    <tr>\n",
       "      <th>2</th>\n",
       "      <td>3</td>\n",
       "      <td>Adelie</td>\n",
       "      <td>Torgersen</td>\n",
       "      <td>40.3</td>\n",
       "      <td>18.0</td>\n",
       "      <td>195.0</td>\n",
       "      <td>3250.0</td>\n",
       "      <td>female</td>\n",
       "      <td>2007</td>\n",
       "    </tr>\n",
       "    <tr>\n",
       "      <th>3</th>\n",
       "      <td>4</td>\n",
       "      <td>Adelie</td>\n",
       "      <td>Torgersen</td>\n",
       "      <td>NaN</td>\n",
       "      <td>NaN</td>\n",
       "      <td>NaN</td>\n",
       "      <td>NaN</td>\n",
       "      <td>NaN</td>\n",
       "      <td>2007</td>\n",
       "    </tr>\n",
       "    <tr>\n",
       "      <th>4</th>\n",
       "      <td>5</td>\n",
       "      <td>Adelie</td>\n",
       "      <td>Torgersen</td>\n",
       "      <td>36.7</td>\n",
       "      <td>19.3</td>\n",
       "      <td>193.0</td>\n",
       "      <td>3450.0</td>\n",
       "      <td>female</td>\n",
       "      <td>2007</td>\n",
       "    </tr>\n",
       "    <tr>\n",
       "      <th>...</th>\n",
       "      <td>...</td>\n",
       "      <td>...</td>\n",
       "      <td>...</td>\n",
       "      <td>...</td>\n",
       "      <td>...</td>\n",
       "      <td>...</td>\n",
       "      <td>...</td>\n",
       "      <td>...</td>\n",
       "      <td>...</td>\n",
       "    </tr>\n",
       "    <tr>\n",
       "      <th>339</th>\n",
       "      <td>340</td>\n",
       "      <td>Chinstrap</td>\n",
       "      <td>Dream</td>\n",
       "      <td>55.8</td>\n",
       "      <td>19.8</td>\n",
       "      <td>207.0</td>\n",
       "      <td>4000.0</td>\n",
       "      <td>male</td>\n",
       "      <td>2009</td>\n",
       "    </tr>\n",
       "    <tr>\n",
       "      <th>340</th>\n",
       "      <td>341</td>\n",
       "      <td>Chinstrap</td>\n",
       "      <td>Dream</td>\n",
       "      <td>43.5</td>\n",
       "      <td>18.1</td>\n",
       "      <td>202.0</td>\n",
       "      <td>3400.0</td>\n",
       "      <td>female</td>\n",
       "      <td>2009</td>\n",
       "    </tr>\n",
       "    <tr>\n",
       "      <th>341</th>\n",
       "      <td>342</td>\n",
       "      <td>Chinstrap</td>\n",
       "      <td>Dream</td>\n",
       "      <td>49.6</td>\n",
       "      <td>18.2</td>\n",
       "      <td>193.0</td>\n",
       "      <td>3775.0</td>\n",
       "      <td>male</td>\n",
       "      <td>2009</td>\n",
       "    </tr>\n",
       "    <tr>\n",
       "      <th>342</th>\n",
       "      <td>343</td>\n",
       "      <td>Chinstrap</td>\n",
       "      <td>Dream</td>\n",
       "      <td>50.8</td>\n",
       "      <td>19.0</td>\n",
       "      <td>210.0</td>\n",
       "      <td>4100.0</td>\n",
       "      <td>male</td>\n",
       "      <td>2009</td>\n",
       "    </tr>\n",
       "    <tr>\n",
       "      <th>343</th>\n",
       "      <td>344</td>\n",
       "      <td>Chinstrap</td>\n",
       "      <td>Dream</td>\n",
       "      <td>50.2</td>\n",
       "      <td>18.7</td>\n",
       "      <td>198.0</td>\n",
       "      <td>3775.0</td>\n",
       "      <td>female</td>\n",
       "      <td>2009</td>\n",
       "    </tr>\n",
       "  </tbody>\n",
       "</table>\n",
       "<p>344 rows × 9 columns</p>\n",
       "</div>"
      ],
      "text/plain": [
       "     Unnamed: 0    species     island  bill_length_mm  bill_depth_mm  \\\n",
       "0             1     Adelie  Torgersen            39.1           18.7   \n",
       "1             2     Adelie  Torgersen            39.5           17.4   \n",
       "2             3     Adelie  Torgersen            40.3           18.0   \n",
       "3             4     Adelie  Torgersen             NaN            NaN   \n",
       "4             5     Adelie  Torgersen            36.7           19.3   \n",
       "..          ...        ...        ...             ...            ...   \n",
       "339         340  Chinstrap      Dream            55.8           19.8   \n",
       "340         341  Chinstrap      Dream            43.5           18.1   \n",
       "341         342  Chinstrap      Dream            49.6           18.2   \n",
       "342         343  Chinstrap      Dream            50.8           19.0   \n",
       "343         344  Chinstrap      Dream            50.2           18.7   \n",
       "\n",
       "     flipper_length_mm  body_mass_g     sex  year  \n",
       "0                181.0       3750.0    male  2007  \n",
       "1                186.0       3800.0  female  2007  \n",
       "2                195.0       3250.0  female  2007  \n",
       "3                  NaN          NaN     NaN  2007  \n",
       "4                193.0       3450.0  female  2007  \n",
       "..                 ...          ...     ...   ...  \n",
       "339              207.0       4000.0    male  2009  \n",
       "340              202.0       3400.0  female  2009  \n",
       "341              193.0       3775.0    male  2009  \n",
       "342              210.0       4100.0    male  2009  \n",
       "343              198.0       3775.0  female  2009  \n",
       "\n",
       "[344 rows x 9 columns]"
      ]
     },
     "execution_count": 3,
     "metadata": {},
     "output_type": "execute_result"
    }
   ],
   "source": [
    "df = pd.read_csv('penglings.csv')\n",
    "df"
   ]
  },
  {
   "cell_type": "code",
   "execution_count": 4,
   "id": "f705f4de",
   "metadata": {},
   "outputs": [],
   "source": [
    "df = df.dropna(axis=0, subset='bill_length_mm')"
   ]
  },
  {
   "cell_type": "code",
   "execution_count": 15,
   "id": "8a32849a",
   "metadata": {},
   "outputs": [
    {
     "data": {
      "application/vnd.plotly.v1+json": {
       "config": {
        "plotlyServerURL": "https://plot.ly"
       },
       "data": [
        {
         "marker": {
          "line": {
           "width": 2
          },
          "size": [
           39.1,
           39.5,
           40.3,
           36.7,
           39.3,
           38.9,
           39.2,
           34.1,
           42,
           37.8,
           37.8,
           41.1,
           38.6,
           34.6,
           36.6,
           38.7,
           42.5,
           34.4,
           46,
           37.8,
           37.7,
           35.9,
           38.2,
           38.8,
           35.3,
           40.6,
           40.5,
           37.9,
           40.5,
           39.5,
           37.2,
           39.5,
           40.9,
           36.4,
           39.2,
           38.8,
           42.2,
           37.6,
           39.8,
           36.5,
           40.8,
           36,
           44.1,
           37,
           39.6,
           41.1,
           37.5,
           36,
           42.3,
           39.6,
           40.1,
           35,
           42,
           34.5,
           41.4,
           39,
           40.6,
           36.5,
           37.6,
           35.7,
           41.3,
           37.6,
           41.1,
           36.4,
           41.6,
           35.5,
           41.1,
           35.9,
           41.8,
           33.5,
           39.7,
           39.6,
           45.8,
           35.5,
           42.8,
           40.9,
           37.2,
           36.2,
           42.1,
           34.6,
           42.9,
           36.7,
           35.1,
           37.3,
           41.3,
           36.3,
           36.9,
           38.3,
           38.9,
           35.7,
           41.1,
           34,
           39.6,
           36.2,
           40.8,
           38.1,
           40.3,
           33.1,
           43.2,
           35,
           41,
           37.7,
           37.8,
           37.9,
           39.7,
           38.6,
           38.2,
           38.1,
           43.2,
           38.1,
           45.6,
           39.7,
           42.2,
           39.6,
           42.7,
           38.6,
           37.3,
           35.7,
           41.1,
           36.2,
           37.7,
           40.2,
           41.4,
           35.2,
           40.6,
           38.8,
           41.5,
           39,
           44.1,
           38.5,
           43.1,
           36.8,
           37.5,
           38.1,
           41.1,
           35.6,
           40.2,
           37,
           39.7,
           40.2,
           40.6,
           32.1,
           40.7,
           37.3,
           39,
           39.2,
           36.6,
           36,
           37.8,
           36,
           41.5
          ],
          "sizemode": "area",
          "sizeref": 0.2648888888888889
         },
         "mode": "markers",
         "name": "Adelie",
         "text": [
          "Species: Adelie<br>Island: Torgersen<br>Flipper_length (mm): 181.0<br>body_mass (g): 3750.0<br>Sex: maleYear: 2007Bill Length (mm): 39.1",
          "Species: Adelie<br>Island: Torgersen<br>Flipper_length (mm): 186.0<br>body_mass (g): 3800.0<br>Sex: femaleYear: 2007Bill Length (mm): 39.5",
          "Species: Adelie<br>Island: Torgersen<br>Flipper_length (mm): 195.0<br>body_mass (g): 3250.0<br>Sex: femaleYear: 2007Bill Length (mm): 40.3",
          "Species: Adelie<br>Island: Torgersen<br>Flipper_length (mm): 193.0<br>body_mass (g): 3450.0<br>Sex: femaleYear: 2007Bill Length (mm): 36.7",
          "Species: Adelie<br>Island: Torgersen<br>Flipper_length (mm): 190.0<br>body_mass (g): 3650.0<br>Sex: maleYear: 2007Bill Length (mm): 39.3",
          "Species: Adelie<br>Island: Torgersen<br>Flipper_length (mm): 181.0<br>body_mass (g): 3625.0<br>Sex: femaleYear: 2007Bill Length (mm): 38.9",
          "Species: Adelie<br>Island: Torgersen<br>Flipper_length (mm): 195.0<br>body_mass (g): 4675.0<br>Sex: maleYear: 2007Bill Length (mm): 39.2",
          "Species: Adelie<br>Island: Torgersen<br>Flipper_length (mm): 193.0<br>body_mass (g): 3475.0<br>Sex: nanYear: 2007Bill Length (mm): 34.1",
          "Species: Adelie<br>Island: Torgersen<br>Flipper_length (mm): 190.0<br>body_mass (g): 4250.0<br>Sex: nanYear: 2007Bill Length (mm): 42.0",
          "Species: Adelie<br>Island: Torgersen<br>Flipper_length (mm): 186.0<br>body_mass (g): 3300.0<br>Sex: nanYear: 2007Bill Length (mm): 37.8",
          "Species: Adelie<br>Island: Torgersen<br>Flipper_length (mm): 180.0<br>body_mass (g): 3700.0<br>Sex: nanYear: 2007Bill Length (mm): 37.8",
          "Species: Adelie<br>Island: Torgersen<br>Flipper_length (mm): 182.0<br>body_mass (g): 3200.0<br>Sex: femaleYear: 2007Bill Length (mm): 41.1",
          "Species: Adelie<br>Island: Torgersen<br>Flipper_length (mm): 191.0<br>body_mass (g): 3800.0<br>Sex: maleYear: 2007Bill Length (mm): 38.6",
          "Species: Adelie<br>Island: Torgersen<br>Flipper_length (mm): 198.0<br>body_mass (g): 4400.0<br>Sex: maleYear: 2007Bill Length (mm): 34.6",
          "Species: Adelie<br>Island: Torgersen<br>Flipper_length (mm): 185.0<br>body_mass (g): 3700.0<br>Sex: femaleYear: 2007Bill Length (mm): 36.6",
          "Species: Adelie<br>Island: Torgersen<br>Flipper_length (mm): 195.0<br>body_mass (g): 3450.0<br>Sex: femaleYear: 2007Bill Length (mm): 38.7",
          "Species: Adelie<br>Island: Torgersen<br>Flipper_length (mm): 197.0<br>body_mass (g): 4500.0<br>Sex: maleYear: 2007Bill Length (mm): 42.5",
          "Species: Adelie<br>Island: Torgersen<br>Flipper_length (mm): 184.0<br>body_mass (g): 3325.0<br>Sex: femaleYear: 2007Bill Length (mm): 34.4",
          "Species: Adelie<br>Island: Torgersen<br>Flipper_length (mm): 194.0<br>body_mass (g): 4200.0<br>Sex: maleYear: 2007Bill Length (mm): 46.0",
          "Species: Adelie<br>Island: Biscoe<br>Flipper_length (mm): 174.0<br>body_mass (g): 3400.0<br>Sex: femaleYear: 2007Bill Length (mm): 37.8",
          "Species: Adelie<br>Island: Biscoe<br>Flipper_length (mm): 180.0<br>body_mass (g): 3600.0<br>Sex: maleYear: 2007Bill Length (mm): 37.7",
          "Species: Adelie<br>Island: Biscoe<br>Flipper_length (mm): 189.0<br>body_mass (g): 3800.0<br>Sex: femaleYear: 2007Bill Length (mm): 35.9",
          "Species: Adelie<br>Island: Biscoe<br>Flipper_length (mm): 185.0<br>body_mass (g): 3950.0<br>Sex: maleYear: 2007Bill Length (mm): 38.2",
          "Species: Adelie<br>Island: Biscoe<br>Flipper_length (mm): 180.0<br>body_mass (g): 3800.0<br>Sex: maleYear: 2007Bill Length (mm): 38.8",
          "Species: Adelie<br>Island: Biscoe<br>Flipper_length (mm): 187.0<br>body_mass (g): 3800.0<br>Sex: femaleYear: 2007Bill Length (mm): 35.3",
          "Species: Adelie<br>Island: Biscoe<br>Flipper_length (mm): 183.0<br>body_mass (g): 3550.0<br>Sex: maleYear: 2007Bill Length (mm): 40.6",
          "Species: Adelie<br>Island: Biscoe<br>Flipper_length (mm): 187.0<br>body_mass (g): 3200.0<br>Sex: femaleYear: 2007Bill Length (mm): 40.5",
          "Species: Adelie<br>Island: Biscoe<br>Flipper_length (mm): 172.0<br>body_mass (g): 3150.0<br>Sex: femaleYear: 2007Bill Length (mm): 37.9",
          "Species: Adelie<br>Island: Biscoe<br>Flipper_length (mm): 180.0<br>body_mass (g): 3950.0<br>Sex: maleYear: 2007Bill Length (mm): 40.5",
          "Species: Adelie<br>Island: Dream<br>Flipper_length (mm): 178.0<br>body_mass (g): 3250.0<br>Sex: femaleYear: 2007Bill Length (mm): 39.5",
          "Species: Adelie<br>Island: Dream<br>Flipper_length (mm): 178.0<br>body_mass (g): 3900.0<br>Sex: maleYear: 2007Bill Length (mm): 37.2",
          "Species: Adelie<br>Island: Dream<br>Flipper_length (mm): 188.0<br>body_mass (g): 3300.0<br>Sex: femaleYear: 2007Bill Length (mm): 39.5",
          "Species: Adelie<br>Island: Dream<br>Flipper_length (mm): 184.0<br>body_mass (g): 3900.0<br>Sex: maleYear: 2007Bill Length (mm): 40.9",
          "Species: Adelie<br>Island: Dream<br>Flipper_length (mm): 195.0<br>body_mass (g): 3325.0<br>Sex: femaleYear: 2007Bill Length (mm): 36.4",
          "Species: Adelie<br>Island: Dream<br>Flipper_length (mm): 196.0<br>body_mass (g): 4150.0<br>Sex: maleYear: 2007Bill Length (mm): 39.2",
          "Species: Adelie<br>Island: Dream<br>Flipper_length (mm): 190.0<br>body_mass (g): 3950.0<br>Sex: maleYear: 2007Bill Length (mm): 38.8",
          "Species: Adelie<br>Island: Dream<br>Flipper_length (mm): 180.0<br>body_mass (g): 3550.0<br>Sex: femaleYear: 2007Bill Length (mm): 42.2",
          "Species: Adelie<br>Island: Dream<br>Flipper_length (mm): 181.0<br>body_mass (g): 3300.0<br>Sex: femaleYear: 2007Bill Length (mm): 37.6",
          "Species: Adelie<br>Island: Dream<br>Flipper_length (mm): 184.0<br>body_mass (g): 4650.0<br>Sex: maleYear: 2007Bill Length (mm): 39.8",
          "Species: Adelie<br>Island: Dream<br>Flipper_length (mm): 182.0<br>body_mass (g): 3150.0<br>Sex: femaleYear: 2007Bill Length (mm): 36.5",
          "Species: Adelie<br>Island: Dream<br>Flipper_length (mm): 195.0<br>body_mass (g): 3900.0<br>Sex: maleYear: 2007Bill Length (mm): 40.8",
          "Species: Adelie<br>Island: Dream<br>Flipper_length (mm): 186.0<br>body_mass (g): 3100.0<br>Sex: femaleYear: 2007Bill Length (mm): 36.0",
          "Species: Adelie<br>Island: Dream<br>Flipper_length (mm): 196.0<br>body_mass (g): 4400.0<br>Sex: maleYear: 2007Bill Length (mm): 44.1",
          "Species: Adelie<br>Island: Dream<br>Flipper_length (mm): 185.0<br>body_mass (g): 3000.0<br>Sex: femaleYear: 2007Bill Length (mm): 37.0",
          "Species: Adelie<br>Island: Dream<br>Flipper_length (mm): 190.0<br>body_mass (g): 4600.0<br>Sex: maleYear: 2007Bill Length (mm): 39.6",
          "Species: Adelie<br>Island: Dream<br>Flipper_length (mm): 182.0<br>body_mass (g): 3425.0<br>Sex: maleYear: 2007Bill Length (mm): 41.1",
          "Species: Adelie<br>Island: Dream<br>Flipper_length (mm): 179.0<br>body_mass (g): 2975.0<br>Sex: nanYear: 2007Bill Length (mm): 37.5",
          "Species: Adelie<br>Island: Dream<br>Flipper_length (mm): 190.0<br>body_mass (g): 3450.0<br>Sex: femaleYear: 2007Bill Length (mm): 36.0",
          "Species: Adelie<br>Island: Dream<br>Flipper_length (mm): 191.0<br>body_mass (g): 4150.0<br>Sex: maleYear: 2007Bill Length (mm): 42.3",
          "Species: Adelie<br>Island: Biscoe<br>Flipper_length (mm): 186.0<br>body_mass (g): 3500.0<br>Sex: femaleYear: 2008Bill Length (mm): 39.6",
          "Species: Adelie<br>Island: Biscoe<br>Flipper_length (mm): 188.0<br>body_mass (g): 4300.0<br>Sex: maleYear: 2008Bill Length (mm): 40.1",
          "Species: Adelie<br>Island: Biscoe<br>Flipper_length (mm): 190.0<br>body_mass (g): 3450.0<br>Sex: femaleYear: 2008Bill Length (mm): 35.0",
          "Species: Adelie<br>Island: Biscoe<br>Flipper_length (mm): 200.0<br>body_mass (g): 4050.0<br>Sex: maleYear: 2008Bill Length (mm): 42.0",
          "Species: Adelie<br>Island: Biscoe<br>Flipper_length (mm): 187.0<br>body_mass (g): 2900.0<br>Sex: femaleYear: 2008Bill Length (mm): 34.5",
          "Species: Adelie<br>Island: Biscoe<br>Flipper_length (mm): 191.0<br>body_mass (g): 3700.0<br>Sex: maleYear: 2008Bill Length (mm): 41.4",
          "Species: Adelie<br>Island: Biscoe<br>Flipper_length (mm): 186.0<br>body_mass (g): 3550.0<br>Sex: femaleYear: 2008Bill Length (mm): 39.0",
          "Species: Adelie<br>Island: Biscoe<br>Flipper_length (mm): 193.0<br>body_mass (g): 3800.0<br>Sex: maleYear: 2008Bill Length (mm): 40.6",
          "Species: Adelie<br>Island: Biscoe<br>Flipper_length (mm): 181.0<br>body_mass (g): 2850.0<br>Sex: femaleYear: 2008Bill Length (mm): 36.5",
          "Species: Adelie<br>Island: Biscoe<br>Flipper_length (mm): 194.0<br>body_mass (g): 3750.0<br>Sex: maleYear: 2008Bill Length (mm): 37.6",
          "Species: Adelie<br>Island: Biscoe<br>Flipper_length (mm): 185.0<br>body_mass (g): 3150.0<br>Sex: femaleYear: 2008Bill Length (mm): 35.7",
          "Species: Adelie<br>Island: Biscoe<br>Flipper_length (mm): 195.0<br>body_mass (g): 4400.0<br>Sex: maleYear: 2008Bill Length (mm): 41.3",
          "Species: Adelie<br>Island: Biscoe<br>Flipper_length (mm): 185.0<br>body_mass (g): 3600.0<br>Sex: femaleYear: 2008Bill Length (mm): 37.6",
          "Species: Adelie<br>Island: Biscoe<br>Flipper_length (mm): 192.0<br>body_mass (g): 4050.0<br>Sex: maleYear: 2008Bill Length (mm): 41.1",
          "Species: Adelie<br>Island: Biscoe<br>Flipper_length (mm): 184.0<br>body_mass (g): 2850.0<br>Sex: femaleYear: 2008Bill Length (mm): 36.4",
          "Species: Adelie<br>Island: Biscoe<br>Flipper_length (mm): 192.0<br>body_mass (g): 3950.0<br>Sex: maleYear: 2008Bill Length (mm): 41.6",
          "Species: Adelie<br>Island: Biscoe<br>Flipper_length (mm): 195.0<br>body_mass (g): 3350.0<br>Sex: femaleYear: 2008Bill Length (mm): 35.5",
          "Species: Adelie<br>Island: Biscoe<br>Flipper_length (mm): 188.0<br>body_mass (g): 4100.0<br>Sex: maleYear: 2008Bill Length (mm): 41.1",
          "Species: Adelie<br>Island: Torgersen<br>Flipper_length (mm): 190.0<br>body_mass (g): 3050.0<br>Sex: femaleYear: 2008Bill Length (mm): 35.9",
          "Species: Adelie<br>Island: Torgersen<br>Flipper_length (mm): 198.0<br>body_mass (g): 4450.0<br>Sex: maleYear: 2008Bill Length (mm): 41.8",
          "Species: Adelie<br>Island: Torgersen<br>Flipper_length (mm): 190.0<br>body_mass (g): 3600.0<br>Sex: femaleYear: 2008Bill Length (mm): 33.5",
          "Species: Adelie<br>Island: Torgersen<br>Flipper_length (mm): 190.0<br>body_mass (g): 3900.0<br>Sex: maleYear: 2008Bill Length (mm): 39.7",
          "Species: Adelie<br>Island: Torgersen<br>Flipper_length (mm): 196.0<br>body_mass (g): 3550.0<br>Sex: femaleYear: 2008Bill Length (mm): 39.6",
          "Species: Adelie<br>Island: Torgersen<br>Flipper_length (mm): 197.0<br>body_mass (g): 4150.0<br>Sex: maleYear: 2008Bill Length (mm): 45.8",
          "Species: Adelie<br>Island: Torgersen<br>Flipper_length (mm): 190.0<br>body_mass (g): 3700.0<br>Sex: femaleYear: 2008Bill Length (mm): 35.5",
          "Species: Adelie<br>Island: Torgersen<br>Flipper_length (mm): 195.0<br>body_mass (g): 4250.0<br>Sex: maleYear: 2008Bill Length (mm): 42.8",
          "Species: Adelie<br>Island: Torgersen<br>Flipper_length (mm): 191.0<br>body_mass (g): 3700.0<br>Sex: femaleYear: 2008Bill Length (mm): 40.9",
          "Species: Adelie<br>Island: Torgersen<br>Flipper_length (mm): 184.0<br>body_mass (g): 3900.0<br>Sex: maleYear: 2008Bill Length (mm): 37.2",
          "Species: Adelie<br>Island: Torgersen<br>Flipper_length (mm): 187.0<br>body_mass (g): 3550.0<br>Sex: femaleYear: 2008Bill Length (mm): 36.2",
          "Species: Adelie<br>Island: Torgersen<br>Flipper_length (mm): 195.0<br>body_mass (g): 4000.0<br>Sex: maleYear: 2008Bill Length (mm): 42.1",
          "Species: Adelie<br>Island: Torgersen<br>Flipper_length (mm): 189.0<br>body_mass (g): 3200.0<br>Sex: femaleYear: 2008Bill Length (mm): 34.6",
          "Species: Adelie<br>Island: Torgersen<br>Flipper_length (mm): 196.0<br>body_mass (g): 4700.0<br>Sex: maleYear: 2008Bill Length (mm): 42.9",
          "Species: Adelie<br>Island: Torgersen<br>Flipper_length (mm): 187.0<br>body_mass (g): 3800.0<br>Sex: femaleYear: 2008Bill Length (mm): 36.7",
          "Species: Adelie<br>Island: Torgersen<br>Flipper_length (mm): 193.0<br>body_mass (g): 4200.0<br>Sex: maleYear: 2008Bill Length (mm): 35.1",
          "Species: Adelie<br>Island: Dream<br>Flipper_length (mm): 191.0<br>body_mass (g): 3350.0<br>Sex: femaleYear: 2008Bill Length (mm): 37.3",
          "Species: Adelie<br>Island: Dream<br>Flipper_length (mm): 194.0<br>body_mass (g): 3550.0<br>Sex: maleYear: 2008Bill Length (mm): 41.3",
          "Species: Adelie<br>Island: Dream<br>Flipper_length (mm): 190.0<br>body_mass (g): 3800.0<br>Sex: maleYear: 2008Bill Length (mm): 36.3",
          "Species: Adelie<br>Island: Dream<br>Flipper_length (mm): 189.0<br>body_mass (g): 3500.0<br>Sex: femaleYear: 2008Bill Length (mm): 36.9",
          "Species: Adelie<br>Island: Dream<br>Flipper_length (mm): 189.0<br>body_mass (g): 3950.0<br>Sex: maleYear: 2008Bill Length (mm): 38.3",
          "Species: Adelie<br>Island: Dream<br>Flipper_length (mm): 190.0<br>body_mass (g): 3600.0<br>Sex: femaleYear: 2008Bill Length (mm): 38.9",
          "Species: Adelie<br>Island: Dream<br>Flipper_length (mm): 202.0<br>body_mass (g): 3550.0<br>Sex: femaleYear: 2008Bill Length (mm): 35.7",
          "Species: Adelie<br>Island: Dream<br>Flipper_length (mm): 205.0<br>body_mass (g): 4300.0<br>Sex: maleYear: 2008Bill Length (mm): 41.1",
          "Species: Adelie<br>Island: Dream<br>Flipper_length (mm): 185.0<br>body_mass (g): 3400.0<br>Sex: femaleYear: 2008Bill Length (mm): 34.0",
          "Species: Adelie<br>Island: Dream<br>Flipper_length (mm): 186.0<br>body_mass (g): 4450.0<br>Sex: maleYear: 2008Bill Length (mm): 39.6",
          "Species: Adelie<br>Island: Dream<br>Flipper_length (mm): 187.0<br>body_mass (g): 3300.0<br>Sex: femaleYear: 2008Bill Length (mm): 36.2",
          "Species: Adelie<br>Island: Dream<br>Flipper_length (mm): 208.0<br>body_mass (g): 4300.0<br>Sex: maleYear: 2008Bill Length (mm): 40.8",
          "Species: Adelie<br>Island: Dream<br>Flipper_length (mm): 190.0<br>body_mass (g): 3700.0<br>Sex: femaleYear: 2008Bill Length (mm): 38.1",
          "Species: Adelie<br>Island: Dream<br>Flipper_length (mm): 196.0<br>body_mass (g): 4350.0<br>Sex: maleYear: 2008Bill Length (mm): 40.3",
          "Species: Adelie<br>Island: Dream<br>Flipper_length (mm): 178.0<br>body_mass (g): 2900.0<br>Sex: femaleYear: 2008Bill Length (mm): 33.1",
          "Species: Adelie<br>Island: Dream<br>Flipper_length (mm): 192.0<br>body_mass (g): 4100.0<br>Sex: maleYear: 2008Bill Length (mm): 43.2",
          "Species: Adelie<br>Island: Biscoe<br>Flipper_length (mm): 192.0<br>body_mass (g): 3725.0<br>Sex: femaleYear: 2009Bill Length (mm): 35.0",
          "Species: Adelie<br>Island: Biscoe<br>Flipper_length (mm): 203.0<br>body_mass (g): 4725.0<br>Sex: maleYear: 2009Bill Length (mm): 41.0",
          "Species: Adelie<br>Island: Biscoe<br>Flipper_length (mm): 183.0<br>body_mass (g): 3075.0<br>Sex: femaleYear: 2009Bill Length (mm): 37.7",
          "Species: Adelie<br>Island: Biscoe<br>Flipper_length (mm): 190.0<br>body_mass (g): 4250.0<br>Sex: maleYear: 2009Bill Length (mm): 37.8",
          "Species: Adelie<br>Island: Biscoe<br>Flipper_length (mm): 193.0<br>body_mass (g): 2925.0<br>Sex: femaleYear: 2009Bill Length (mm): 37.9",
          "Species: Adelie<br>Island: Biscoe<br>Flipper_length (mm): 184.0<br>body_mass (g): 3550.0<br>Sex: maleYear: 2009Bill Length (mm): 39.7",
          "Species: Adelie<br>Island: Biscoe<br>Flipper_length (mm): 199.0<br>body_mass (g): 3750.0<br>Sex: femaleYear: 2009Bill Length (mm): 38.6",
          "Species: Adelie<br>Island: Biscoe<br>Flipper_length (mm): 190.0<br>body_mass (g): 3900.0<br>Sex: maleYear: 2009Bill Length (mm): 38.2",
          "Species: Adelie<br>Island: Biscoe<br>Flipper_length (mm): 181.0<br>body_mass (g): 3175.0<br>Sex: femaleYear: 2009Bill Length (mm): 38.1",
          "Species: Adelie<br>Island: Biscoe<br>Flipper_length (mm): 197.0<br>body_mass (g): 4775.0<br>Sex: maleYear: 2009Bill Length (mm): 43.2",
          "Species: Adelie<br>Island: Biscoe<br>Flipper_length (mm): 198.0<br>body_mass (g): 3825.0<br>Sex: femaleYear: 2009Bill Length (mm): 38.1",
          "Species: Adelie<br>Island: Biscoe<br>Flipper_length (mm): 191.0<br>body_mass (g): 4600.0<br>Sex: maleYear: 2009Bill Length (mm): 45.6",
          "Species: Adelie<br>Island: Biscoe<br>Flipper_length (mm): 193.0<br>body_mass (g): 3200.0<br>Sex: femaleYear: 2009Bill Length (mm): 39.7",
          "Species: Adelie<br>Island: Biscoe<br>Flipper_length (mm): 197.0<br>body_mass (g): 4275.0<br>Sex: maleYear: 2009Bill Length (mm): 42.2",
          "Species: Adelie<br>Island: Biscoe<br>Flipper_length (mm): 191.0<br>body_mass (g): 3900.0<br>Sex: femaleYear: 2009Bill Length (mm): 39.6",
          "Species: Adelie<br>Island: Biscoe<br>Flipper_length (mm): 196.0<br>body_mass (g): 4075.0<br>Sex: maleYear: 2009Bill Length (mm): 42.7",
          "Species: Adelie<br>Island: Torgersen<br>Flipper_length (mm): 188.0<br>body_mass (g): 2900.0<br>Sex: femaleYear: 2009Bill Length (mm): 38.6",
          "Species: Adelie<br>Island: Torgersen<br>Flipper_length (mm): 199.0<br>body_mass (g): 3775.0<br>Sex: maleYear: 2009Bill Length (mm): 37.3",
          "Species: Adelie<br>Island: Torgersen<br>Flipper_length (mm): 189.0<br>body_mass (g): 3350.0<br>Sex: femaleYear: 2009Bill Length (mm): 35.7",
          "Species: Adelie<br>Island: Torgersen<br>Flipper_length (mm): 189.0<br>body_mass (g): 3325.0<br>Sex: maleYear: 2009Bill Length (mm): 41.1",
          "Species: Adelie<br>Island: Torgersen<br>Flipper_length (mm): 187.0<br>body_mass (g): 3150.0<br>Sex: femaleYear: 2009Bill Length (mm): 36.2",
          "Species: Adelie<br>Island: Torgersen<br>Flipper_length (mm): 198.0<br>body_mass (g): 3500.0<br>Sex: maleYear: 2009Bill Length (mm): 37.7",
          "Species: Adelie<br>Island: Torgersen<br>Flipper_length (mm): 176.0<br>body_mass (g): 3450.0<br>Sex: femaleYear: 2009Bill Length (mm): 40.2",
          "Species: Adelie<br>Island: Torgersen<br>Flipper_length (mm): 202.0<br>body_mass (g): 3875.0<br>Sex: maleYear: 2009Bill Length (mm): 41.4",
          "Species: Adelie<br>Island: Torgersen<br>Flipper_length (mm): 186.0<br>body_mass (g): 3050.0<br>Sex: femaleYear: 2009Bill Length (mm): 35.2",
          "Species: Adelie<br>Island: Torgersen<br>Flipper_length (mm): 199.0<br>body_mass (g): 4000.0<br>Sex: maleYear: 2009Bill Length (mm): 40.6",
          "Species: Adelie<br>Island: Torgersen<br>Flipper_length (mm): 191.0<br>body_mass (g): 3275.0<br>Sex: femaleYear: 2009Bill Length (mm): 38.8",
          "Species: Adelie<br>Island: Torgersen<br>Flipper_length (mm): 195.0<br>body_mass (g): 4300.0<br>Sex: maleYear: 2009Bill Length (mm): 41.5",
          "Species: Adelie<br>Island: Torgersen<br>Flipper_length (mm): 191.0<br>body_mass (g): 3050.0<br>Sex: femaleYear: 2009Bill Length (mm): 39.0",
          "Species: Adelie<br>Island: Torgersen<br>Flipper_length (mm): 210.0<br>body_mass (g): 4000.0<br>Sex: maleYear: 2009Bill Length (mm): 44.1",
          "Species: Adelie<br>Island: Torgersen<br>Flipper_length (mm): 190.0<br>body_mass (g): 3325.0<br>Sex: femaleYear: 2009Bill Length (mm): 38.5",
          "Species: Adelie<br>Island: Torgersen<br>Flipper_length (mm): 197.0<br>body_mass (g): 3500.0<br>Sex: maleYear: 2009Bill Length (mm): 43.1",
          "Species: Adelie<br>Island: Dream<br>Flipper_length (mm): 193.0<br>body_mass (g): 3500.0<br>Sex: femaleYear: 2009Bill Length (mm): 36.8",
          "Species: Adelie<br>Island: Dream<br>Flipper_length (mm): 199.0<br>body_mass (g): 4475.0<br>Sex: maleYear: 2009Bill Length (mm): 37.5",
          "Species: Adelie<br>Island: Dream<br>Flipper_length (mm): 187.0<br>body_mass (g): 3425.0<br>Sex: femaleYear: 2009Bill Length (mm): 38.1",
          "Species: Adelie<br>Island: Dream<br>Flipper_length (mm): 190.0<br>body_mass (g): 3900.0<br>Sex: maleYear: 2009Bill Length (mm): 41.1",
          "Species: Adelie<br>Island: Dream<br>Flipper_length (mm): 191.0<br>body_mass (g): 3175.0<br>Sex: femaleYear: 2009Bill Length (mm): 35.6",
          "Species: Adelie<br>Island: Dream<br>Flipper_length (mm): 200.0<br>body_mass (g): 3975.0<br>Sex: maleYear: 2009Bill Length (mm): 40.2",
          "Species: Adelie<br>Island: Dream<br>Flipper_length (mm): 185.0<br>body_mass (g): 3400.0<br>Sex: femaleYear: 2009Bill Length (mm): 37.0",
          "Species: Adelie<br>Island: Dream<br>Flipper_length (mm): 193.0<br>body_mass (g): 4250.0<br>Sex: maleYear: 2009Bill Length (mm): 39.7",
          "Species: Adelie<br>Island: Dream<br>Flipper_length (mm): 193.0<br>body_mass (g): 3400.0<br>Sex: femaleYear: 2009Bill Length (mm): 40.2",
          "Species: Adelie<br>Island: Dream<br>Flipper_length (mm): 187.0<br>body_mass (g): 3475.0<br>Sex: maleYear: 2009Bill Length (mm): 40.6",
          "Species: Adelie<br>Island: Dream<br>Flipper_length (mm): 188.0<br>body_mass (g): 3050.0<br>Sex: femaleYear: 2009Bill Length (mm): 32.1",
          "Species: Adelie<br>Island: Dream<br>Flipper_length (mm): 190.0<br>body_mass (g): 3725.0<br>Sex: maleYear: 2009Bill Length (mm): 40.7",
          "Species: Adelie<br>Island: Dream<br>Flipper_length (mm): 192.0<br>body_mass (g): 3000.0<br>Sex: femaleYear: 2009Bill Length (mm): 37.3",
          "Species: Adelie<br>Island: Dream<br>Flipper_length (mm): 185.0<br>body_mass (g): 3650.0<br>Sex: maleYear: 2009Bill Length (mm): 39.0",
          "Species: Adelie<br>Island: Dream<br>Flipper_length (mm): 190.0<br>body_mass (g): 4250.0<br>Sex: maleYear: 2009Bill Length (mm): 39.2",
          "Species: Adelie<br>Island: Dream<br>Flipper_length (mm): 184.0<br>body_mass (g): 3475.0<br>Sex: femaleYear: 2009Bill Length (mm): 36.6",
          "Species: Adelie<br>Island: Dream<br>Flipper_length (mm): 195.0<br>body_mass (g): 3450.0<br>Sex: femaleYear: 2009Bill Length (mm): 36.0",
          "Species: Adelie<br>Island: Dream<br>Flipper_length (mm): 193.0<br>body_mass (g): 3750.0<br>Sex: maleYear: 2009Bill Length (mm): 37.8",
          "Species: Adelie<br>Island: Dream<br>Flipper_length (mm): 187.0<br>body_mass (g): 3700.0<br>Sex: femaleYear: 2009Bill Length (mm): 36.0",
          "Species: Adelie<br>Island: Dream<br>Flipper_length (mm): 201.0<br>body_mass (g): 4000.0<br>Sex: maleYear: 2009Bill Length (mm): 41.5"
         ],
         "type": "scatter",
         "x": [
          181,
          186,
          195,
          193,
          190,
          181,
          195,
          193,
          190,
          186,
          180,
          182,
          191,
          198,
          185,
          195,
          197,
          184,
          194,
          174,
          180,
          189,
          185,
          180,
          187,
          183,
          187,
          172,
          180,
          178,
          178,
          188,
          184,
          195,
          196,
          190,
          180,
          181,
          184,
          182,
          195,
          186,
          196,
          185,
          190,
          182,
          179,
          190,
          191,
          186,
          188,
          190,
          200,
          187,
          191,
          186,
          193,
          181,
          194,
          185,
          195,
          185,
          192,
          184,
          192,
          195,
          188,
          190,
          198,
          190,
          190,
          196,
          197,
          190,
          195,
          191,
          184,
          187,
          195,
          189,
          196,
          187,
          193,
          191,
          194,
          190,
          189,
          189,
          190,
          202,
          205,
          185,
          186,
          187,
          208,
          190,
          196,
          178,
          192,
          192,
          203,
          183,
          190,
          193,
          184,
          199,
          190,
          181,
          197,
          198,
          191,
          193,
          197,
          191,
          196,
          188,
          199,
          189,
          189,
          187,
          198,
          176,
          202,
          186,
          199,
          191,
          195,
          191,
          210,
          190,
          197,
          193,
          199,
          187,
          190,
          191,
          200,
          185,
          193,
          193,
          187,
          188,
          190,
          192,
          185,
          190,
          184,
          195,
          193,
          187,
          201
         ],
         "y": [
          3750,
          3800,
          3250,
          3450,
          3650,
          3625,
          4675,
          3475,
          4250,
          3300,
          3700,
          3200,
          3800,
          4400,
          3700,
          3450,
          4500,
          3325,
          4200,
          3400,
          3600,
          3800,
          3950,
          3800,
          3800,
          3550,
          3200,
          3150,
          3950,
          3250,
          3900,
          3300,
          3900,
          3325,
          4150,
          3950,
          3550,
          3300,
          4650,
          3150,
          3900,
          3100,
          4400,
          3000,
          4600,
          3425,
          2975,
          3450,
          4150,
          3500,
          4300,
          3450,
          4050,
          2900,
          3700,
          3550,
          3800,
          2850,
          3750,
          3150,
          4400,
          3600,
          4050,
          2850,
          3950,
          3350,
          4100,
          3050,
          4450,
          3600,
          3900,
          3550,
          4150,
          3700,
          4250,
          3700,
          3900,
          3550,
          4000,
          3200,
          4700,
          3800,
          4200,
          3350,
          3550,
          3800,
          3500,
          3950,
          3600,
          3550,
          4300,
          3400,
          4450,
          3300,
          4300,
          3700,
          4350,
          2900,
          4100,
          3725,
          4725,
          3075,
          4250,
          2925,
          3550,
          3750,
          3900,
          3175,
          4775,
          3825,
          4600,
          3200,
          4275,
          3900,
          4075,
          2900,
          3775,
          3350,
          3325,
          3150,
          3500,
          3450,
          3875,
          3050,
          4000,
          3275,
          4300,
          3050,
          4000,
          3325,
          3500,
          3500,
          4475,
          3425,
          3900,
          3175,
          3975,
          3400,
          4250,
          3400,
          3475,
          3050,
          3725,
          3000,
          3650,
          4250,
          3475,
          3450,
          3750,
          3700,
          4000
         ]
        },
        {
         "marker": {
          "line": {
           "width": 2
          },
          "size": [
           46.5,
           50,
           51.3,
           45.4,
           52.7,
           45.2,
           46.1,
           51.3,
           46,
           51.3,
           46.6,
           51.7,
           47,
           52,
           45.9,
           50.5,
           50.3,
           58,
           46.4,
           49.2,
           42.4,
           48.5,
           43.2,
           50.6,
           46.7,
           52,
           50.5,
           49.5,
           46.4,
           52.8,
           40.9,
           54.2,
           42.5,
           51,
           49.7,
           47.5,
           47.6,
           52,
           46.9,
           53.5,
           49,
           46.2,
           50.9,
           45.5,
           50.9,
           50.8,
           50.1,
           49,
           51.5,
           49.8,
           48.1,
           51.4,
           45.7,
           50.7,
           42.5,
           52.2,
           45.2,
           49.3,
           50.2,
           45.6,
           51.9,
           46.8,
           45.7,
           55.8,
           43.5,
           49.6,
           50.8,
           50.2
          ],
          "sizemode": "area",
          "sizeref": 0.2648888888888889
         },
         "mode": "markers",
         "name": "Chinstrap",
         "text": [
          "Species: Chinstrap<br>Island: Dream<br>Flipper_length (mm): 192.0<br>body_mass (g): 3500.0<br>Sex: femaleYear: 2007Bill Length (mm): 46.5",
          "Species: Chinstrap<br>Island: Dream<br>Flipper_length (mm): 196.0<br>body_mass (g): 3900.0<br>Sex: maleYear: 2007Bill Length (mm): 50.0",
          "Species: Chinstrap<br>Island: Dream<br>Flipper_length (mm): 193.0<br>body_mass (g): 3650.0<br>Sex: maleYear: 2007Bill Length (mm): 51.3",
          "Species: Chinstrap<br>Island: Dream<br>Flipper_length (mm): 188.0<br>body_mass (g): 3525.0<br>Sex: femaleYear: 2007Bill Length (mm): 45.4",
          "Species: Chinstrap<br>Island: Dream<br>Flipper_length (mm): 197.0<br>body_mass (g): 3725.0<br>Sex: maleYear: 2007Bill Length (mm): 52.7",
          "Species: Chinstrap<br>Island: Dream<br>Flipper_length (mm): 198.0<br>body_mass (g): 3950.0<br>Sex: femaleYear: 2007Bill Length (mm): 45.2",
          "Species: Chinstrap<br>Island: Dream<br>Flipper_length (mm): 178.0<br>body_mass (g): 3250.0<br>Sex: femaleYear: 2007Bill Length (mm): 46.1",
          "Species: Chinstrap<br>Island: Dream<br>Flipper_length (mm): 197.0<br>body_mass (g): 3750.0<br>Sex: maleYear: 2007Bill Length (mm): 51.3",
          "Species: Chinstrap<br>Island: Dream<br>Flipper_length (mm): 195.0<br>body_mass (g): 4150.0<br>Sex: femaleYear: 2007Bill Length (mm): 46.0",
          "Species: Chinstrap<br>Island: Dream<br>Flipper_length (mm): 198.0<br>body_mass (g): 3700.0<br>Sex: maleYear: 2007Bill Length (mm): 51.3",
          "Species: Chinstrap<br>Island: Dream<br>Flipper_length (mm): 193.0<br>body_mass (g): 3800.0<br>Sex: femaleYear: 2007Bill Length (mm): 46.6",
          "Species: Chinstrap<br>Island: Dream<br>Flipper_length (mm): 194.0<br>body_mass (g): 3775.0<br>Sex: maleYear: 2007Bill Length (mm): 51.7",
          "Species: Chinstrap<br>Island: Dream<br>Flipper_length (mm): 185.0<br>body_mass (g): 3700.0<br>Sex: femaleYear: 2007Bill Length (mm): 47.0",
          "Species: Chinstrap<br>Island: Dream<br>Flipper_length (mm): 201.0<br>body_mass (g): 4050.0<br>Sex: maleYear: 2007Bill Length (mm): 52.0",
          "Species: Chinstrap<br>Island: Dream<br>Flipper_length (mm): 190.0<br>body_mass (g): 3575.0<br>Sex: femaleYear: 2007Bill Length (mm): 45.9",
          "Species: Chinstrap<br>Island: Dream<br>Flipper_length (mm): 201.0<br>body_mass (g): 4050.0<br>Sex: maleYear: 2007Bill Length (mm): 50.5",
          "Species: Chinstrap<br>Island: Dream<br>Flipper_length (mm): 197.0<br>body_mass (g): 3300.0<br>Sex: maleYear: 2007Bill Length (mm): 50.3",
          "Species: Chinstrap<br>Island: Dream<br>Flipper_length (mm): 181.0<br>body_mass (g): 3700.0<br>Sex: femaleYear: 2007Bill Length (mm): 58.0",
          "Species: Chinstrap<br>Island: Dream<br>Flipper_length (mm): 190.0<br>body_mass (g): 3450.0<br>Sex: femaleYear: 2007Bill Length (mm): 46.4",
          "Species: Chinstrap<br>Island: Dream<br>Flipper_length (mm): 195.0<br>body_mass (g): 4400.0<br>Sex: maleYear: 2007Bill Length (mm): 49.2",
          "Species: Chinstrap<br>Island: Dream<br>Flipper_length (mm): 181.0<br>body_mass (g): 3600.0<br>Sex: femaleYear: 2007Bill Length (mm): 42.4",
          "Species: Chinstrap<br>Island: Dream<br>Flipper_length (mm): 191.0<br>body_mass (g): 3400.0<br>Sex: maleYear: 2007Bill Length (mm): 48.5",
          "Species: Chinstrap<br>Island: Dream<br>Flipper_length (mm): 187.0<br>body_mass (g): 2900.0<br>Sex: femaleYear: 2007Bill Length (mm): 43.2",
          "Species: Chinstrap<br>Island: Dream<br>Flipper_length (mm): 193.0<br>body_mass (g): 3800.0<br>Sex: maleYear: 2007Bill Length (mm): 50.6",
          "Species: Chinstrap<br>Island: Dream<br>Flipper_length (mm): 195.0<br>body_mass (g): 3300.0<br>Sex: femaleYear: 2007Bill Length (mm): 46.7",
          "Species: Chinstrap<br>Island: Dream<br>Flipper_length (mm): 197.0<br>body_mass (g): 4150.0<br>Sex: maleYear: 2007Bill Length (mm): 52.0",
          "Species: Chinstrap<br>Island: Dream<br>Flipper_length (mm): 200.0<br>body_mass (g): 3400.0<br>Sex: femaleYear: 2008Bill Length (mm): 50.5",
          "Species: Chinstrap<br>Island: Dream<br>Flipper_length (mm): 200.0<br>body_mass (g): 3800.0<br>Sex: maleYear: 2008Bill Length (mm): 49.5",
          "Species: Chinstrap<br>Island: Dream<br>Flipper_length (mm): 191.0<br>body_mass (g): 3700.0<br>Sex: femaleYear: 2008Bill Length (mm): 46.4",
          "Species: Chinstrap<br>Island: Dream<br>Flipper_length (mm): 205.0<br>body_mass (g): 4550.0<br>Sex: maleYear: 2008Bill Length (mm): 52.8",
          "Species: Chinstrap<br>Island: Dream<br>Flipper_length (mm): 187.0<br>body_mass (g): 3200.0<br>Sex: femaleYear: 2008Bill Length (mm): 40.9",
          "Species: Chinstrap<br>Island: Dream<br>Flipper_length (mm): 201.0<br>body_mass (g): 4300.0<br>Sex: maleYear: 2008Bill Length (mm): 54.2",
          "Species: Chinstrap<br>Island: Dream<br>Flipper_length (mm): 187.0<br>body_mass (g): 3350.0<br>Sex: femaleYear: 2008Bill Length (mm): 42.5",
          "Species: Chinstrap<br>Island: Dream<br>Flipper_length (mm): 203.0<br>body_mass (g): 4100.0<br>Sex: maleYear: 2008Bill Length (mm): 51.0",
          "Species: Chinstrap<br>Island: Dream<br>Flipper_length (mm): 195.0<br>body_mass (g): 3600.0<br>Sex: maleYear: 2008Bill Length (mm): 49.7",
          "Species: Chinstrap<br>Island: Dream<br>Flipper_length (mm): 199.0<br>body_mass (g): 3900.0<br>Sex: femaleYear: 2008Bill Length (mm): 47.5",
          "Species: Chinstrap<br>Island: Dream<br>Flipper_length (mm): 195.0<br>body_mass (g): 3850.0<br>Sex: femaleYear: 2008Bill Length (mm): 47.6",
          "Species: Chinstrap<br>Island: Dream<br>Flipper_length (mm): 210.0<br>body_mass (g): 4800.0<br>Sex: maleYear: 2008Bill Length (mm): 52.0",
          "Species: Chinstrap<br>Island: Dream<br>Flipper_length (mm): 192.0<br>body_mass (g): 2700.0<br>Sex: femaleYear: 2008Bill Length (mm): 46.9",
          "Species: Chinstrap<br>Island: Dream<br>Flipper_length (mm): 205.0<br>body_mass (g): 4500.0<br>Sex: maleYear: 2008Bill Length (mm): 53.5",
          "Species: Chinstrap<br>Island: Dream<br>Flipper_length (mm): 210.0<br>body_mass (g): 3950.0<br>Sex: maleYear: 2008Bill Length (mm): 49.0",
          "Species: Chinstrap<br>Island: Dream<br>Flipper_length (mm): 187.0<br>body_mass (g): 3650.0<br>Sex: femaleYear: 2008Bill Length (mm): 46.2",
          "Species: Chinstrap<br>Island: Dream<br>Flipper_length (mm): 196.0<br>body_mass (g): 3550.0<br>Sex: maleYear: 2008Bill Length (mm): 50.9",
          "Species: Chinstrap<br>Island: Dream<br>Flipper_length (mm): 196.0<br>body_mass (g): 3500.0<br>Sex: femaleYear: 2008Bill Length (mm): 45.5",
          "Species: Chinstrap<br>Island: Dream<br>Flipper_length (mm): 196.0<br>body_mass (g): 3675.0<br>Sex: femaleYear: 2009Bill Length (mm): 50.9",
          "Species: Chinstrap<br>Island: Dream<br>Flipper_length (mm): 201.0<br>body_mass (g): 4450.0<br>Sex: maleYear: 2009Bill Length (mm): 50.8",
          "Species: Chinstrap<br>Island: Dream<br>Flipper_length (mm): 190.0<br>body_mass (g): 3400.0<br>Sex: femaleYear: 2009Bill Length (mm): 50.1",
          "Species: Chinstrap<br>Island: Dream<br>Flipper_length (mm): 212.0<br>body_mass (g): 4300.0<br>Sex: maleYear: 2009Bill Length (mm): 49.0",
          "Species: Chinstrap<br>Island: Dream<br>Flipper_length (mm): 187.0<br>body_mass (g): 3250.0<br>Sex: maleYear: 2009Bill Length (mm): 51.5",
          "Species: Chinstrap<br>Island: Dream<br>Flipper_length (mm): 198.0<br>body_mass (g): 3675.0<br>Sex: femaleYear: 2009Bill Length (mm): 49.8",
          "Species: Chinstrap<br>Island: Dream<br>Flipper_length (mm): 199.0<br>body_mass (g): 3325.0<br>Sex: femaleYear: 2009Bill Length (mm): 48.1",
          "Species: Chinstrap<br>Island: Dream<br>Flipper_length (mm): 201.0<br>body_mass (g): 3950.0<br>Sex: maleYear: 2009Bill Length (mm): 51.4",
          "Species: Chinstrap<br>Island: Dream<br>Flipper_length (mm): 193.0<br>body_mass (g): 3600.0<br>Sex: femaleYear: 2009Bill Length (mm): 45.7",
          "Species: Chinstrap<br>Island: Dream<br>Flipper_length (mm): 203.0<br>body_mass (g): 4050.0<br>Sex: maleYear: 2009Bill Length (mm): 50.7",
          "Species: Chinstrap<br>Island: Dream<br>Flipper_length (mm): 187.0<br>body_mass (g): 3350.0<br>Sex: femaleYear: 2009Bill Length (mm): 42.5",
          "Species: Chinstrap<br>Island: Dream<br>Flipper_length (mm): 197.0<br>body_mass (g): 3450.0<br>Sex: maleYear: 2009Bill Length (mm): 52.2",
          "Species: Chinstrap<br>Island: Dream<br>Flipper_length (mm): 191.0<br>body_mass (g): 3250.0<br>Sex: femaleYear: 2009Bill Length (mm): 45.2",
          "Species: Chinstrap<br>Island: Dream<br>Flipper_length (mm): 203.0<br>body_mass (g): 4050.0<br>Sex: maleYear: 2009Bill Length (mm): 49.3",
          "Species: Chinstrap<br>Island: Dream<br>Flipper_length (mm): 202.0<br>body_mass (g): 3800.0<br>Sex: maleYear: 2009Bill Length (mm): 50.2",
          "Species: Chinstrap<br>Island: Dream<br>Flipper_length (mm): 194.0<br>body_mass (g): 3525.0<br>Sex: femaleYear: 2009Bill Length (mm): 45.6",
          "Species: Chinstrap<br>Island: Dream<br>Flipper_length (mm): 206.0<br>body_mass (g): 3950.0<br>Sex: maleYear: 2009Bill Length (mm): 51.9",
          "Species: Chinstrap<br>Island: Dream<br>Flipper_length (mm): 189.0<br>body_mass (g): 3650.0<br>Sex: femaleYear: 2009Bill Length (mm): 46.8",
          "Species: Chinstrap<br>Island: Dream<br>Flipper_length (mm): 195.0<br>body_mass (g): 3650.0<br>Sex: femaleYear: 2009Bill Length (mm): 45.7",
          "Species: Chinstrap<br>Island: Dream<br>Flipper_length (mm): 207.0<br>body_mass (g): 4000.0<br>Sex: maleYear: 2009Bill Length (mm): 55.8",
          "Species: Chinstrap<br>Island: Dream<br>Flipper_length (mm): 202.0<br>body_mass (g): 3400.0<br>Sex: femaleYear: 2009Bill Length (mm): 43.5",
          "Species: Chinstrap<br>Island: Dream<br>Flipper_length (mm): 193.0<br>body_mass (g): 3775.0<br>Sex: maleYear: 2009Bill Length (mm): 49.6",
          "Species: Chinstrap<br>Island: Dream<br>Flipper_length (mm): 210.0<br>body_mass (g): 4100.0<br>Sex: maleYear: 2009Bill Length (mm): 50.8",
          "Species: Chinstrap<br>Island: Dream<br>Flipper_length (mm): 198.0<br>body_mass (g): 3775.0<br>Sex: femaleYear: 2009Bill Length (mm): 50.2"
         ],
         "type": "scatter",
         "x": [
          192,
          196,
          193,
          188,
          197,
          198,
          178,
          197,
          195,
          198,
          193,
          194,
          185,
          201,
          190,
          201,
          197,
          181,
          190,
          195,
          181,
          191,
          187,
          193,
          195,
          197,
          200,
          200,
          191,
          205,
          187,
          201,
          187,
          203,
          195,
          199,
          195,
          210,
          192,
          205,
          210,
          187,
          196,
          196,
          196,
          201,
          190,
          212,
          187,
          198,
          199,
          201,
          193,
          203,
          187,
          197,
          191,
          203,
          202,
          194,
          206,
          189,
          195,
          207,
          202,
          193,
          210,
          198
         ],
         "y": [
          3500,
          3900,
          3650,
          3525,
          3725,
          3950,
          3250,
          3750,
          4150,
          3700,
          3800,
          3775,
          3700,
          4050,
          3575,
          4050,
          3300,
          3700,
          3450,
          4400,
          3600,
          3400,
          2900,
          3800,
          3300,
          4150,
          3400,
          3800,
          3700,
          4550,
          3200,
          4300,
          3350,
          4100,
          3600,
          3900,
          3850,
          4800,
          2700,
          4500,
          3950,
          3650,
          3550,
          3500,
          3675,
          4450,
          3400,
          4300,
          3250,
          3675,
          3325,
          3950,
          3600,
          4050,
          3350,
          3450,
          3250,
          4050,
          3800,
          3525,
          3950,
          3650,
          3650,
          4000,
          3400,
          3775,
          4100,
          3775
         ]
        },
        {
         "marker": {
          "line": {
           "width": 2
          },
          "size": [
           46.1,
           50,
           48.7,
           50,
           47.6,
           46.5,
           45.4,
           46.7,
           43.3,
           46.8,
           40.9,
           49,
           45.5,
           48.4,
           45.8,
           49.3,
           42,
           49.2,
           46.2,
           48.7,
           50.2,
           45.1,
           46.5,
           46.3,
           42.9,
           46.1,
           44.5,
           47.8,
           48.2,
           50,
           47.3,
           42.8,
           45.1,
           59.6,
           49.1,
           48.4,
           42.6,
           44.4,
           44,
           48.7,
           42.7,
           49.6,
           45.3,
           49.6,
           50.5,
           43.6,
           45.5,
           50.5,
           44.9,
           45.2,
           46.6,
           48.5,
           45.1,
           50.1,
           46.5,
           45,
           43.8,
           45.5,
           43.2,
           50.4,
           45.3,
           46.2,
           45.7,
           54.3,
           45.8,
           49.8,
           46.2,
           49.5,
           43.5,
           50.7,
           47.7,
           46.4,
           48.2,
           46.5,
           46.4,
           48.6,
           47.5,
           51.1,
           45.2,
           45.2,
           49.1,
           52.5,
           47.4,
           50,
           44.9,
           50.8,
           43.4,
           51.3,
           47.5,
           52.1,
           47.5,
           52.2,
           45.5,
           49.5,
           44.5,
           50.8,
           49.4,
           46.9,
           48.4,
           51.1,
           48.5,
           55.9,
           47.2,
           49.1,
           47.3,
           46.8,
           41.7,
           53.4,
           43.3,
           48.1,
           50.5,
           49.8,
           43.5,
           51.5,
           46.2,
           55.1,
           44.5,
           48.8,
           47.2,
           46.8,
           50.4,
           45.2,
           49.9
          ],
          "sizemode": "area",
          "sizeref": 0.2648888888888889
         },
         "mode": "markers",
         "name": "Gentoo",
         "text": [
          "Species: Gentoo<br>Island: Biscoe<br>Flipper_length (mm): 211.0<br>body_mass (g): 4500.0<br>Sex: femaleYear: 2007Bill Length (mm): 46.1",
          "Species: Gentoo<br>Island: Biscoe<br>Flipper_length (mm): 230.0<br>body_mass (g): 5700.0<br>Sex: maleYear: 2007Bill Length (mm): 50.0",
          "Species: Gentoo<br>Island: Biscoe<br>Flipper_length (mm): 210.0<br>body_mass (g): 4450.0<br>Sex: femaleYear: 2007Bill Length (mm): 48.7",
          "Species: Gentoo<br>Island: Biscoe<br>Flipper_length (mm): 218.0<br>body_mass (g): 5700.0<br>Sex: maleYear: 2007Bill Length (mm): 50.0",
          "Species: Gentoo<br>Island: Biscoe<br>Flipper_length (mm): 215.0<br>body_mass (g): 5400.0<br>Sex: maleYear: 2007Bill Length (mm): 47.6",
          "Species: Gentoo<br>Island: Biscoe<br>Flipper_length (mm): 210.0<br>body_mass (g): 4550.0<br>Sex: femaleYear: 2007Bill Length (mm): 46.5",
          "Species: Gentoo<br>Island: Biscoe<br>Flipper_length (mm): 211.0<br>body_mass (g): 4800.0<br>Sex: femaleYear: 2007Bill Length (mm): 45.4",
          "Species: Gentoo<br>Island: Biscoe<br>Flipper_length (mm): 219.0<br>body_mass (g): 5200.0<br>Sex: maleYear: 2007Bill Length (mm): 46.7",
          "Species: Gentoo<br>Island: Biscoe<br>Flipper_length (mm): 209.0<br>body_mass (g): 4400.0<br>Sex: femaleYear: 2007Bill Length (mm): 43.3",
          "Species: Gentoo<br>Island: Biscoe<br>Flipper_length (mm): 215.0<br>body_mass (g): 5150.0<br>Sex: maleYear: 2007Bill Length (mm): 46.8",
          "Species: Gentoo<br>Island: Biscoe<br>Flipper_length (mm): 214.0<br>body_mass (g): 4650.0<br>Sex: femaleYear: 2007Bill Length (mm): 40.9",
          "Species: Gentoo<br>Island: Biscoe<br>Flipper_length (mm): 216.0<br>body_mass (g): 5550.0<br>Sex: maleYear: 2007Bill Length (mm): 49.0",
          "Species: Gentoo<br>Island: Biscoe<br>Flipper_length (mm): 214.0<br>body_mass (g): 4650.0<br>Sex: femaleYear: 2007Bill Length (mm): 45.5",
          "Species: Gentoo<br>Island: Biscoe<br>Flipper_length (mm): 213.0<br>body_mass (g): 5850.0<br>Sex: maleYear: 2007Bill Length (mm): 48.4",
          "Species: Gentoo<br>Island: Biscoe<br>Flipper_length (mm): 210.0<br>body_mass (g): 4200.0<br>Sex: femaleYear: 2007Bill Length (mm): 45.8",
          "Species: Gentoo<br>Island: Biscoe<br>Flipper_length (mm): 217.0<br>body_mass (g): 5850.0<br>Sex: maleYear: 2007Bill Length (mm): 49.3",
          "Species: Gentoo<br>Island: Biscoe<br>Flipper_length (mm): 210.0<br>body_mass (g): 4150.0<br>Sex: femaleYear: 2007Bill Length (mm): 42.0",
          "Species: Gentoo<br>Island: Biscoe<br>Flipper_length (mm): 221.0<br>body_mass (g): 6300.0<br>Sex: maleYear: 2007Bill Length (mm): 49.2",
          "Species: Gentoo<br>Island: Biscoe<br>Flipper_length (mm): 209.0<br>body_mass (g): 4800.0<br>Sex: femaleYear: 2007Bill Length (mm): 46.2",
          "Species: Gentoo<br>Island: Biscoe<br>Flipper_length (mm): 222.0<br>body_mass (g): 5350.0<br>Sex: maleYear: 2007Bill Length (mm): 48.7",
          "Species: Gentoo<br>Island: Biscoe<br>Flipper_length (mm): 218.0<br>body_mass (g): 5700.0<br>Sex: maleYear: 2007Bill Length (mm): 50.2",
          "Species: Gentoo<br>Island: Biscoe<br>Flipper_length (mm): 215.0<br>body_mass (g): 5000.0<br>Sex: femaleYear: 2007Bill Length (mm): 45.1",
          "Species: Gentoo<br>Island: Biscoe<br>Flipper_length (mm): 213.0<br>body_mass (g): 4400.0<br>Sex: femaleYear: 2007Bill Length (mm): 46.5",
          "Species: Gentoo<br>Island: Biscoe<br>Flipper_length (mm): 215.0<br>body_mass (g): 5050.0<br>Sex: maleYear: 2007Bill Length (mm): 46.3",
          "Species: Gentoo<br>Island: Biscoe<br>Flipper_length (mm): 215.0<br>body_mass (g): 5000.0<br>Sex: femaleYear: 2007Bill Length (mm): 42.9",
          "Species: Gentoo<br>Island: Biscoe<br>Flipper_length (mm): 215.0<br>body_mass (g): 5100.0<br>Sex: maleYear: 2007Bill Length (mm): 46.1",
          "Species: Gentoo<br>Island: Biscoe<br>Flipper_length (mm): 216.0<br>body_mass (g): 4100.0<br>Sex: nanYear: 2007Bill Length (mm): 44.5",
          "Species: Gentoo<br>Island: Biscoe<br>Flipper_length (mm): 215.0<br>body_mass (g): 5650.0<br>Sex: maleYear: 2007Bill Length (mm): 47.8",
          "Species: Gentoo<br>Island: Biscoe<br>Flipper_length (mm): 210.0<br>body_mass (g): 4600.0<br>Sex: femaleYear: 2007Bill Length (mm): 48.2",
          "Species: Gentoo<br>Island: Biscoe<br>Flipper_length (mm): 220.0<br>body_mass (g): 5550.0<br>Sex: maleYear: 2007Bill Length (mm): 50.0",
          "Species: Gentoo<br>Island: Biscoe<br>Flipper_length (mm): 222.0<br>body_mass (g): 5250.0<br>Sex: maleYear: 2007Bill Length (mm): 47.3",
          "Species: Gentoo<br>Island: Biscoe<br>Flipper_length (mm): 209.0<br>body_mass (g): 4700.0<br>Sex: femaleYear: 2007Bill Length (mm): 42.8",
          "Species: Gentoo<br>Island: Biscoe<br>Flipper_length (mm): 207.0<br>body_mass (g): 5050.0<br>Sex: femaleYear: 2007Bill Length (mm): 45.1",
          "Species: Gentoo<br>Island: Biscoe<br>Flipper_length (mm): 230.0<br>body_mass (g): 6050.0<br>Sex: maleYear: 2007Bill Length (mm): 59.6",
          "Species: Gentoo<br>Island: Biscoe<br>Flipper_length (mm): 220.0<br>body_mass (g): 5150.0<br>Sex: femaleYear: 2008Bill Length (mm): 49.1",
          "Species: Gentoo<br>Island: Biscoe<br>Flipper_length (mm): 220.0<br>body_mass (g): 5400.0<br>Sex: maleYear: 2008Bill Length (mm): 48.4",
          "Species: Gentoo<br>Island: Biscoe<br>Flipper_length (mm): 213.0<br>body_mass (g): 4950.0<br>Sex: femaleYear: 2008Bill Length (mm): 42.6",
          "Species: Gentoo<br>Island: Biscoe<br>Flipper_length (mm): 219.0<br>body_mass (g): 5250.0<br>Sex: maleYear: 2008Bill Length (mm): 44.4",
          "Species: Gentoo<br>Island: Biscoe<br>Flipper_length (mm): 208.0<br>body_mass (g): 4350.0<br>Sex: femaleYear: 2008Bill Length (mm): 44.0",
          "Species: Gentoo<br>Island: Biscoe<br>Flipper_length (mm): 208.0<br>body_mass (g): 5350.0<br>Sex: maleYear: 2008Bill Length (mm): 48.7",
          "Species: Gentoo<br>Island: Biscoe<br>Flipper_length (mm): 208.0<br>body_mass (g): 3950.0<br>Sex: femaleYear: 2008Bill Length (mm): 42.7",
          "Species: Gentoo<br>Island: Biscoe<br>Flipper_length (mm): 225.0<br>body_mass (g): 5700.0<br>Sex: maleYear: 2008Bill Length (mm): 49.6",
          "Species: Gentoo<br>Island: Biscoe<br>Flipper_length (mm): 210.0<br>body_mass (g): 4300.0<br>Sex: femaleYear: 2008Bill Length (mm): 45.3",
          "Species: Gentoo<br>Island: Biscoe<br>Flipper_length (mm): 216.0<br>body_mass (g): 4750.0<br>Sex: maleYear: 2008Bill Length (mm): 49.6",
          "Species: Gentoo<br>Island: Biscoe<br>Flipper_length (mm): 222.0<br>body_mass (g): 5550.0<br>Sex: maleYear: 2008Bill Length (mm): 50.5",
          "Species: Gentoo<br>Island: Biscoe<br>Flipper_length (mm): 217.0<br>body_mass (g): 4900.0<br>Sex: femaleYear: 2008Bill Length (mm): 43.6",
          "Species: Gentoo<br>Island: Biscoe<br>Flipper_length (mm): 210.0<br>body_mass (g): 4200.0<br>Sex: femaleYear: 2008Bill Length (mm): 45.5",
          "Species: Gentoo<br>Island: Biscoe<br>Flipper_length (mm): 225.0<br>body_mass (g): 5400.0<br>Sex: maleYear: 2008Bill Length (mm): 50.5",
          "Species: Gentoo<br>Island: Biscoe<br>Flipper_length (mm): 213.0<br>body_mass (g): 5100.0<br>Sex: femaleYear: 2008Bill Length (mm): 44.9",
          "Species: Gentoo<br>Island: Biscoe<br>Flipper_length (mm): 215.0<br>body_mass (g): 5300.0<br>Sex: maleYear: 2008Bill Length (mm): 45.2",
          "Species: Gentoo<br>Island: Biscoe<br>Flipper_length (mm): 210.0<br>body_mass (g): 4850.0<br>Sex: femaleYear: 2008Bill Length (mm): 46.6",
          "Species: Gentoo<br>Island: Biscoe<br>Flipper_length (mm): 220.0<br>body_mass (g): 5300.0<br>Sex: maleYear: 2008Bill Length (mm): 48.5",
          "Species: Gentoo<br>Island: Biscoe<br>Flipper_length (mm): 210.0<br>body_mass (g): 4400.0<br>Sex: femaleYear: 2008Bill Length (mm): 45.1",
          "Species: Gentoo<br>Island: Biscoe<br>Flipper_length (mm): 225.0<br>body_mass (g): 5000.0<br>Sex: maleYear: 2008Bill Length (mm): 50.1",
          "Species: Gentoo<br>Island: Biscoe<br>Flipper_length (mm): 217.0<br>body_mass (g): 4900.0<br>Sex: femaleYear: 2008Bill Length (mm): 46.5",
          "Species: Gentoo<br>Island: Biscoe<br>Flipper_length (mm): 220.0<br>body_mass (g): 5050.0<br>Sex: maleYear: 2008Bill Length (mm): 45.0",
          "Species: Gentoo<br>Island: Biscoe<br>Flipper_length (mm): 208.0<br>body_mass (g): 4300.0<br>Sex: femaleYear: 2008Bill Length (mm): 43.8",
          "Species: Gentoo<br>Island: Biscoe<br>Flipper_length (mm): 220.0<br>body_mass (g): 5000.0<br>Sex: maleYear: 2008Bill Length (mm): 45.5",
          "Species: Gentoo<br>Island: Biscoe<br>Flipper_length (mm): 208.0<br>body_mass (g): 4450.0<br>Sex: femaleYear: 2008Bill Length (mm): 43.2",
          "Species: Gentoo<br>Island: Biscoe<br>Flipper_length (mm): 224.0<br>body_mass (g): 5550.0<br>Sex: maleYear: 2008Bill Length (mm): 50.4",
          "Species: Gentoo<br>Island: Biscoe<br>Flipper_length (mm): 208.0<br>body_mass (g): 4200.0<br>Sex: femaleYear: 2008Bill Length (mm): 45.3",
          "Species: Gentoo<br>Island: Biscoe<br>Flipper_length (mm): 221.0<br>body_mass (g): 5300.0<br>Sex: maleYear: 2008Bill Length (mm): 46.2",
          "Species: Gentoo<br>Island: Biscoe<br>Flipper_length (mm): 214.0<br>body_mass (g): 4400.0<br>Sex: femaleYear: 2008Bill Length (mm): 45.7",
          "Species: Gentoo<br>Island: Biscoe<br>Flipper_length (mm): 231.0<br>body_mass (g): 5650.0<br>Sex: maleYear: 2008Bill Length (mm): 54.3",
          "Species: Gentoo<br>Island: Biscoe<br>Flipper_length (mm): 219.0<br>body_mass (g): 4700.0<br>Sex: femaleYear: 2008Bill Length (mm): 45.8",
          "Species: Gentoo<br>Island: Biscoe<br>Flipper_length (mm): 230.0<br>body_mass (g): 5700.0<br>Sex: maleYear: 2008Bill Length (mm): 49.8",
          "Species: Gentoo<br>Island: Biscoe<br>Flipper_length (mm): 214.0<br>body_mass (g): 4650.0<br>Sex: nanYear: 2008Bill Length (mm): 46.2",
          "Species: Gentoo<br>Island: Biscoe<br>Flipper_length (mm): 229.0<br>body_mass (g): 5800.0<br>Sex: maleYear: 2008Bill Length (mm): 49.5",
          "Species: Gentoo<br>Island: Biscoe<br>Flipper_length (mm): 220.0<br>body_mass (g): 4700.0<br>Sex: femaleYear: 2008Bill Length (mm): 43.5",
          "Species: Gentoo<br>Island: Biscoe<br>Flipper_length (mm): 223.0<br>body_mass (g): 5550.0<br>Sex: maleYear: 2008Bill Length (mm): 50.7",
          "Species: Gentoo<br>Island: Biscoe<br>Flipper_length (mm): 216.0<br>body_mass (g): 4750.0<br>Sex: femaleYear: 2008Bill Length (mm): 47.7",
          "Species: Gentoo<br>Island: Biscoe<br>Flipper_length (mm): 221.0<br>body_mass (g): 5000.0<br>Sex: maleYear: 2008Bill Length (mm): 46.4",
          "Species: Gentoo<br>Island: Biscoe<br>Flipper_length (mm): 221.0<br>body_mass (g): 5100.0<br>Sex: maleYear: 2008Bill Length (mm): 48.2",
          "Species: Gentoo<br>Island: Biscoe<br>Flipper_length (mm): 217.0<br>body_mass (g): 5200.0<br>Sex: femaleYear: 2008Bill Length (mm): 46.5",
          "Species: Gentoo<br>Island: Biscoe<br>Flipper_length (mm): 216.0<br>body_mass (g): 4700.0<br>Sex: femaleYear: 2008Bill Length (mm): 46.4",
          "Species: Gentoo<br>Island: Biscoe<br>Flipper_length (mm): 230.0<br>body_mass (g): 5800.0<br>Sex: maleYear: 2008Bill Length (mm): 48.6",
          "Species: Gentoo<br>Island: Biscoe<br>Flipper_length (mm): 209.0<br>body_mass (g): 4600.0<br>Sex: femaleYear: 2008Bill Length (mm): 47.5",
          "Species: Gentoo<br>Island: Biscoe<br>Flipper_length (mm): 220.0<br>body_mass (g): 6000.0<br>Sex: maleYear: 2008Bill Length (mm): 51.1",
          "Species: Gentoo<br>Island: Biscoe<br>Flipper_length (mm): 215.0<br>body_mass (g): 4750.0<br>Sex: femaleYear: 2008Bill Length (mm): 45.2",
          "Species: Gentoo<br>Island: Biscoe<br>Flipper_length (mm): 223.0<br>body_mass (g): 5950.0<br>Sex: maleYear: 2008Bill Length (mm): 45.2",
          "Species: Gentoo<br>Island: Biscoe<br>Flipper_length (mm): 212.0<br>body_mass (g): 4625.0<br>Sex: femaleYear: 2009Bill Length (mm): 49.1",
          "Species: Gentoo<br>Island: Biscoe<br>Flipper_length (mm): 221.0<br>body_mass (g): 5450.0<br>Sex: maleYear: 2009Bill Length (mm): 52.5",
          "Species: Gentoo<br>Island: Biscoe<br>Flipper_length (mm): 212.0<br>body_mass (g): 4725.0<br>Sex: femaleYear: 2009Bill Length (mm): 47.4",
          "Species: Gentoo<br>Island: Biscoe<br>Flipper_length (mm): 224.0<br>body_mass (g): 5350.0<br>Sex: maleYear: 2009Bill Length (mm): 50.0",
          "Species: Gentoo<br>Island: Biscoe<br>Flipper_length (mm): 212.0<br>body_mass (g): 4750.0<br>Sex: femaleYear: 2009Bill Length (mm): 44.9",
          "Species: Gentoo<br>Island: Biscoe<br>Flipper_length (mm): 228.0<br>body_mass (g): 5600.0<br>Sex: maleYear: 2009Bill Length (mm): 50.8",
          "Species: Gentoo<br>Island: Biscoe<br>Flipper_length (mm): 218.0<br>body_mass (g): 4600.0<br>Sex: femaleYear: 2009Bill Length (mm): 43.4",
          "Species: Gentoo<br>Island: Biscoe<br>Flipper_length (mm): 218.0<br>body_mass (g): 5300.0<br>Sex: maleYear: 2009Bill Length (mm): 51.3",
          "Species: Gentoo<br>Island: Biscoe<br>Flipper_length (mm): 212.0<br>body_mass (g): 4875.0<br>Sex: femaleYear: 2009Bill Length (mm): 47.5",
          "Species: Gentoo<br>Island: Biscoe<br>Flipper_length (mm): 230.0<br>body_mass (g): 5550.0<br>Sex: maleYear: 2009Bill Length (mm): 52.1",
          "Species: Gentoo<br>Island: Biscoe<br>Flipper_length (mm): 218.0<br>body_mass (g): 4950.0<br>Sex: femaleYear: 2009Bill Length (mm): 47.5",
          "Species: Gentoo<br>Island: Biscoe<br>Flipper_length (mm): 228.0<br>body_mass (g): 5400.0<br>Sex: maleYear: 2009Bill Length (mm): 52.2",
          "Species: Gentoo<br>Island: Biscoe<br>Flipper_length (mm): 212.0<br>body_mass (g): 4750.0<br>Sex: femaleYear: 2009Bill Length (mm): 45.5",
          "Species: Gentoo<br>Island: Biscoe<br>Flipper_length (mm): 224.0<br>body_mass (g): 5650.0<br>Sex: maleYear: 2009Bill Length (mm): 49.5",
          "Species: Gentoo<br>Island: Biscoe<br>Flipper_length (mm): 214.0<br>body_mass (g): 4850.0<br>Sex: femaleYear: 2009Bill Length (mm): 44.5",
          "Species: Gentoo<br>Island: Biscoe<br>Flipper_length (mm): 226.0<br>body_mass (g): 5200.0<br>Sex: maleYear: 2009Bill Length (mm): 50.8",
          "Species: Gentoo<br>Island: Biscoe<br>Flipper_length (mm): 216.0<br>body_mass (g): 4925.0<br>Sex: maleYear: 2009Bill Length (mm): 49.4",
          "Species: Gentoo<br>Island: Biscoe<br>Flipper_length (mm): 222.0<br>body_mass (g): 4875.0<br>Sex: femaleYear: 2009Bill Length (mm): 46.9",
          "Species: Gentoo<br>Island: Biscoe<br>Flipper_length (mm): 203.0<br>body_mass (g): 4625.0<br>Sex: femaleYear: 2009Bill Length (mm): 48.4",
          "Species: Gentoo<br>Island: Biscoe<br>Flipper_length (mm): 225.0<br>body_mass (g): 5250.0<br>Sex: maleYear: 2009Bill Length (mm): 51.1",
          "Species: Gentoo<br>Island: Biscoe<br>Flipper_length (mm): 219.0<br>body_mass (g): 4850.0<br>Sex: femaleYear: 2009Bill Length (mm): 48.5",
          "Species: Gentoo<br>Island: Biscoe<br>Flipper_length (mm): 228.0<br>body_mass (g): 5600.0<br>Sex: maleYear: 2009Bill Length (mm): 55.9",
          "Species: Gentoo<br>Island: Biscoe<br>Flipper_length (mm): 215.0<br>body_mass (g): 4975.0<br>Sex: femaleYear: 2009Bill Length (mm): 47.2",
          "Species: Gentoo<br>Island: Biscoe<br>Flipper_length (mm): 228.0<br>body_mass (g): 5500.0<br>Sex: maleYear: 2009Bill Length (mm): 49.1",
          "Species: Gentoo<br>Island: Biscoe<br>Flipper_length (mm): 216.0<br>body_mass (g): 4725.0<br>Sex: nanYear: 2009Bill Length (mm): 47.3",
          "Species: Gentoo<br>Island: Biscoe<br>Flipper_length (mm): 215.0<br>body_mass (g): 5500.0<br>Sex: maleYear: 2009Bill Length (mm): 46.8",
          "Species: Gentoo<br>Island: Biscoe<br>Flipper_length (mm): 210.0<br>body_mass (g): 4700.0<br>Sex: femaleYear: 2009Bill Length (mm): 41.7",
          "Species: Gentoo<br>Island: Biscoe<br>Flipper_length (mm): 219.0<br>body_mass (g): 5500.0<br>Sex: maleYear: 2009Bill Length (mm): 53.4",
          "Species: Gentoo<br>Island: Biscoe<br>Flipper_length (mm): 208.0<br>body_mass (g): 4575.0<br>Sex: femaleYear: 2009Bill Length (mm): 43.3",
          "Species: Gentoo<br>Island: Biscoe<br>Flipper_length (mm): 209.0<br>body_mass (g): 5500.0<br>Sex: maleYear: 2009Bill Length (mm): 48.1",
          "Species: Gentoo<br>Island: Biscoe<br>Flipper_length (mm): 216.0<br>body_mass (g): 5000.0<br>Sex: femaleYear: 2009Bill Length (mm): 50.5",
          "Species: Gentoo<br>Island: Biscoe<br>Flipper_length (mm): 229.0<br>body_mass (g): 5950.0<br>Sex: maleYear: 2009Bill Length (mm): 49.8",
          "Species: Gentoo<br>Island: Biscoe<br>Flipper_length (mm): 213.0<br>body_mass (g): 4650.0<br>Sex: femaleYear: 2009Bill Length (mm): 43.5",
          "Species: Gentoo<br>Island: Biscoe<br>Flipper_length (mm): 230.0<br>body_mass (g): 5500.0<br>Sex: maleYear: 2009Bill Length (mm): 51.5",
          "Species: Gentoo<br>Island: Biscoe<br>Flipper_length (mm): 217.0<br>body_mass (g): 4375.0<br>Sex: femaleYear: 2009Bill Length (mm): 46.2",
          "Species: Gentoo<br>Island: Biscoe<br>Flipper_length (mm): 230.0<br>body_mass (g): 5850.0<br>Sex: maleYear: 2009Bill Length (mm): 55.1",
          "Species: Gentoo<br>Island: Biscoe<br>Flipper_length (mm): 217.0<br>body_mass (g): 4875.0<br>Sex: nanYear: 2009Bill Length (mm): 44.5",
          "Species: Gentoo<br>Island: Biscoe<br>Flipper_length (mm): 222.0<br>body_mass (g): 6000.0<br>Sex: maleYear: 2009Bill Length (mm): 48.8",
          "Species: Gentoo<br>Island: Biscoe<br>Flipper_length (mm): 214.0<br>body_mass (g): 4925.0<br>Sex: femaleYear: 2009Bill Length (mm): 47.2",
          "Species: Gentoo<br>Island: Biscoe<br>Flipper_length (mm): 215.0<br>body_mass (g): 4850.0<br>Sex: femaleYear: 2009Bill Length (mm): 46.8",
          "Species: Gentoo<br>Island: Biscoe<br>Flipper_length (mm): 222.0<br>body_mass (g): 5750.0<br>Sex: maleYear: 2009Bill Length (mm): 50.4",
          "Species: Gentoo<br>Island: Biscoe<br>Flipper_length (mm): 212.0<br>body_mass (g): 5200.0<br>Sex: femaleYear: 2009Bill Length (mm): 45.2",
          "Species: Gentoo<br>Island: Biscoe<br>Flipper_length (mm): 213.0<br>body_mass (g): 5400.0<br>Sex: maleYear: 2009Bill Length (mm): 49.9"
         ],
         "type": "scatter",
         "x": [
          211,
          230,
          210,
          218,
          215,
          210,
          211,
          219,
          209,
          215,
          214,
          216,
          214,
          213,
          210,
          217,
          210,
          221,
          209,
          222,
          218,
          215,
          213,
          215,
          215,
          215,
          216,
          215,
          210,
          220,
          222,
          209,
          207,
          230,
          220,
          220,
          213,
          219,
          208,
          208,
          208,
          225,
          210,
          216,
          222,
          217,
          210,
          225,
          213,
          215,
          210,
          220,
          210,
          225,
          217,
          220,
          208,
          220,
          208,
          224,
          208,
          221,
          214,
          231,
          219,
          230,
          214,
          229,
          220,
          223,
          216,
          221,
          221,
          217,
          216,
          230,
          209,
          220,
          215,
          223,
          212,
          221,
          212,
          224,
          212,
          228,
          218,
          218,
          212,
          230,
          218,
          228,
          212,
          224,
          214,
          226,
          216,
          222,
          203,
          225,
          219,
          228,
          215,
          228,
          216,
          215,
          210,
          219,
          208,
          209,
          216,
          229,
          213,
          230,
          217,
          230,
          217,
          222,
          214,
          215,
          222,
          212,
          213
         ],
         "y": [
          4500,
          5700,
          4450,
          5700,
          5400,
          4550,
          4800,
          5200,
          4400,
          5150,
          4650,
          5550,
          4650,
          5850,
          4200,
          5850,
          4150,
          6300,
          4800,
          5350,
          5700,
          5000,
          4400,
          5050,
          5000,
          5100,
          4100,
          5650,
          4600,
          5550,
          5250,
          4700,
          5050,
          6050,
          5150,
          5400,
          4950,
          5250,
          4350,
          5350,
          3950,
          5700,
          4300,
          4750,
          5550,
          4900,
          4200,
          5400,
          5100,
          5300,
          4850,
          5300,
          4400,
          5000,
          4900,
          5050,
          4300,
          5000,
          4450,
          5550,
          4200,
          5300,
          4400,
          5650,
          4700,
          5700,
          4650,
          5800,
          4700,
          5550,
          4750,
          5000,
          5100,
          5200,
          4700,
          5800,
          4600,
          6000,
          4750,
          5950,
          4625,
          5450,
          4725,
          5350,
          4750,
          5600,
          4600,
          5300,
          4875,
          5550,
          4950,
          5400,
          4750,
          5650,
          4850,
          5200,
          4925,
          4875,
          4625,
          5250,
          4850,
          5600,
          4975,
          5500,
          4725,
          5500,
          4700,
          5500,
          4575,
          5500,
          5000,
          5950,
          4650,
          5500,
          4375,
          5850,
          4875,
          6000,
          4925,
          4850,
          5750,
          5200,
          5400
         ]
        }
       ],
       "layout": {
        "plot_bgcolor": "rgb(243, 243, 243)",
        "template": {
         "data": {
          "bar": [
           {
            "error_x": {
             "color": "#2a3f5f"
            },
            "error_y": {
             "color": "#2a3f5f"
            },
            "marker": {
             "line": {
              "color": "#E5ECF6",
              "width": 0.5
             },
             "pattern": {
              "fillmode": "overlay",
              "size": 10,
              "solidity": 0.2
             }
            },
            "type": "bar"
           }
          ],
          "barpolar": [
           {
            "marker": {
             "line": {
              "color": "#E5ECF6",
              "width": 0.5
             },
             "pattern": {
              "fillmode": "overlay",
              "size": 10,
              "solidity": 0.2
             }
            },
            "type": "barpolar"
           }
          ],
          "carpet": [
           {
            "aaxis": {
             "endlinecolor": "#2a3f5f",
             "gridcolor": "white",
             "linecolor": "white",
             "minorgridcolor": "white",
             "startlinecolor": "#2a3f5f"
            },
            "baxis": {
             "endlinecolor": "#2a3f5f",
             "gridcolor": "white",
             "linecolor": "white",
             "minorgridcolor": "white",
             "startlinecolor": "#2a3f5f"
            },
            "type": "carpet"
           }
          ],
          "choropleth": [
           {
            "colorbar": {
             "outlinewidth": 0,
             "ticks": ""
            },
            "type": "choropleth"
           }
          ],
          "contour": [
           {
            "colorbar": {
             "outlinewidth": 0,
             "ticks": ""
            },
            "colorscale": [
             [
              0,
              "#0d0887"
             ],
             [
              0.1111111111111111,
              "#46039f"
             ],
             [
              0.2222222222222222,
              "#7201a8"
             ],
             [
              0.3333333333333333,
              "#9c179e"
             ],
             [
              0.4444444444444444,
              "#bd3786"
             ],
             [
              0.5555555555555556,
              "#d8576b"
             ],
             [
              0.6666666666666666,
              "#ed7953"
             ],
             [
              0.7777777777777778,
              "#fb9f3a"
             ],
             [
              0.8888888888888888,
              "#fdca26"
             ],
             [
              1,
              "#f0f921"
             ]
            ],
            "type": "contour"
           }
          ],
          "contourcarpet": [
           {
            "colorbar": {
             "outlinewidth": 0,
             "ticks": ""
            },
            "type": "contourcarpet"
           }
          ],
          "heatmap": [
           {
            "colorbar": {
             "outlinewidth": 0,
             "ticks": ""
            },
            "colorscale": [
             [
              0,
              "#0d0887"
             ],
             [
              0.1111111111111111,
              "#46039f"
             ],
             [
              0.2222222222222222,
              "#7201a8"
             ],
             [
              0.3333333333333333,
              "#9c179e"
             ],
             [
              0.4444444444444444,
              "#bd3786"
             ],
             [
              0.5555555555555556,
              "#d8576b"
             ],
             [
              0.6666666666666666,
              "#ed7953"
             ],
             [
              0.7777777777777778,
              "#fb9f3a"
             ],
             [
              0.8888888888888888,
              "#fdca26"
             ],
             [
              1,
              "#f0f921"
             ]
            ],
            "type": "heatmap"
           }
          ],
          "heatmapgl": [
           {
            "colorbar": {
             "outlinewidth": 0,
             "ticks": ""
            },
            "colorscale": [
             [
              0,
              "#0d0887"
             ],
             [
              0.1111111111111111,
              "#46039f"
             ],
             [
              0.2222222222222222,
              "#7201a8"
             ],
             [
              0.3333333333333333,
              "#9c179e"
             ],
             [
              0.4444444444444444,
              "#bd3786"
             ],
             [
              0.5555555555555556,
              "#d8576b"
             ],
             [
              0.6666666666666666,
              "#ed7953"
             ],
             [
              0.7777777777777778,
              "#fb9f3a"
             ],
             [
              0.8888888888888888,
              "#fdca26"
             ],
             [
              1,
              "#f0f921"
             ]
            ],
            "type": "heatmapgl"
           }
          ],
          "histogram": [
           {
            "marker": {
             "pattern": {
              "fillmode": "overlay",
              "size": 10,
              "solidity": 0.2
             }
            },
            "type": "histogram"
           }
          ],
          "histogram2d": [
           {
            "colorbar": {
             "outlinewidth": 0,
             "ticks": ""
            },
            "colorscale": [
             [
              0,
              "#0d0887"
             ],
             [
              0.1111111111111111,
              "#46039f"
             ],
             [
              0.2222222222222222,
              "#7201a8"
             ],
             [
              0.3333333333333333,
              "#9c179e"
             ],
             [
              0.4444444444444444,
              "#bd3786"
             ],
             [
              0.5555555555555556,
              "#d8576b"
             ],
             [
              0.6666666666666666,
              "#ed7953"
             ],
             [
              0.7777777777777778,
              "#fb9f3a"
             ],
             [
              0.8888888888888888,
              "#fdca26"
             ],
             [
              1,
              "#f0f921"
             ]
            ],
            "type": "histogram2d"
           }
          ],
          "histogram2dcontour": [
           {
            "colorbar": {
             "outlinewidth": 0,
             "ticks": ""
            },
            "colorscale": [
             [
              0,
              "#0d0887"
             ],
             [
              0.1111111111111111,
              "#46039f"
             ],
             [
              0.2222222222222222,
              "#7201a8"
             ],
             [
              0.3333333333333333,
              "#9c179e"
             ],
             [
              0.4444444444444444,
              "#bd3786"
             ],
             [
              0.5555555555555556,
              "#d8576b"
             ],
             [
              0.6666666666666666,
              "#ed7953"
             ],
             [
              0.7777777777777778,
              "#fb9f3a"
             ],
             [
              0.8888888888888888,
              "#fdca26"
             ],
             [
              1,
              "#f0f921"
             ]
            ],
            "type": "histogram2dcontour"
           }
          ],
          "mesh3d": [
           {
            "colorbar": {
             "outlinewidth": 0,
             "ticks": ""
            },
            "type": "mesh3d"
           }
          ],
          "parcoords": [
           {
            "line": {
             "colorbar": {
              "outlinewidth": 0,
              "ticks": ""
             }
            },
            "type": "parcoords"
           }
          ],
          "pie": [
           {
            "automargin": true,
            "type": "pie"
           }
          ],
          "scatter": [
           {
            "fillpattern": {
             "fillmode": "overlay",
             "size": 10,
             "solidity": 0.2
            },
            "type": "scatter"
           }
          ],
          "scatter3d": [
           {
            "line": {
             "colorbar": {
              "outlinewidth": 0,
              "ticks": ""
             }
            },
            "marker": {
             "colorbar": {
              "outlinewidth": 0,
              "ticks": ""
             }
            },
            "type": "scatter3d"
           }
          ],
          "scattercarpet": [
           {
            "marker": {
             "colorbar": {
              "outlinewidth": 0,
              "ticks": ""
             }
            },
            "type": "scattercarpet"
           }
          ],
          "scattergeo": [
           {
            "marker": {
             "colorbar": {
              "outlinewidth": 0,
              "ticks": ""
             }
            },
            "type": "scattergeo"
           }
          ],
          "scattergl": [
           {
            "marker": {
             "colorbar": {
              "outlinewidth": 0,
              "ticks": ""
             }
            },
            "type": "scattergl"
           }
          ],
          "scattermapbox": [
           {
            "marker": {
             "colorbar": {
              "outlinewidth": 0,
              "ticks": ""
             }
            },
            "type": "scattermapbox"
           }
          ],
          "scatterpolar": [
           {
            "marker": {
             "colorbar": {
              "outlinewidth": 0,
              "ticks": ""
             }
            },
            "type": "scatterpolar"
           }
          ],
          "scatterpolargl": [
           {
            "marker": {
             "colorbar": {
              "outlinewidth": 0,
              "ticks": ""
             }
            },
            "type": "scatterpolargl"
           }
          ],
          "scatterternary": [
           {
            "marker": {
             "colorbar": {
              "outlinewidth": 0,
              "ticks": ""
             }
            },
            "type": "scatterternary"
           }
          ],
          "surface": [
           {
            "colorbar": {
             "outlinewidth": 0,
             "ticks": ""
            },
            "colorscale": [
             [
              0,
              "#0d0887"
             ],
             [
              0.1111111111111111,
              "#46039f"
             ],
             [
              0.2222222222222222,
              "#7201a8"
             ],
             [
              0.3333333333333333,
              "#9c179e"
             ],
             [
              0.4444444444444444,
              "#bd3786"
             ],
             [
              0.5555555555555556,
              "#d8576b"
             ],
             [
              0.6666666666666666,
              "#ed7953"
             ],
             [
              0.7777777777777778,
              "#fb9f3a"
             ],
             [
              0.8888888888888888,
              "#fdca26"
             ],
             [
              1,
              "#f0f921"
             ]
            ],
            "type": "surface"
           }
          ],
          "table": [
           {
            "cells": {
             "fill": {
              "color": "#EBF0F8"
             },
             "line": {
              "color": "white"
             }
            },
            "header": {
             "fill": {
              "color": "#C8D4E3"
             },
             "line": {
              "color": "white"
             }
            },
            "type": "table"
           }
          ]
         },
         "layout": {
          "annotationdefaults": {
           "arrowcolor": "#2a3f5f",
           "arrowhead": 0,
           "arrowwidth": 1
          },
          "autotypenumbers": "strict",
          "coloraxis": {
           "colorbar": {
            "outlinewidth": 0,
            "ticks": ""
           }
          },
          "colorscale": {
           "diverging": [
            [
             0,
             "#8e0152"
            ],
            [
             0.1,
             "#c51b7d"
            ],
            [
             0.2,
             "#de77ae"
            ],
            [
             0.3,
             "#f1b6da"
            ],
            [
             0.4,
             "#fde0ef"
            ],
            [
             0.5,
             "#f7f7f7"
            ],
            [
             0.6,
             "#e6f5d0"
            ],
            [
             0.7,
             "#b8e186"
            ],
            [
             0.8,
             "#7fbc41"
            ],
            [
             0.9,
             "#4d9221"
            ],
            [
             1,
             "#276419"
            ]
           ],
           "sequential": [
            [
             0,
             "#0d0887"
            ],
            [
             0.1111111111111111,
             "#46039f"
            ],
            [
             0.2222222222222222,
             "#7201a8"
            ],
            [
             0.3333333333333333,
             "#9c179e"
            ],
            [
             0.4444444444444444,
             "#bd3786"
            ],
            [
             0.5555555555555556,
             "#d8576b"
            ],
            [
             0.6666666666666666,
             "#ed7953"
            ],
            [
             0.7777777777777778,
             "#fb9f3a"
            ],
            [
             0.8888888888888888,
             "#fdca26"
            ],
            [
             1,
             "#f0f921"
            ]
           ],
           "sequentialminus": [
            [
             0,
             "#0d0887"
            ],
            [
             0.1111111111111111,
             "#46039f"
            ],
            [
             0.2222222222222222,
             "#7201a8"
            ],
            [
             0.3333333333333333,
             "#9c179e"
            ],
            [
             0.4444444444444444,
             "#bd3786"
            ],
            [
             0.5555555555555556,
             "#d8576b"
            ],
            [
             0.6666666666666666,
             "#ed7953"
            ],
            [
             0.7777777777777778,
             "#fb9f3a"
            ],
            [
             0.8888888888888888,
             "#fdca26"
            ],
            [
             1,
             "#f0f921"
            ]
           ]
          },
          "colorway": [
           "#636efa",
           "#EF553B",
           "#00cc96",
           "#ab63fa",
           "#FFA15A",
           "#19d3f3",
           "#FF6692",
           "#B6E880",
           "#FF97FF",
           "#FECB52"
          ],
          "font": {
           "color": "#2a3f5f"
          },
          "geo": {
           "bgcolor": "white",
           "lakecolor": "white",
           "landcolor": "#E5ECF6",
           "showlakes": true,
           "showland": true,
           "subunitcolor": "white"
          },
          "hoverlabel": {
           "align": "left"
          },
          "hovermode": "closest",
          "mapbox": {
           "style": "light"
          },
          "paper_bgcolor": "white",
          "plot_bgcolor": "#E5ECF6",
          "polar": {
           "angularaxis": {
            "gridcolor": "white",
            "linecolor": "white",
            "ticks": ""
           },
           "bgcolor": "#E5ECF6",
           "radialaxis": {
            "gridcolor": "white",
            "linecolor": "white",
            "ticks": ""
           }
          },
          "scene": {
           "xaxis": {
            "backgroundcolor": "#E5ECF6",
            "gridcolor": "white",
            "gridwidth": 2,
            "linecolor": "white",
            "showbackground": true,
            "ticks": "",
            "zerolinecolor": "white"
           },
           "yaxis": {
            "backgroundcolor": "#E5ECF6",
            "gridcolor": "white",
            "gridwidth": 2,
            "linecolor": "white",
            "showbackground": true,
            "ticks": "",
            "zerolinecolor": "white"
           },
           "zaxis": {
            "backgroundcolor": "#E5ECF6",
            "gridcolor": "white",
            "gridwidth": 2,
            "linecolor": "white",
            "showbackground": true,
            "ticks": "",
            "zerolinecolor": "white"
           }
          },
          "shapedefaults": {
           "line": {
            "color": "#2a3f5f"
           }
          },
          "ternary": {
           "aaxis": {
            "gridcolor": "white",
            "linecolor": "white",
            "ticks": ""
           },
           "baxis": {
            "gridcolor": "white",
            "linecolor": "white",
            "ticks": ""
           },
           "bgcolor": "#E5ECF6",
           "caxis": {
            "gridcolor": "white",
            "linecolor": "white",
            "ticks": ""
           }
          },
          "title": {
           "x": 0.05
          },
          "xaxis": {
           "automargin": true,
           "gridcolor": "white",
           "linecolor": "white",
           "ticks": "",
           "title": {
            "standoff": 15
           },
           "zerolinecolor": "white",
           "zerolinewidth": 2
          },
          "yaxis": {
           "automargin": true,
           "gridcolor": "white",
           "linecolor": "white",
           "ticks": "",
           "title": {
            "standoff": 15
           },
           "zerolinecolor": "white",
           "zerolinewidth": 2
          }
         }
        },
        "title": {
         "text": "Python + Plotly"
        },
        "xaxis": {
         "gridcolor": "white",
         "gridwidth": 1,
         "title": {
          "text": "Flipper Length (mm)"
         },
         "type": "log"
        },
        "yaxis": {
         "gridcolor": "white",
         "title": {
          "text": "Body Mass (g)"
         }
        }
       }
      },
      "text/html": [
       "<div>                            <div id=\"104a0985-90c8-4705-8b17-38f166ecd140\" class=\"plotly-graph-div\" style=\"height:525px; width:100%;\"></div>            <script type=\"text/javascript\">                require([\"plotly\"], function(Plotly) {                    window.PLOTLYENV=window.PLOTLYENV || {};                                    if (document.getElementById(\"104a0985-90c8-4705-8b17-38f166ecd140\")) {                    Plotly.newPlot(                        \"104a0985-90c8-4705-8b17-38f166ecd140\",                        [{\"marker\":{\"size\":[39.1,39.5,40.3,36.7,39.3,38.9,39.2,34.1,42.0,37.8,37.8,41.1,38.6,34.6,36.6,38.7,42.5,34.4,46.0,37.8,37.7,35.9,38.2,38.8,35.3,40.6,40.5,37.9,40.5,39.5,37.2,39.5,40.9,36.4,39.2,38.8,42.2,37.6,39.8,36.5,40.8,36.0,44.1,37.0,39.6,41.1,37.5,36.0,42.3,39.6,40.1,35.0,42.0,34.5,41.4,39.0,40.6,36.5,37.6,35.7,41.3,37.6,41.1,36.4,41.6,35.5,41.1,35.9,41.8,33.5,39.7,39.6,45.8,35.5,42.8,40.9,37.2,36.2,42.1,34.6,42.9,36.7,35.1,37.3,41.3,36.3,36.9,38.3,38.9,35.7,41.1,34.0,39.6,36.2,40.8,38.1,40.3,33.1,43.2,35.0,41.0,37.7,37.8,37.9,39.7,38.6,38.2,38.1,43.2,38.1,45.6,39.7,42.2,39.6,42.7,38.6,37.3,35.7,41.1,36.2,37.7,40.2,41.4,35.2,40.6,38.8,41.5,39.0,44.1,38.5,43.1,36.8,37.5,38.1,41.1,35.6,40.2,37.0,39.7,40.2,40.6,32.1,40.7,37.3,39.0,39.2,36.6,36.0,37.8,36.0,41.5],\"line\":{\"width\":2},\"sizemode\":\"area\",\"sizeref\":0.2648888888888889},\"name\":\"Adelie\",\"text\":[\"Species: Adelie\\u003cbr\\u003eIsland: Torgersen\\u003cbr\\u003eFlipper_length (mm): 181.0\\u003cbr\\u003ebody_mass (g): 3750.0\\u003cbr\\u003eSex: maleYear: 2007Bill Length (mm): 39.1\",\"Species: Adelie\\u003cbr\\u003eIsland: Torgersen\\u003cbr\\u003eFlipper_length (mm): 186.0\\u003cbr\\u003ebody_mass (g): 3800.0\\u003cbr\\u003eSex: femaleYear: 2007Bill Length (mm): 39.5\",\"Species: Adelie\\u003cbr\\u003eIsland: Torgersen\\u003cbr\\u003eFlipper_length (mm): 195.0\\u003cbr\\u003ebody_mass (g): 3250.0\\u003cbr\\u003eSex: femaleYear: 2007Bill Length (mm): 40.3\",\"Species: Adelie\\u003cbr\\u003eIsland: Torgersen\\u003cbr\\u003eFlipper_length (mm): 193.0\\u003cbr\\u003ebody_mass (g): 3450.0\\u003cbr\\u003eSex: femaleYear: 2007Bill Length (mm): 36.7\",\"Species: Adelie\\u003cbr\\u003eIsland: Torgersen\\u003cbr\\u003eFlipper_length (mm): 190.0\\u003cbr\\u003ebody_mass (g): 3650.0\\u003cbr\\u003eSex: maleYear: 2007Bill Length (mm): 39.3\",\"Species: Adelie\\u003cbr\\u003eIsland: Torgersen\\u003cbr\\u003eFlipper_length (mm): 181.0\\u003cbr\\u003ebody_mass (g): 3625.0\\u003cbr\\u003eSex: femaleYear: 2007Bill Length (mm): 38.9\",\"Species: Adelie\\u003cbr\\u003eIsland: Torgersen\\u003cbr\\u003eFlipper_length (mm): 195.0\\u003cbr\\u003ebody_mass (g): 4675.0\\u003cbr\\u003eSex: maleYear: 2007Bill Length (mm): 39.2\",\"Species: Adelie\\u003cbr\\u003eIsland: Torgersen\\u003cbr\\u003eFlipper_length (mm): 193.0\\u003cbr\\u003ebody_mass (g): 3475.0\\u003cbr\\u003eSex: nanYear: 2007Bill Length (mm): 34.1\",\"Species: Adelie\\u003cbr\\u003eIsland: Torgersen\\u003cbr\\u003eFlipper_length (mm): 190.0\\u003cbr\\u003ebody_mass (g): 4250.0\\u003cbr\\u003eSex: nanYear: 2007Bill Length (mm): 42.0\",\"Species: Adelie\\u003cbr\\u003eIsland: Torgersen\\u003cbr\\u003eFlipper_length (mm): 186.0\\u003cbr\\u003ebody_mass (g): 3300.0\\u003cbr\\u003eSex: nanYear: 2007Bill Length (mm): 37.8\",\"Species: Adelie\\u003cbr\\u003eIsland: Torgersen\\u003cbr\\u003eFlipper_length (mm): 180.0\\u003cbr\\u003ebody_mass (g): 3700.0\\u003cbr\\u003eSex: nanYear: 2007Bill Length (mm): 37.8\",\"Species: Adelie\\u003cbr\\u003eIsland: Torgersen\\u003cbr\\u003eFlipper_length (mm): 182.0\\u003cbr\\u003ebody_mass (g): 3200.0\\u003cbr\\u003eSex: femaleYear: 2007Bill Length (mm): 41.1\",\"Species: Adelie\\u003cbr\\u003eIsland: Torgersen\\u003cbr\\u003eFlipper_length (mm): 191.0\\u003cbr\\u003ebody_mass (g): 3800.0\\u003cbr\\u003eSex: maleYear: 2007Bill Length (mm): 38.6\",\"Species: Adelie\\u003cbr\\u003eIsland: Torgersen\\u003cbr\\u003eFlipper_length (mm): 198.0\\u003cbr\\u003ebody_mass (g): 4400.0\\u003cbr\\u003eSex: maleYear: 2007Bill Length (mm): 34.6\",\"Species: Adelie\\u003cbr\\u003eIsland: Torgersen\\u003cbr\\u003eFlipper_length (mm): 185.0\\u003cbr\\u003ebody_mass (g): 3700.0\\u003cbr\\u003eSex: femaleYear: 2007Bill Length (mm): 36.6\",\"Species: Adelie\\u003cbr\\u003eIsland: Torgersen\\u003cbr\\u003eFlipper_length (mm): 195.0\\u003cbr\\u003ebody_mass (g): 3450.0\\u003cbr\\u003eSex: femaleYear: 2007Bill Length (mm): 38.7\",\"Species: Adelie\\u003cbr\\u003eIsland: Torgersen\\u003cbr\\u003eFlipper_length (mm): 197.0\\u003cbr\\u003ebody_mass (g): 4500.0\\u003cbr\\u003eSex: maleYear: 2007Bill Length (mm): 42.5\",\"Species: Adelie\\u003cbr\\u003eIsland: Torgersen\\u003cbr\\u003eFlipper_length (mm): 184.0\\u003cbr\\u003ebody_mass (g): 3325.0\\u003cbr\\u003eSex: femaleYear: 2007Bill Length (mm): 34.4\",\"Species: Adelie\\u003cbr\\u003eIsland: Torgersen\\u003cbr\\u003eFlipper_length (mm): 194.0\\u003cbr\\u003ebody_mass (g): 4200.0\\u003cbr\\u003eSex: maleYear: 2007Bill Length (mm): 46.0\",\"Species: Adelie\\u003cbr\\u003eIsland: Biscoe\\u003cbr\\u003eFlipper_length (mm): 174.0\\u003cbr\\u003ebody_mass (g): 3400.0\\u003cbr\\u003eSex: femaleYear: 2007Bill Length (mm): 37.8\",\"Species: Adelie\\u003cbr\\u003eIsland: Biscoe\\u003cbr\\u003eFlipper_length (mm): 180.0\\u003cbr\\u003ebody_mass (g): 3600.0\\u003cbr\\u003eSex: maleYear: 2007Bill Length (mm): 37.7\",\"Species: Adelie\\u003cbr\\u003eIsland: Biscoe\\u003cbr\\u003eFlipper_length (mm): 189.0\\u003cbr\\u003ebody_mass (g): 3800.0\\u003cbr\\u003eSex: femaleYear: 2007Bill Length (mm): 35.9\",\"Species: Adelie\\u003cbr\\u003eIsland: Biscoe\\u003cbr\\u003eFlipper_length (mm): 185.0\\u003cbr\\u003ebody_mass (g): 3950.0\\u003cbr\\u003eSex: maleYear: 2007Bill Length (mm): 38.2\",\"Species: Adelie\\u003cbr\\u003eIsland: Biscoe\\u003cbr\\u003eFlipper_length (mm): 180.0\\u003cbr\\u003ebody_mass (g): 3800.0\\u003cbr\\u003eSex: maleYear: 2007Bill Length (mm): 38.8\",\"Species: Adelie\\u003cbr\\u003eIsland: Biscoe\\u003cbr\\u003eFlipper_length (mm): 187.0\\u003cbr\\u003ebody_mass (g): 3800.0\\u003cbr\\u003eSex: femaleYear: 2007Bill Length (mm): 35.3\",\"Species: Adelie\\u003cbr\\u003eIsland: Biscoe\\u003cbr\\u003eFlipper_length (mm): 183.0\\u003cbr\\u003ebody_mass (g): 3550.0\\u003cbr\\u003eSex: maleYear: 2007Bill Length (mm): 40.6\",\"Species: Adelie\\u003cbr\\u003eIsland: Biscoe\\u003cbr\\u003eFlipper_length (mm): 187.0\\u003cbr\\u003ebody_mass (g): 3200.0\\u003cbr\\u003eSex: femaleYear: 2007Bill Length (mm): 40.5\",\"Species: Adelie\\u003cbr\\u003eIsland: Biscoe\\u003cbr\\u003eFlipper_length (mm): 172.0\\u003cbr\\u003ebody_mass (g): 3150.0\\u003cbr\\u003eSex: femaleYear: 2007Bill Length (mm): 37.9\",\"Species: Adelie\\u003cbr\\u003eIsland: Biscoe\\u003cbr\\u003eFlipper_length (mm): 180.0\\u003cbr\\u003ebody_mass (g): 3950.0\\u003cbr\\u003eSex: maleYear: 2007Bill Length (mm): 40.5\",\"Species: Adelie\\u003cbr\\u003eIsland: Dream\\u003cbr\\u003eFlipper_length (mm): 178.0\\u003cbr\\u003ebody_mass (g): 3250.0\\u003cbr\\u003eSex: femaleYear: 2007Bill Length (mm): 39.5\",\"Species: Adelie\\u003cbr\\u003eIsland: Dream\\u003cbr\\u003eFlipper_length (mm): 178.0\\u003cbr\\u003ebody_mass (g): 3900.0\\u003cbr\\u003eSex: maleYear: 2007Bill Length (mm): 37.2\",\"Species: Adelie\\u003cbr\\u003eIsland: Dream\\u003cbr\\u003eFlipper_length (mm): 188.0\\u003cbr\\u003ebody_mass (g): 3300.0\\u003cbr\\u003eSex: femaleYear: 2007Bill Length (mm): 39.5\",\"Species: Adelie\\u003cbr\\u003eIsland: Dream\\u003cbr\\u003eFlipper_length (mm): 184.0\\u003cbr\\u003ebody_mass (g): 3900.0\\u003cbr\\u003eSex: maleYear: 2007Bill Length (mm): 40.9\",\"Species: Adelie\\u003cbr\\u003eIsland: Dream\\u003cbr\\u003eFlipper_length (mm): 195.0\\u003cbr\\u003ebody_mass (g): 3325.0\\u003cbr\\u003eSex: femaleYear: 2007Bill Length (mm): 36.4\",\"Species: Adelie\\u003cbr\\u003eIsland: Dream\\u003cbr\\u003eFlipper_length (mm): 196.0\\u003cbr\\u003ebody_mass (g): 4150.0\\u003cbr\\u003eSex: maleYear: 2007Bill Length (mm): 39.2\",\"Species: Adelie\\u003cbr\\u003eIsland: Dream\\u003cbr\\u003eFlipper_length (mm): 190.0\\u003cbr\\u003ebody_mass (g): 3950.0\\u003cbr\\u003eSex: maleYear: 2007Bill Length (mm): 38.8\",\"Species: Adelie\\u003cbr\\u003eIsland: Dream\\u003cbr\\u003eFlipper_length (mm): 180.0\\u003cbr\\u003ebody_mass (g): 3550.0\\u003cbr\\u003eSex: femaleYear: 2007Bill Length (mm): 42.2\",\"Species: Adelie\\u003cbr\\u003eIsland: Dream\\u003cbr\\u003eFlipper_length (mm): 181.0\\u003cbr\\u003ebody_mass (g): 3300.0\\u003cbr\\u003eSex: femaleYear: 2007Bill Length (mm): 37.6\",\"Species: Adelie\\u003cbr\\u003eIsland: Dream\\u003cbr\\u003eFlipper_length (mm): 184.0\\u003cbr\\u003ebody_mass (g): 4650.0\\u003cbr\\u003eSex: maleYear: 2007Bill Length (mm): 39.8\",\"Species: Adelie\\u003cbr\\u003eIsland: Dream\\u003cbr\\u003eFlipper_length (mm): 182.0\\u003cbr\\u003ebody_mass (g): 3150.0\\u003cbr\\u003eSex: femaleYear: 2007Bill Length (mm): 36.5\",\"Species: Adelie\\u003cbr\\u003eIsland: Dream\\u003cbr\\u003eFlipper_length (mm): 195.0\\u003cbr\\u003ebody_mass (g): 3900.0\\u003cbr\\u003eSex: maleYear: 2007Bill Length (mm): 40.8\",\"Species: Adelie\\u003cbr\\u003eIsland: Dream\\u003cbr\\u003eFlipper_length (mm): 186.0\\u003cbr\\u003ebody_mass (g): 3100.0\\u003cbr\\u003eSex: femaleYear: 2007Bill Length (mm): 36.0\",\"Species: Adelie\\u003cbr\\u003eIsland: Dream\\u003cbr\\u003eFlipper_length (mm): 196.0\\u003cbr\\u003ebody_mass (g): 4400.0\\u003cbr\\u003eSex: maleYear: 2007Bill Length (mm): 44.1\",\"Species: Adelie\\u003cbr\\u003eIsland: Dream\\u003cbr\\u003eFlipper_length (mm): 185.0\\u003cbr\\u003ebody_mass (g): 3000.0\\u003cbr\\u003eSex: femaleYear: 2007Bill Length (mm): 37.0\",\"Species: Adelie\\u003cbr\\u003eIsland: Dream\\u003cbr\\u003eFlipper_length (mm): 190.0\\u003cbr\\u003ebody_mass (g): 4600.0\\u003cbr\\u003eSex: maleYear: 2007Bill Length (mm): 39.6\",\"Species: Adelie\\u003cbr\\u003eIsland: Dream\\u003cbr\\u003eFlipper_length (mm): 182.0\\u003cbr\\u003ebody_mass (g): 3425.0\\u003cbr\\u003eSex: maleYear: 2007Bill Length (mm): 41.1\",\"Species: Adelie\\u003cbr\\u003eIsland: Dream\\u003cbr\\u003eFlipper_length (mm): 179.0\\u003cbr\\u003ebody_mass (g): 2975.0\\u003cbr\\u003eSex: nanYear: 2007Bill Length (mm): 37.5\",\"Species: Adelie\\u003cbr\\u003eIsland: Dream\\u003cbr\\u003eFlipper_length (mm): 190.0\\u003cbr\\u003ebody_mass (g): 3450.0\\u003cbr\\u003eSex: femaleYear: 2007Bill Length (mm): 36.0\",\"Species: Adelie\\u003cbr\\u003eIsland: Dream\\u003cbr\\u003eFlipper_length (mm): 191.0\\u003cbr\\u003ebody_mass (g): 4150.0\\u003cbr\\u003eSex: maleYear: 2007Bill Length (mm): 42.3\",\"Species: Adelie\\u003cbr\\u003eIsland: Biscoe\\u003cbr\\u003eFlipper_length (mm): 186.0\\u003cbr\\u003ebody_mass (g): 3500.0\\u003cbr\\u003eSex: femaleYear: 2008Bill Length (mm): 39.6\",\"Species: Adelie\\u003cbr\\u003eIsland: Biscoe\\u003cbr\\u003eFlipper_length (mm): 188.0\\u003cbr\\u003ebody_mass (g): 4300.0\\u003cbr\\u003eSex: maleYear: 2008Bill Length (mm): 40.1\",\"Species: Adelie\\u003cbr\\u003eIsland: Biscoe\\u003cbr\\u003eFlipper_length (mm): 190.0\\u003cbr\\u003ebody_mass (g): 3450.0\\u003cbr\\u003eSex: femaleYear: 2008Bill Length (mm): 35.0\",\"Species: Adelie\\u003cbr\\u003eIsland: Biscoe\\u003cbr\\u003eFlipper_length (mm): 200.0\\u003cbr\\u003ebody_mass (g): 4050.0\\u003cbr\\u003eSex: maleYear: 2008Bill Length (mm): 42.0\",\"Species: Adelie\\u003cbr\\u003eIsland: Biscoe\\u003cbr\\u003eFlipper_length (mm): 187.0\\u003cbr\\u003ebody_mass (g): 2900.0\\u003cbr\\u003eSex: femaleYear: 2008Bill Length (mm): 34.5\",\"Species: Adelie\\u003cbr\\u003eIsland: Biscoe\\u003cbr\\u003eFlipper_length (mm): 191.0\\u003cbr\\u003ebody_mass (g): 3700.0\\u003cbr\\u003eSex: maleYear: 2008Bill Length (mm): 41.4\",\"Species: Adelie\\u003cbr\\u003eIsland: Biscoe\\u003cbr\\u003eFlipper_length (mm): 186.0\\u003cbr\\u003ebody_mass (g): 3550.0\\u003cbr\\u003eSex: femaleYear: 2008Bill Length (mm): 39.0\",\"Species: Adelie\\u003cbr\\u003eIsland: Biscoe\\u003cbr\\u003eFlipper_length (mm): 193.0\\u003cbr\\u003ebody_mass (g): 3800.0\\u003cbr\\u003eSex: maleYear: 2008Bill Length (mm): 40.6\",\"Species: Adelie\\u003cbr\\u003eIsland: Biscoe\\u003cbr\\u003eFlipper_length (mm): 181.0\\u003cbr\\u003ebody_mass (g): 2850.0\\u003cbr\\u003eSex: femaleYear: 2008Bill Length (mm): 36.5\",\"Species: Adelie\\u003cbr\\u003eIsland: Biscoe\\u003cbr\\u003eFlipper_length (mm): 194.0\\u003cbr\\u003ebody_mass (g): 3750.0\\u003cbr\\u003eSex: maleYear: 2008Bill Length (mm): 37.6\",\"Species: Adelie\\u003cbr\\u003eIsland: Biscoe\\u003cbr\\u003eFlipper_length (mm): 185.0\\u003cbr\\u003ebody_mass (g): 3150.0\\u003cbr\\u003eSex: femaleYear: 2008Bill Length (mm): 35.7\",\"Species: Adelie\\u003cbr\\u003eIsland: Biscoe\\u003cbr\\u003eFlipper_length (mm): 195.0\\u003cbr\\u003ebody_mass (g): 4400.0\\u003cbr\\u003eSex: maleYear: 2008Bill Length (mm): 41.3\",\"Species: Adelie\\u003cbr\\u003eIsland: Biscoe\\u003cbr\\u003eFlipper_length (mm): 185.0\\u003cbr\\u003ebody_mass (g): 3600.0\\u003cbr\\u003eSex: femaleYear: 2008Bill Length (mm): 37.6\",\"Species: Adelie\\u003cbr\\u003eIsland: Biscoe\\u003cbr\\u003eFlipper_length (mm): 192.0\\u003cbr\\u003ebody_mass (g): 4050.0\\u003cbr\\u003eSex: maleYear: 2008Bill Length (mm): 41.1\",\"Species: Adelie\\u003cbr\\u003eIsland: Biscoe\\u003cbr\\u003eFlipper_length (mm): 184.0\\u003cbr\\u003ebody_mass (g): 2850.0\\u003cbr\\u003eSex: femaleYear: 2008Bill Length (mm): 36.4\",\"Species: Adelie\\u003cbr\\u003eIsland: Biscoe\\u003cbr\\u003eFlipper_length (mm): 192.0\\u003cbr\\u003ebody_mass (g): 3950.0\\u003cbr\\u003eSex: maleYear: 2008Bill Length (mm): 41.6\",\"Species: Adelie\\u003cbr\\u003eIsland: Biscoe\\u003cbr\\u003eFlipper_length (mm): 195.0\\u003cbr\\u003ebody_mass (g): 3350.0\\u003cbr\\u003eSex: femaleYear: 2008Bill Length (mm): 35.5\",\"Species: Adelie\\u003cbr\\u003eIsland: Biscoe\\u003cbr\\u003eFlipper_length (mm): 188.0\\u003cbr\\u003ebody_mass (g): 4100.0\\u003cbr\\u003eSex: maleYear: 2008Bill Length (mm): 41.1\",\"Species: Adelie\\u003cbr\\u003eIsland: Torgersen\\u003cbr\\u003eFlipper_length (mm): 190.0\\u003cbr\\u003ebody_mass (g): 3050.0\\u003cbr\\u003eSex: femaleYear: 2008Bill Length (mm): 35.9\",\"Species: Adelie\\u003cbr\\u003eIsland: Torgersen\\u003cbr\\u003eFlipper_length (mm): 198.0\\u003cbr\\u003ebody_mass (g): 4450.0\\u003cbr\\u003eSex: maleYear: 2008Bill Length (mm): 41.8\",\"Species: Adelie\\u003cbr\\u003eIsland: Torgersen\\u003cbr\\u003eFlipper_length (mm): 190.0\\u003cbr\\u003ebody_mass (g): 3600.0\\u003cbr\\u003eSex: femaleYear: 2008Bill Length (mm): 33.5\",\"Species: Adelie\\u003cbr\\u003eIsland: Torgersen\\u003cbr\\u003eFlipper_length (mm): 190.0\\u003cbr\\u003ebody_mass (g): 3900.0\\u003cbr\\u003eSex: maleYear: 2008Bill Length (mm): 39.7\",\"Species: Adelie\\u003cbr\\u003eIsland: Torgersen\\u003cbr\\u003eFlipper_length (mm): 196.0\\u003cbr\\u003ebody_mass (g): 3550.0\\u003cbr\\u003eSex: femaleYear: 2008Bill Length (mm): 39.6\",\"Species: Adelie\\u003cbr\\u003eIsland: Torgersen\\u003cbr\\u003eFlipper_length (mm): 197.0\\u003cbr\\u003ebody_mass (g): 4150.0\\u003cbr\\u003eSex: maleYear: 2008Bill Length (mm): 45.8\",\"Species: Adelie\\u003cbr\\u003eIsland: Torgersen\\u003cbr\\u003eFlipper_length (mm): 190.0\\u003cbr\\u003ebody_mass (g): 3700.0\\u003cbr\\u003eSex: femaleYear: 2008Bill Length (mm): 35.5\",\"Species: Adelie\\u003cbr\\u003eIsland: Torgersen\\u003cbr\\u003eFlipper_length (mm): 195.0\\u003cbr\\u003ebody_mass (g): 4250.0\\u003cbr\\u003eSex: maleYear: 2008Bill Length (mm): 42.8\",\"Species: Adelie\\u003cbr\\u003eIsland: Torgersen\\u003cbr\\u003eFlipper_length (mm): 191.0\\u003cbr\\u003ebody_mass (g): 3700.0\\u003cbr\\u003eSex: femaleYear: 2008Bill Length (mm): 40.9\",\"Species: Adelie\\u003cbr\\u003eIsland: Torgersen\\u003cbr\\u003eFlipper_length (mm): 184.0\\u003cbr\\u003ebody_mass (g): 3900.0\\u003cbr\\u003eSex: maleYear: 2008Bill Length (mm): 37.2\",\"Species: Adelie\\u003cbr\\u003eIsland: Torgersen\\u003cbr\\u003eFlipper_length (mm): 187.0\\u003cbr\\u003ebody_mass (g): 3550.0\\u003cbr\\u003eSex: femaleYear: 2008Bill Length (mm): 36.2\",\"Species: Adelie\\u003cbr\\u003eIsland: Torgersen\\u003cbr\\u003eFlipper_length (mm): 195.0\\u003cbr\\u003ebody_mass (g): 4000.0\\u003cbr\\u003eSex: maleYear: 2008Bill Length (mm): 42.1\",\"Species: Adelie\\u003cbr\\u003eIsland: Torgersen\\u003cbr\\u003eFlipper_length (mm): 189.0\\u003cbr\\u003ebody_mass (g): 3200.0\\u003cbr\\u003eSex: femaleYear: 2008Bill Length (mm): 34.6\",\"Species: Adelie\\u003cbr\\u003eIsland: Torgersen\\u003cbr\\u003eFlipper_length (mm): 196.0\\u003cbr\\u003ebody_mass (g): 4700.0\\u003cbr\\u003eSex: maleYear: 2008Bill Length (mm): 42.9\",\"Species: Adelie\\u003cbr\\u003eIsland: Torgersen\\u003cbr\\u003eFlipper_length (mm): 187.0\\u003cbr\\u003ebody_mass (g): 3800.0\\u003cbr\\u003eSex: femaleYear: 2008Bill Length (mm): 36.7\",\"Species: Adelie\\u003cbr\\u003eIsland: Torgersen\\u003cbr\\u003eFlipper_length (mm): 193.0\\u003cbr\\u003ebody_mass (g): 4200.0\\u003cbr\\u003eSex: maleYear: 2008Bill Length (mm): 35.1\",\"Species: Adelie\\u003cbr\\u003eIsland: Dream\\u003cbr\\u003eFlipper_length (mm): 191.0\\u003cbr\\u003ebody_mass (g): 3350.0\\u003cbr\\u003eSex: femaleYear: 2008Bill Length (mm): 37.3\",\"Species: Adelie\\u003cbr\\u003eIsland: Dream\\u003cbr\\u003eFlipper_length (mm): 194.0\\u003cbr\\u003ebody_mass (g): 3550.0\\u003cbr\\u003eSex: maleYear: 2008Bill Length (mm): 41.3\",\"Species: Adelie\\u003cbr\\u003eIsland: Dream\\u003cbr\\u003eFlipper_length (mm): 190.0\\u003cbr\\u003ebody_mass (g): 3800.0\\u003cbr\\u003eSex: maleYear: 2008Bill Length (mm): 36.3\",\"Species: Adelie\\u003cbr\\u003eIsland: Dream\\u003cbr\\u003eFlipper_length (mm): 189.0\\u003cbr\\u003ebody_mass (g): 3500.0\\u003cbr\\u003eSex: femaleYear: 2008Bill Length (mm): 36.9\",\"Species: Adelie\\u003cbr\\u003eIsland: Dream\\u003cbr\\u003eFlipper_length (mm): 189.0\\u003cbr\\u003ebody_mass (g): 3950.0\\u003cbr\\u003eSex: maleYear: 2008Bill Length (mm): 38.3\",\"Species: Adelie\\u003cbr\\u003eIsland: Dream\\u003cbr\\u003eFlipper_length (mm): 190.0\\u003cbr\\u003ebody_mass (g): 3600.0\\u003cbr\\u003eSex: femaleYear: 2008Bill Length (mm): 38.9\",\"Species: Adelie\\u003cbr\\u003eIsland: Dream\\u003cbr\\u003eFlipper_length (mm): 202.0\\u003cbr\\u003ebody_mass (g): 3550.0\\u003cbr\\u003eSex: femaleYear: 2008Bill Length (mm): 35.7\",\"Species: Adelie\\u003cbr\\u003eIsland: Dream\\u003cbr\\u003eFlipper_length (mm): 205.0\\u003cbr\\u003ebody_mass (g): 4300.0\\u003cbr\\u003eSex: maleYear: 2008Bill Length (mm): 41.1\",\"Species: Adelie\\u003cbr\\u003eIsland: Dream\\u003cbr\\u003eFlipper_length (mm): 185.0\\u003cbr\\u003ebody_mass (g): 3400.0\\u003cbr\\u003eSex: femaleYear: 2008Bill Length (mm): 34.0\",\"Species: Adelie\\u003cbr\\u003eIsland: Dream\\u003cbr\\u003eFlipper_length (mm): 186.0\\u003cbr\\u003ebody_mass (g): 4450.0\\u003cbr\\u003eSex: maleYear: 2008Bill Length (mm): 39.6\",\"Species: Adelie\\u003cbr\\u003eIsland: Dream\\u003cbr\\u003eFlipper_length (mm): 187.0\\u003cbr\\u003ebody_mass (g): 3300.0\\u003cbr\\u003eSex: femaleYear: 2008Bill Length (mm): 36.2\",\"Species: Adelie\\u003cbr\\u003eIsland: Dream\\u003cbr\\u003eFlipper_length (mm): 208.0\\u003cbr\\u003ebody_mass (g): 4300.0\\u003cbr\\u003eSex: maleYear: 2008Bill Length (mm): 40.8\",\"Species: Adelie\\u003cbr\\u003eIsland: Dream\\u003cbr\\u003eFlipper_length (mm): 190.0\\u003cbr\\u003ebody_mass (g): 3700.0\\u003cbr\\u003eSex: femaleYear: 2008Bill Length (mm): 38.1\",\"Species: Adelie\\u003cbr\\u003eIsland: Dream\\u003cbr\\u003eFlipper_length (mm): 196.0\\u003cbr\\u003ebody_mass (g): 4350.0\\u003cbr\\u003eSex: maleYear: 2008Bill Length (mm): 40.3\",\"Species: Adelie\\u003cbr\\u003eIsland: Dream\\u003cbr\\u003eFlipper_length (mm): 178.0\\u003cbr\\u003ebody_mass (g): 2900.0\\u003cbr\\u003eSex: femaleYear: 2008Bill Length (mm): 33.1\",\"Species: Adelie\\u003cbr\\u003eIsland: Dream\\u003cbr\\u003eFlipper_length (mm): 192.0\\u003cbr\\u003ebody_mass (g): 4100.0\\u003cbr\\u003eSex: maleYear: 2008Bill Length (mm): 43.2\",\"Species: Adelie\\u003cbr\\u003eIsland: Biscoe\\u003cbr\\u003eFlipper_length (mm): 192.0\\u003cbr\\u003ebody_mass (g): 3725.0\\u003cbr\\u003eSex: femaleYear: 2009Bill Length (mm): 35.0\",\"Species: Adelie\\u003cbr\\u003eIsland: Biscoe\\u003cbr\\u003eFlipper_length (mm): 203.0\\u003cbr\\u003ebody_mass (g): 4725.0\\u003cbr\\u003eSex: maleYear: 2009Bill Length (mm): 41.0\",\"Species: Adelie\\u003cbr\\u003eIsland: Biscoe\\u003cbr\\u003eFlipper_length (mm): 183.0\\u003cbr\\u003ebody_mass (g): 3075.0\\u003cbr\\u003eSex: femaleYear: 2009Bill Length (mm): 37.7\",\"Species: Adelie\\u003cbr\\u003eIsland: Biscoe\\u003cbr\\u003eFlipper_length (mm): 190.0\\u003cbr\\u003ebody_mass (g): 4250.0\\u003cbr\\u003eSex: maleYear: 2009Bill Length (mm): 37.8\",\"Species: Adelie\\u003cbr\\u003eIsland: Biscoe\\u003cbr\\u003eFlipper_length (mm): 193.0\\u003cbr\\u003ebody_mass (g): 2925.0\\u003cbr\\u003eSex: femaleYear: 2009Bill Length (mm): 37.9\",\"Species: Adelie\\u003cbr\\u003eIsland: Biscoe\\u003cbr\\u003eFlipper_length (mm): 184.0\\u003cbr\\u003ebody_mass (g): 3550.0\\u003cbr\\u003eSex: maleYear: 2009Bill Length (mm): 39.7\",\"Species: Adelie\\u003cbr\\u003eIsland: Biscoe\\u003cbr\\u003eFlipper_length (mm): 199.0\\u003cbr\\u003ebody_mass (g): 3750.0\\u003cbr\\u003eSex: femaleYear: 2009Bill Length (mm): 38.6\",\"Species: Adelie\\u003cbr\\u003eIsland: Biscoe\\u003cbr\\u003eFlipper_length (mm): 190.0\\u003cbr\\u003ebody_mass (g): 3900.0\\u003cbr\\u003eSex: maleYear: 2009Bill Length (mm): 38.2\",\"Species: Adelie\\u003cbr\\u003eIsland: Biscoe\\u003cbr\\u003eFlipper_length (mm): 181.0\\u003cbr\\u003ebody_mass (g): 3175.0\\u003cbr\\u003eSex: femaleYear: 2009Bill Length (mm): 38.1\",\"Species: Adelie\\u003cbr\\u003eIsland: Biscoe\\u003cbr\\u003eFlipper_length (mm): 197.0\\u003cbr\\u003ebody_mass (g): 4775.0\\u003cbr\\u003eSex: maleYear: 2009Bill Length (mm): 43.2\",\"Species: Adelie\\u003cbr\\u003eIsland: Biscoe\\u003cbr\\u003eFlipper_length (mm): 198.0\\u003cbr\\u003ebody_mass (g): 3825.0\\u003cbr\\u003eSex: femaleYear: 2009Bill Length (mm): 38.1\",\"Species: Adelie\\u003cbr\\u003eIsland: Biscoe\\u003cbr\\u003eFlipper_length (mm): 191.0\\u003cbr\\u003ebody_mass (g): 4600.0\\u003cbr\\u003eSex: maleYear: 2009Bill Length (mm): 45.6\",\"Species: Adelie\\u003cbr\\u003eIsland: Biscoe\\u003cbr\\u003eFlipper_length (mm): 193.0\\u003cbr\\u003ebody_mass (g): 3200.0\\u003cbr\\u003eSex: femaleYear: 2009Bill Length (mm): 39.7\",\"Species: Adelie\\u003cbr\\u003eIsland: Biscoe\\u003cbr\\u003eFlipper_length (mm): 197.0\\u003cbr\\u003ebody_mass (g): 4275.0\\u003cbr\\u003eSex: maleYear: 2009Bill Length (mm): 42.2\",\"Species: Adelie\\u003cbr\\u003eIsland: Biscoe\\u003cbr\\u003eFlipper_length (mm): 191.0\\u003cbr\\u003ebody_mass (g): 3900.0\\u003cbr\\u003eSex: femaleYear: 2009Bill Length (mm): 39.6\",\"Species: Adelie\\u003cbr\\u003eIsland: Biscoe\\u003cbr\\u003eFlipper_length (mm): 196.0\\u003cbr\\u003ebody_mass (g): 4075.0\\u003cbr\\u003eSex: maleYear: 2009Bill Length (mm): 42.7\",\"Species: Adelie\\u003cbr\\u003eIsland: Torgersen\\u003cbr\\u003eFlipper_length (mm): 188.0\\u003cbr\\u003ebody_mass (g): 2900.0\\u003cbr\\u003eSex: femaleYear: 2009Bill Length (mm): 38.6\",\"Species: Adelie\\u003cbr\\u003eIsland: Torgersen\\u003cbr\\u003eFlipper_length (mm): 199.0\\u003cbr\\u003ebody_mass (g): 3775.0\\u003cbr\\u003eSex: maleYear: 2009Bill Length (mm): 37.3\",\"Species: Adelie\\u003cbr\\u003eIsland: Torgersen\\u003cbr\\u003eFlipper_length (mm): 189.0\\u003cbr\\u003ebody_mass (g): 3350.0\\u003cbr\\u003eSex: femaleYear: 2009Bill Length (mm): 35.7\",\"Species: Adelie\\u003cbr\\u003eIsland: Torgersen\\u003cbr\\u003eFlipper_length (mm): 189.0\\u003cbr\\u003ebody_mass (g): 3325.0\\u003cbr\\u003eSex: maleYear: 2009Bill Length (mm): 41.1\",\"Species: Adelie\\u003cbr\\u003eIsland: Torgersen\\u003cbr\\u003eFlipper_length (mm): 187.0\\u003cbr\\u003ebody_mass (g): 3150.0\\u003cbr\\u003eSex: femaleYear: 2009Bill Length (mm): 36.2\",\"Species: Adelie\\u003cbr\\u003eIsland: Torgersen\\u003cbr\\u003eFlipper_length (mm): 198.0\\u003cbr\\u003ebody_mass (g): 3500.0\\u003cbr\\u003eSex: maleYear: 2009Bill Length (mm): 37.7\",\"Species: Adelie\\u003cbr\\u003eIsland: Torgersen\\u003cbr\\u003eFlipper_length (mm): 176.0\\u003cbr\\u003ebody_mass (g): 3450.0\\u003cbr\\u003eSex: femaleYear: 2009Bill Length (mm): 40.2\",\"Species: Adelie\\u003cbr\\u003eIsland: Torgersen\\u003cbr\\u003eFlipper_length (mm): 202.0\\u003cbr\\u003ebody_mass (g): 3875.0\\u003cbr\\u003eSex: maleYear: 2009Bill Length (mm): 41.4\",\"Species: Adelie\\u003cbr\\u003eIsland: Torgersen\\u003cbr\\u003eFlipper_length (mm): 186.0\\u003cbr\\u003ebody_mass (g): 3050.0\\u003cbr\\u003eSex: femaleYear: 2009Bill Length (mm): 35.2\",\"Species: Adelie\\u003cbr\\u003eIsland: Torgersen\\u003cbr\\u003eFlipper_length (mm): 199.0\\u003cbr\\u003ebody_mass (g): 4000.0\\u003cbr\\u003eSex: maleYear: 2009Bill Length (mm): 40.6\",\"Species: Adelie\\u003cbr\\u003eIsland: Torgersen\\u003cbr\\u003eFlipper_length (mm): 191.0\\u003cbr\\u003ebody_mass (g): 3275.0\\u003cbr\\u003eSex: femaleYear: 2009Bill Length (mm): 38.8\",\"Species: Adelie\\u003cbr\\u003eIsland: Torgersen\\u003cbr\\u003eFlipper_length (mm): 195.0\\u003cbr\\u003ebody_mass (g): 4300.0\\u003cbr\\u003eSex: maleYear: 2009Bill Length (mm): 41.5\",\"Species: Adelie\\u003cbr\\u003eIsland: Torgersen\\u003cbr\\u003eFlipper_length (mm): 191.0\\u003cbr\\u003ebody_mass (g): 3050.0\\u003cbr\\u003eSex: femaleYear: 2009Bill Length (mm): 39.0\",\"Species: Adelie\\u003cbr\\u003eIsland: Torgersen\\u003cbr\\u003eFlipper_length (mm): 210.0\\u003cbr\\u003ebody_mass (g): 4000.0\\u003cbr\\u003eSex: maleYear: 2009Bill Length (mm): 44.1\",\"Species: Adelie\\u003cbr\\u003eIsland: Torgersen\\u003cbr\\u003eFlipper_length (mm): 190.0\\u003cbr\\u003ebody_mass (g): 3325.0\\u003cbr\\u003eSex: femaleYear: 2009Bill Length (mm): 38.5\",\"Species: Adelie\\u003cbr\\u003eIsland: Torgersen\\u003cbr\\u003eFlipper_length (mm): 197.0\\u003cbr\\u003ebody_mass (g): 3500.0\\u003cbr\\u003eSex: maleYear: 2009Bill Length (mm): 43.1\",\"Species: Adelie\\u003cbr\\u003eIsland: Dream\\u003cbr\\u003eFlipper_length (mm): 193.0\\u003cbr\\u003ebody_mass (g): 3500.0\\u003cbr\\u003eSex: femaleYear: 2009Bill Length (mm): 36.8\",\"Species: Adelie\\u003cbr\\u003eIsland: Dream\\u003cbr\\u003eFlipper_length (mm): 199.0\\u003cbr\\u003ebody_mass (g): 4475.0\\u003cbr\\u003eSex: maleYear: 2009Bill Length (mm): 37.5\",\"Species: Adelie\\u003cbr\\u003eIsland: Dream\\u003cbr\\u003eFlipper_length (mm): 187.0\\u003cbr\\u003ebody_mass (g): 3425.0\\u003cbr\\u003eSex: femaleYear: 2009Bill Length (mm): 38.1\",\"Species: Adelie\\u003cbr\\u003eIsland: Dream\\u003cbr\\u003eFlipper_length (mm): 190.0\\u003cbr\\u003ebody_mass (g): 3900.0\\u003cbr\\u003eSex: maleYear: 2009Bill Length (mm): 41.1\",\"Species: Adelie\\u003cbr\\u003eIsland: Dream\\u003cbr\\u003eFlipper_length (mm): 191.0\\u003cbr\\u003ebody_mass (g): 3175.0\\u003cbr\\u003eSex: femaleYear: 2009Bill Length (mm): 35.6\",\"Species: Adelie\\u003cbr\\u003eIsland: Dream\\u003cbr\\u003eFlipper_length (mm): 200.0\\u003cbr\\u003ebody_mass (g): 3975.0\\u003cbr\\u003eSex: maleYear: 2009Bill Length (mm): 40.2\",\"Species: Adelie\\u003cbr\\u003eIsland: Dream\\u003cbr\\u003eFlipper_length (mm): 185.0\\u003cbr\\u003ebody_mass (g): 3400.0\\u003cbr\\u003eSex: femaleYear: 2009Bill Length (mm): 37.0\",\"Species: Adelie\\u003cbr\\u003eIsland: Dream\\u003cbr\\u003eFlipper_length (mm): 193.0\\u003cbr\\u003ebody_mass (g): 4250.0\\u003cbr\\u003eSex: maleYear: 2009Bill Length (mm): 39.7\",\"Species: Adelie\\u003cbr\\u003eIsland: Dream\\u003cbr\\u003eFlipper_length (mm): 193.0\\u003cbr\\u003ebody_mass (g): 3400.0\\u003cbr\\u003eSex: femaleYear: 2009Bill Length (mm): 40.2\",\"Species: Adelie\\u003cbr\\u003eIsland: Dream\\u003cbr\\u003eFlipper_length (mm): 187.0\\u003cbr\\u003ebody_mass (g): 3475.0\\u003cbr\\u003eSex: maleYear: 2009Bill Length (mm): 40.6\",\"Species: Adelie\\u003cbr\\u003eIsland: Dream\\u003cbr\\u003eFlipper_length (mm): 188.0\\u003cbr\\u003ebody_mass (g): 3050.0\\u003cbr\\u003eSex: femaleYear: 2009Bill Length (mm): 32.1\",\"Species: Adelie\\u003cbr\\u003eIsland: Dream\\u003cbr\\u003eFlipper_length (mm): 190.0\\u003cbr\\u003ebody_mass (g): 3725.0\\u003cbr\\u003eSex: maleYear: 2009Bill Length (mm): 40.7\",\"Species: Adelie\\u003cbr\\u003eIsland: Dream\\u003cbr\\u003eFlipper_length (mm): 192.0\\u003cbr\\u003ebody_mass (g): 3000.0\\u003cbr\\u003eSex: femaleYear: 2009Bill Length (mm): 37.3\",\"Species: Adelie\\u003cbr\\u003eIsland: Dream\\u003cbr\\u003eFlipper_length (mm): 185.0\\u003cbr\\u003ebody_mass (g): 3650.0\\u003cbr\\u003eSex: maleYear: 2009Bill Length (mm): 39.0\",\"Species: Adelie\\u003cbr\\u003eIsland: Dream\\u003cbr\\u003eFlipper_length (mm): 190.0\\u003cbr\\u003ebody_mass (g): 4250.0\\u003cbr\\u003eSex: maleYear: 2009Bill Length (mm): 39.2\",\"Species: Adelie\\u003cbr\\u003eIsland: Dream\\u003cbr\\u003eFlipper_length (mm): 184.0\\u003cbr\\u003ebody_mass (g): 3475.0\\u003cbr\\u003eSex: femaleYear: 2009Bill Length (mm): 36.6\",\"Species: Adelie\\u003cbr\\u003eIsland: Dream\\u003cbr\\u003eFlipper_length (mm): 195.0\\u003cbr\\u003ebody_mass (g): 3450.0\\u003cbr\\u003eSex: femaleYear: 2009Bill Length (mm): 36.0\",\"Species: Adelie\\u003cbr\\u003eIsland: Dream\\u003cbr\\u003eFlipper_length (mm): 193.0\\u003cbr\\u003ebody_mass (g): 3750.0\\u003cbr\\u003eSex: maleYear: 2009Bill Length (mm): 37.8\",\"Species: Adelie\\u003cbr\\u003eIsland: Dream\\u003cbr\\u003eFlipper_length (mm): 187.0\\u003cbr\\u003ebody_mass (g): 3700.0\\u003cbr\\u003eSex: femaleYear: 2009Bill Length (mm): 36.0\",\"Species: Adelie\\u003cbr\\u003eIsland: Dream\\u003cbr\\u003eFlipper_length (mm): 201.0\\u003cbr\\u003ebody_mass (g): 4000.0\\u003cbr\\u003eSex: maleYear: 2009Bill Length (mm): 41.5\"],\"x\":[181.0,186.0,195.0,193.0,190.0,181.0,195.0,193.0,190.0,186.0,180.0,182.0,191.0,198.0,185.0,195.0,197.0,184.0,194.0,174.0,180.0,189.0,185.0,180.0,187.0,183.0,187.0,172.0,180.0,178.0,178.0,188.0,184.0,195.0,196.0,190.0,180.0,181.0,184.0,182.0,195.0,186.0,196.0,185.0,190.0,182.0,179.0,190.0,191.0,186.0,188.0,190.0,200.0,187.0,191.0,186.0,193.0,181.0,194.0,185.0,195.0,185.0,192.0,184.0,192.0,195.0,188.0,190.0,198.0,190.0,190.0,196.0,197.0,190.0,195.0,191.0,184.0,187.0,195.0,189.0,196.0,187.0,193.0,191.0,194.0,190.0,189.0,189.0,190.0,202.0,205.0,185.0,186.0,187.0,208.0,190.0,196.0,178.0,192.0,192.0,203.0,183.0,190.0,193.0,184.0,199.0,190.0,181.0,197.0,198.0,191.0,193.0,197.0,191.0,196.0,188.0,199.0,189.0,189.0,187.0,198.0,176.0,202.0,186.0,199.0,191.0,195.0,191.0,210.0,190.0,197.0,193.0,199.0,187.0,190.0,191.0,200.0,185.0,193.0,193.0,187.0,188.0,190.0,192.0,185.0,190.0,184.0,195.0,193.0,187.0,201.0],\"y\":[3750.0,3800.0,3250.0,3450.0,3650.0,3625.0,4675.0,3475.0,4250.0,3300.0,3700.0,3200.0,3800.0,4400.0,3700.0,3450.0,4500.0,3325.0,4200.0,3400.0,3600.0,3800.0,3950.0,3800.0,3800.0,3550.0,3200.0,3150.0,3950.0,3250.0,3900.0,3300.0,3900.0,3325.0,4150.0,3950.0,3550.0,3300.0,4650.0,3150.0,3900.0,3100.0,4400.0,3000.0,4600.0,3425.0,2975.0,3450.0,4150.0,3500.0,4300.0,3450.0,4050.0,2900.0,3700.0,3550.0,3800.0,2850.0,3750.0,3150.0,4400.0,3600.0,4050.0,2850.0,3950.0,3350.0,4100.0,3050.0,4450.0,3600.0,3900.0,3550.0,4150.0,3700.0,4250.0,3700.0,3900.0,3550.0,4000.0,3200.0,4700.0,3800.0,4200.0,3350.0,3550.0,3800.0,3500.0,3950.0,3600.0,3550.0,4300.0,3400.0,4450.0,3300.0,4300.0,3700.0,4350.0,2900.0,4100.0,3725.0,4725.0,3075.0,4250.0,2925.0,3550.0,3750.0,3900.0,3175.0,4775.0,3825.0,4600.0,3200.0,4275.0,3900.0,4075.0,2900.0,3775.0,3350.0,3325.0,3150.0,3500.0,3450.0,3875.0,3050.0,4000.0,3275.0,4300.0,3050.0,4000.0,3325.0,3500.0,3500.0,4475.0,3425.0,3900.0,3175.0,3975.0,3400.0,4250.0,3400.0,3475.0,3050.0,3725.0,3000.0,3650.0,4250.0,3475.0,3450.0,3750.0,3700.0,4000.0],\"type\":\"scatter\",\"mode\":\"markers\"},{\"marker\":{\"size\":[46.5,50.0,51.3,45.4,52.7,45.2,46.1,51.3,46.0,51.3,46.6,51.7,47.0,52.0,45.9,50.5,50.3,58.0,46.4,49.2,42.4,48.5,43.2,50.6,46.7,52.0,50.5,49.5,46.4,52.8,40.9,54.2,42.5,51.0,49.7,47.5,47.6,52.0,46.9,53.5,49.0,46.2,50.9,45.5,50.9,50.8,50.1,49.0,51.5,49.8,48.1,51.4,45.7,50.7,42.5,52.2,45.2,49.3,50.2,45.6,51.9,46.8,45.7,55.8,43.5,49.6,50.8,50.2],\"line\":{\"width\":2},\"sizemode\":\"area\",\"sizeref\":0.2648888888888889},\"name\":\"Chinstrap\",\"text\":[\"Species: Chinstrap\\u003cbr\\u003eIsland: Dream\\u003cbr\\u003eFlipper_length (mm): 192.0\\u003cbr\\u003ebody_mass (g): 3500.0\\u003cbr\\u003eSex: femaleYear: 2007Bill Length (mm): 46.5\",\"Species: Chinstrap\\u003cbr\\u003eIsland: Dream\\u003cbr\\u003eFlipper_length (mm): 196.0\\u003cbr\\u003ebody_mass (g): 3900.0\\u003cbr\\u003eSex: maleYear: 2007Bill Length (mm): 50.0\",\"Species: Chinstrap\\u003cbr\\u003eIsland: Dream\\u003cbr\\u003eFlipper_length (mm): 193.0\\u003cbr\\u003ebody_mass (g): 3650.0\\u003cbr\\u003eSex: maleYear: 2007Bill Length (mm): 51.3\",\"Species: Chinstrap\\u003cbr\\u003eIsland: Dream\\u003cbr\\u003eFlipper_length (mm): 188.0\\u003cbr\\u003ebody_mass (g): 3525.0\\u003cbr\\u003eSex: femaleYear: 2007Bill Length (mm): 45.4\",\"Species: Chinstrap\\u003cbr\\u003eIsland: Dream\\u003cbr\\u003eFlipper_length (mm): 197.0\\u003cbr\\u003ebody_mass (g): 3725.0\\u003cbr\\u003eSex: maleYear: 2007Bill Length (mm): 52.7\",\"Species: Chinstrap\\u003cbr\\u003eIsland: Dream\\u003cbr\\u003eFlipper_length (mm): 198.0\\u003cbr\\u003ebody_mass (g): 3950.0\\u003cbr\\u003eSex: femaleYear: 2007Bill Length (mm): 45.2\",\"Species: Chinstrap\\u003cbr\\u003eIsland: Dream\\u003cbr\\u003eFlipper_length (mm): 178.0\\u003cbr\\u003ebody_mass (g): 3250.0\\u003cbr\\u003eSex: femaleYear: 2007Bill Length (mm): 46.1\",\"Species: Chinstrap\\u003cbr\\u003eIsland: Dream\\u003cbr\\u003eFlipper_length (mm): 197.0\\u003cbr\\u003ebody_mass (g): 3750.0\\u003cbr\\u003eSex: maleYear: 2007Bill Length (mm): 51.3\",\"Species: Chinstrap\\u003cbr\\u003eIsland: Dream\\u003cbr\\u003eFlipper_length (mm): 195.0\\u003cbr\\u003ebody_mass (g): 4150.0\\u003cbr\\u003eSex: femaleYear: 2007Bill Length (mm): 46.0\",\"Species: Chinstrap\\u003cbr\\u003eIsland: Dream\\u003cbr\\u003eFlipper_length (mm): 198.0\\u003cbr\\u003ebody_mass (g): 3700.0\\u003cbr\\u003eSex: maleYear: 2007Bill Length (mm): 51.3\",\"Species: Chinstrap\\u003cbr\\u003eIsland: Dream\\u003cbr\\u003eFlipper_length (mm): 193.0\\u003cbr\\u003ebody_mass (g): 3800.0\\u003cbr\\u003eSex: femaleYear: 2007Bill Length (mm): 46.6\",\"Species: Chinstrap\\u003cbr\\u003eIsland: Dream\\u003cbr\\u003eFlipper_length (mm): 194.0\\u003cbr\\u003ebody_mass (g): 3775.0\\u003cbr\\u003eSex: maleYear: 2007Bill Length (mm): 51.7\",\"Species: Chinstrap\\u003cbr\\u003eIsland: Dream\\u003cbr\\u003eFlipper_length (mm): 185.0\\u003cbr\\u003ebody_mass (g): 3700.0\\u003cbr\\u003eSex: femaleYear: 2007Bill Length (mm): 47.0\",\"Species: Chinstrap\\u003cbr\\u003eIsland: Dream\\u003cbr\\u003eFlipper_length (mm): 201.0\\u003cbr\\u003ebody_mass (g): 4050.0\\u003cbr\\u003eSex: maleYear: 2007Bill Length (mm): 52.0\",\"Species: Chinstrap\\u003cbr\\u003eIsland: Dream\\u003cbr\\u003eFlipper_length (mm): 190.0\\u003cbr\\u003ebody_mass (g): 3575.0\\u003cbr\\u003eSex: femaleYear: 2007Bill Length (mm): 45.9\",\"Species: Chinstrap\\u003cbr\\u003eIsland: Dream\\u003cbr\\u003eFlipper_length (mm): 201.0\\u003cbr\\u003ebody_mass (g): 4050.0\\u003cbr\\u003eSex: maleYear: 2007Bill Length (mm): 50.5\",\"Species: Chinstrap\\u003cbr\\u003eIsland: Dream\\u003cbr\\u003eFlipper_length (mm): 197.0\\u003cbr\\u003ebody_mass (g): 3300.0\\u003cbr\\u003eSex: maleYear: 2007Bill Length (mm): 50.3\",\"Species: Chinstrap\\u003cbr\\u003eIsland: Dream\\u003cbr\\u003eFlipper_length (mm): 181.0\\u003cbr\\u003ebody_mass (g): 3700.0\\u003cbr\\u003eSex: femaleYear: 2007Bill Length (mm): 58.0\",\"Species: Chinstrap\\u003cbr\\u003eIsland: Dream\\u003cbr\\u003eFlipper_length (mm): 190.0\\u003cbr\\u003ebody_mass (g): 3450.0\\u003cbr\\u003eSex: femaleYear: 2007Bill Length (mm): 46.4\",\"Species: Chinstrap\\u003cbr\\u003eIsland: Dream\\u003cbr\\u003eFlipper_length (mm): 195.0\\u003cbr\\u003ebody_mass (g): 4400.0\\u003cbr\\u003eSex: maleYear: 2007Bill Length (mm): 49.2\",\"Species: Chinstrap\\u003cbr\\u003eIsland: Dream\\u003cbr\\u003eFlipper_length (mm): 181.0\\u003cbr\\u003ebody_mass (g): 3600.0\\u003cbr\\u003eSex: femaleYear: 2007Bill Length (mm): 42.4\",\"Species: Chinstrap\\u003cbr\\u003eIsland: Dream\\u003cbr\\u003eFlipper_length (mm): 191.0\\u003cbr\\u003ebody_mass (g): 3400.0\\u003cbr\\u003eSex: maleYear: 2007Bill Length (mm): 48.5\",\"Species: Chinstrap\\u003cbr\\u003eIsland: Dream\\u003cbr\\u003eFlipper_length (mm): 187.0\\u003cbr\\u003ebody_mass (g): 2900.0\\u003cbr\\u003eSex: femaleYear: 2007Bill Length (mm): 43.2\",\"Species: Chinstrap\\u003cbr\\u003eIsland: Dream\\u003cbr\\u003eFlipper_length (mm): 193.0\\u003cbr\\u003ebody_mass (g): 3800.0\\u003cbr\\u003eSex: maleYear: 2007Bill Length (mm): 50.6\",\"Species: Chinstrap\\u003cbr\\u003eIsland: Dream\\u003cbr\\u003eFlipper_length (mm): 195.0\\u003cbr\\u003ebody_mass (g): 3300.0\\u003cbr\\u003eSex: femaleYear: 2007Bill Length (mm): 46.7\",\"Species: Chinstrap\\u003cbr\\u003eIsland: Dream\\u003cbr\\u003eFlipper_length (mm): 197.0\\u003cbr\\u003ebody_mass (g): 4150.0\\u003cbr\\u003eSex: maleYear: 2007Bill Length (mm): 52.0\",\"Species: Chinstrap\\u003cbr\\u003eIsland: Dream\\u003cbr\\u003eFlipper_length (mm): 200.0\\u003cbr\\u003ebody_mass (g): 3400.0\\u003cbr\\u003eSex: femaleYear: 2008Bill Length (mm): 50.5\",\"Species: Chinstrap\\u003cbr\\u003eIsland: Dream\\u003cbr\\u003eFlipper_length (mm): 200.0\\u003cbr\\u003ebody_mass (g): 3800.0\\u003cbr\\u003eSex: maleYear: 2008Bill Length (mm): 49.5\",\"Species: Chinstrap\\u003cbr\\u003eIsland: Dream\\u003cbr\\u003eFlipper_length (mm): 191.0\\u003cbr\\u003ebody_mass (g): 3700.0\\u003cbr\\u003eSex: femaleYear: 2008Bill Length (mm): 46.4\",\"Species: Chinstrap\\u003cbr\\u003eIsland: Dream\\u003cbr\\u003eFlipper_length (mm): 205.0\\u003cbr\\u003ebody_mass (g): 4550.0\\u003cbr\\u003eSex: maleYear: 2008Bill Length (mm): 52.8\",\"Species: Chinstrap\\u003cbr\\u003eIsland: Dream\\u003cbr\\u003eFlipper_length (mm): 187.0\\u003cbr\\u003ebody_mass (g): 3200.0\\u003cbr\\u003eSex: femaleYear: 2008Bill Length (mm): 40.9\",\"Species: Chinstrap\\u003cbr\\u003eIsland: Dream\\u003cbr\\u003eFlipper_length (mm): 201.0\\u003cbr\\u003ebody_mass (g): 4300.0\\u003cbr\\u003eSex: maleYear: 2008Bill Length (mm): 54.2\",\"Species: Chinstrap\\u003cbr\\u003eIsland: Dream\\u003cbr\\u003eFlipper_length (mm): 187.0\\u003cbr\\u003ebody_mass (g): 3350.0\\u003cbr\\u003eSex: femaleYear: 2008Bill Length (mm): 42.5\",\"Species: Chinstrap\\u003cbr\\u003eIsland: Dream\\u003cbr\\u003eFlipper_length (mm): 203.0\\u003cbr\\u003ebody_mass (g): 4100.0\\u003cbr\\u003eSex: maleYear: 2008Bill Length (mm): 51.0\",\"Species: Chinstrap\\u003cbr\\u003eIsland: Dream\\u003cbr\\u003eFlipper_length (mm): 195.0\\u003cbr\\u003ebody_mass (g): 3600.0\\u003cbr\\u003eSex: maleYear: 2008Bill Length (mm): 49.7\",\"Species: Chinstrap\\u003cbr\\u003eIsland: Dream\\u003cbr\\u003eFlipper_length (mm): 199.0\\u003cbr\\u003ebody_mass (g): 3900.0\\u003cbr\\u003eSex: femaleYear: 2008Bill Length (mm): 47.5\",\"Species: Chinstrap\\u003cbr\\u003eIsland: Dream\\u003cbr\\u003eFlipper_length (mm): 195.0\\u003cbr\\u003ebody_mass (g): 3850.0\\u003cbr\\u003eSex: femaleYear: 2008Bill Length (mm): 47.6\",\"Species: Chinstrap\\u003cbr\\u003eIsland: Dream\\u003cbr\\u003eFlipper_length (mm): 210.0\\u003cbr\\u003ebody_mass (g): 4800.0\\u003cbr\\u003eSex: maleYear: 2008Bill Length (mm): 52.0\",\"Species: Chinstrap\\u003cbr\\u003eIsland: Dream\\u003cbr\\u003eFlipper_length (mm): 192.0\\u003cbr\\u003ebody_mass (g): 2700.0\\u003cbr\\u003eSex: femaleYear: 2008Bill Length (mm): 46.9\",\"Species: Chinstrap\\u003cbr\\u003eIsland: Dream\\u003cbr\\u003eFlipper_length (mm): 205.0\\u003cbr\\u003ebody_mass (g): 4500.0\\u003cbr\\u003eSex: maleYear: 2008Bill Length (mm): 53.5\",\"Species: Chinstrap\\u003cbr\\u003eIsland: Dream\\u003cbr\\u003eFlipper_length (mm): 210.0\\u003cbr\\u003ebody_mass (g): 3950.0\\u003cbr\\u003eSex: maleYear: 2008Bill Length (mm): 49.0\",\"Species: Chinstrap\\u003cbr\\u003eIsland: Dream\\u003cbr\\u003eFlipper_length (mm): 187.0\\u003cbr\\u003ebody_mass (g): 3650.0\\u003cbr\\u003eSex: femaleYear: 2008Bill Length (mm): 46.2\",\"Species: Chinstrap\\u003cbr\\u003eIsland: Dream\\u003cbr\\u003eFlipper_length (mm): 196.0\\u003cbr\\u003ebody_mass (g): 3550.0\\u003cbr\\u003eSex: maleYear: 2008Bill Length (mm): 50.9\",\"Species: Chinstrap\\u003cbr\\u003eIsland: Dream\\u003cbr\\u003eFlipper_length (mm): 196.0\\u003cbr\\u003ebody_mass (g): 3500.0\\u003cbr\\u003eSex: femaleYear: 2008Bill Length (mm): 45.5\",\"Species: Chinstrap\\u003cbr\\u003eIsland: Dream\\u003cbr\\u003eFlipper_length (mm): 196.0\\u003cbr\\u003ebody_mass (g): 3675.0\\u003cbr\\u003eSex: femaleYear: 2009Bill Length (mm): 50.9\",\"Species: Chinstrap\\u003cbr\\u003eIsland: Dream\\u003cbr\\u003eFlipper_length (mm): 201.0\\u003cbr\\u003ebody_mass (g): 4450.0\\u003cbr\\u003eSex: maleYear: 2009Bill Length (mm): 50.8\",\"Species: Chinstrap\\u003cbr\\u003eIsland: Dream\\u003cbr\\u003eFlipper_length (mm): 190.0\\u003cbr\\u003ebody_mass (g): 3400.0\\u003cbr\\u003eSex: femaleYear: 2009Bill Length (mm): 50.1\",\"Species: Chinstrap\\u003cbr\\u003eIsland: Dream\\u003cbr\\u003eFlipper_length (mm): 212.0\\u003cbr\\u003ebody_mass (g): 4300.0\\u003cbr\\u003eSex: maleYear: 2009Bill Length (mm): 49.0\",\"Species: Chinstrap\\u003cbr\\u003eIsland: Dream\\u003cbr\\u003eFlipper_length (mm): 187.0\\u003cbr\\u003ebody_mass (g): 3250.0\\u003cbr\\u003eSex: maleYear: 2009Bill Length (mm): 51.5\",\"Species: Chinstrap\\u003cbr\\u003eIsland: Dream\\u003cbr\\u003eFlipper_length (mm): 198.0\\u003cbr\\u003ebody_mass (g): 3675.0\\u003cbr\\u003eSex: femaleYear: 2009Bill Length (mm): 49.8\",\"Species: Chinstrap\\u003cbr\\u003eIsland: Dream\\u003cbr\\u003eFlipper_length (mm): 199.0\\u003cbr\\u003ebody_mass (g): 3325.0\\u003cbr\\u003eSex: femaleYear: 2009Bill Length (mm): 48.1\",\"Species: Chinstrap\\u003cbr\\u003eIsland: Dream\\u003cbr\\u003eFlipper_length (mm): 201.0\\u003cbr\\u003ebody_mass (g): 3950.0\\u003cbr\\u003eSex: maleYear: 2009Bill Length (mm): 51.4\",\"Species: Chinstrap\\u003cbr\\u003eIsland: Dream\\u003cbr\\u003eFlipper_length (mm): 193.0\\u003cbr\\u003ebody_mass (g): 3600.0\\u003cbr\\u003eSex: femaleYear: 2009Bill Length (mm): 45.7\",\"Species: Chinstrap\\u003cbr\\u003eIsland: Dream\\u003cbr\\u003eFlipper_length (mm): 203.0\\u003cbr\\u003ebody_mass (g): 4050.0\\u003cbr\\u003eSex: maleYear: 2009Bill Length (mm): 50.7\",\"Species: Chinstrap\\u003cbr\\u003eIsland: Dream\\u003cbr\\u003eFlipper_length (mm): 187.0\\u003cbr\\u003ebody_mass (g): 3350.0\\u003cbr\\u003eSex: femaleYear: 2009Bill Length (mm): 42.5\",\"Species: Chinstrap\\u003cbr\\u003eIsland: Dream\\u003cbr\\u003eFlipper_length (mm): 197.0\\u003cbr\\u003ebody_mass (g): 3450.0\\u003cbr\\u003eSex: maleYear: 2009Bill Length (mm): 52.2\",\"Species: Chinstrap\\u003cbr\\u003eIsland: Dream\\u003cbr\\u003eFlipper_length (mm): 191.0\\u003cbr\\u003ebody_mass (g): 3250.0\\u003cbr\\u003eSex: femaleYear: 2009Bill Length (mm): 45.2\",\"Species: Chinstrap\\u003cbr\\u003eIsland: Dream\\u003cbr\\u003eFlipper_length (mm): 203.0\\u003cbr\\u003ebody_mass (g): 4050.0\\u003cbr\\u003eSex: maleYear: 2009Bill Length (mm): 49.3\",\"Species: Chinstrap\\u003cbr\\u003eIsland: Dream\\u003cbr\\u003eFlipper_length (mm): 202.0\\u003cbr\\u003ebody_mass (g): 3800.0\\u003cbr\\u003eSex: maleYear: 2009Bill Length (mm): 50.2\",\"Species: Chinstrap\\u003cbr\\u003eIsland: Dream\\u003cbr\\u003eFlipper_length (mm): 194.0\\u003cbr\\u003ebody_mass (g): 3525.0\\u003cbr\\u003eSex: femaleYear: 2009Bill Length (mm): 45.6\",\"Species: Chinstrap\\u003cbr\\u003eIsland: Dream\\u003cbr\\u003eFlipper_length (mm): 206.0\\u003cbr\\u003ebody_mass (g): 3950.0\\u003cbr\\u003eSex: maleYear: 2009Bill Length (mm): 51.9\",\"Species: Chinstrap\\u003cbr\\u003eIsland: Dream\\u003cbr\\u003eFlipper_length (mm): 189.0\\u003cbr\\u003ebody_mass (g): 3650.0\\u003cbr\\u003eSex: femaleYear: 2009Bill Length (mm): 46.8\",\"Species: Chinstrap\\u003cbr\\u003eIsland: Dream\\u003cbr\\u003eFlipper_length (mm): 195.0\\u003cbr\\u003ebody_mass (g): 3650.0\\u003cbr\\u003eSex: femaleYear: 2009Bill Length (mm): 45.7\",\"Species: Chinstrap\\u003cbr\\u003eIsland: Dream\\u003cbr\\u003eFlipper_length (mm): 207.0\\u003cbr\\u003ebody_mass (g): 4000.0\\u003cbr\\u003eSex: maleYear: 2009Bill Length (mm): 55.8\",\"Species: Chinstrap\\u003cbr\\u003eIsland: Dream\\u003cbr\\u003eFlipper_length (mm): 202.0\\u003cbr\\u003ebody_mass (g): 3400.0\\u003cbr\\u003eSex: femaleYear: 2009Bill Length (mm): 43.5\",\"Species: Chinstrap\\u003cbr\\u003eIsland: Dream\\u003cbr\\u003eFlipper_length (mm): 193.0\\u003cbr\\u003ebody_mass (g): 3775.0\\u003cbr\\u003eSex: maleYear: 2009Bill Length (mm): 49.6\",\"Species: Chinstrap\\u003cbr\\u003eIsland: Dream\\u003cbr\\u003eFlipper_length (mm): 210.0\\u003cbr\\u003ebody_mass (g): 4100.0\\u003cbr\\u003eSex: maleYear: 2009Bill Length (mm): 50.8\",\"Species: Chinstrap\\u003cbr\\u003eIsland: Dream\\u003cbr\\u003eFlipper_length (mm): 198.0\\u003cbr\\u003ebody_mass (g): 3775.0\\u003cbr\\u003eSex: femaleYear: 2009Bill Length (mm): 50.2\"],\"x\":[192.0,196.0,193.0,188.0,197.0,198.0,178.0,197.0,195.0,198.0,193.0,194.0,185.0,201.0,190.0,201.0,197.0,181.0,190.0,195.0,181.0,191.0,187.0,193.0,195.0,197.0,200.0,200.0,191.0,205.0,187.0,201.0,187.0,203.0,195.0,199.0,195.0,210.0,192.0,205.0,210.0,187.0,196.0,196.0,196.0,201.0,190.0,212.0,187.0,198.0,199.0,201.0,193.0,203.0,187.0,197.0,191.0,203.0,202.0,194.0,206.0,189.0,195.0,207.0,202.0,193.0,210.0,198.0],\"y\":[3500.0,3900.0,3650.0,3525.0,3725.0,3950.0,3250.0,3750.0,4150.0,3700.0,3800.0,3775.0,3700.0,4050.0,3575.0,4050.0,3300.0,3700.0,3450.0,4400.0,3600.0,3400.0,2900.0,3800.0,3300.0,4150.0,3400.0,3800.0,3700.0,4550.0,3200.0,4300.0,3350.0,4100.0,3600.0,3900.0,3850.0,4800.0,2700.0,4500.0,3950.0,3650.0,3550.0,3500.0,3675.0,4450.0,3400.0,4300.0,3250.0,3675.0,3325.0,3950.0,3600.0,4050.0,3350.0,3450.0,3250.0,4050.0,3800.0,3525.0,3950.0,3650.0,3650.0,4000.0,3400.0,3775.0,4100.0,3775.0],\"type\":\"scatter\",\"mode\":\"markers\"},{\"marker\":{\"size\":[46.1,50.0,48.7,50.0,47.6,46.5,45.4,46.7,43.3,46.8,40.9,49.0,45.5,48.4,45.8,49.3,42.0,49.2,46.2,48.7,50.2,45.1,46.5,46.3,42.9,46.1,44.5,47.8,48.2,50.0,47.3,42.8,45.1,59.6,49.1,48.4,42.6,44.4,44.0,48.7,42.7,49.6,45.3,49.6,50.5,43.6,45.5,50.5,44.9,45.2,46.6,48.5,45.1,50.1,46.5,45.0,43.8,45.5,43.2,50.4,45.3,46.2,45.7,54.3,45.8,49.8,46.2,49.5,43.5,50.7,47.7,46.4,48.2,46.5,46.4,48.6,47.5,51.1,45.2,45.2,49.1,52.5,47.4,50.0,44.9,50.8,43.4,51.3,47.5,52.1,47.5,52.2,45.5,49.5,44.5,50.8,49.4,46.9,48.4,51.1,48.5,55.9,47.2,49.1,47.3,46.8,41.7,53.4,43.3,48.1,50.5,49.8,43.5,51.5,46.2,55.1,44.5,48.8,47.2,46.8,50.4,45.2,49.9],\"line\":{\"width\":2},\"sizemode\":\"area\",\"sizeref\":0.2648888888888889},\"name\":\"Gentoo\",\"text\":[\"Species: Gentoo\\u003cbr\\u003eIsland: Biscoe\\u003cbr\\u003eFlipper_length (mm): 211.0\\u003cbr\\u003ebody_mass (g): 4500.0\\u003cbr\\u003eSex: femaleYear: 2007Bill Length (mm): 46.1\",\"Species: Gentoo\\u003cbr\\u003eIsland: Biscoe\\u003cbr\\u003eFlipper_length (mm): 230.0\\u003cbr\\u003ebody_mass (g): 5700.0\\u003cbr\\u003eSex: maleYear: 2007Bill Length (mm): 50.0\",\"Species: Gentoo\\u003cbr\\u003eIsland: Biscoe\\u003cbr\\u003eFlipper_length (mm): 210.0\\u003cbr\\u003ebody_mass (g): 4450.0\\u003cbr\\u003eSex: femaleYear: 2007Bill Length (mm): 48.7\",\"Species: Gentoo\\u003cbr\\u003eIsland: Biscoe\\u003cbr\\u003eFlipper_length (mm): 218.0\\u003cbr\\u003ebody_mass (g): 5700.0\\u003cbr\\u003eSex: maleYear: 2007Bill Length (mm): 50.0\",\"Species: Gentoo\\u003cbr\\u003eIsland: Biscoe\\u003cbr\\u003eFlipper_length (mm): 215.0\\u003cbr\\u003ebody_mass (g): 5400.0\\u003cbr\\u003eSex: maleYear: 2007Bill Length (mm): 47.6\",\"Species: Gentoo\\u003cbr\\u003eIsland: Biscoe\\u003cbr\\u003eFlipper_length (mm): 210.0\\u003cbr\\u003ebody_mass (g): 4550.0\\u003cbr\\u003eSex: femaleYear: 2007Bill Length (mm): 46.5\",\"Species: Gentoo\\u003cbr\\u003eIsland: Biscoe\\u003cbr\\u003eFlipper_length (mm): 211.0\\u003cbr\\u003ebody_mass (g): 4800.0\\u003cbr\\u003eSex: femaleYear: 2007Bill Length (mm): 45.4\",\"Species: Gentoo\\u003cbr\\u003eIsland: Biscoe\\u003cbr\\u003eFlipper_length (mm): 219.0\\u003cbr\\u003ebody_mass (g): 5200.0\\u003cbr\\u003eSex: maleYear: 2007Bill Length (mm): 46.7\",\"Species: Gentoo\\u003cbr\\u003eIsland: Biscoe\\u003cbr\\u003eFlipper_length (mm): 209.0\\u003cbr\\u003ebody_mass (g): 4400.0\\u003cbr\\u003eSex: femaleYear: 2007Bill Length (mm): 43.3\",\"Species: Gentoo\\u003cbr\\u003eIsland: Biscoe\\u003cbr\\u003eFlipper_length (mm): 215.0\\u003cbr\\u003ebody_mass (g): 5150.0\\u003cbr\\u003eSex: maleYear: 2007Bill Length (mm): 46.8\",\"Species: Gentoo\\u003cbr\\u003eIsland: Biscoe\\u003cbr\\u003eFlipper_length (mm): 214.0\\u003cbr\\u003ebody_mass (g): 4650.0\\u003cbr\\u003eSex: femaleYear: 2007Bill Length (mm): 40.9\",\"Species: Gentoo\\u003cbr\\u003eIsland: Biscoe\\u003cbr\\u003eFlipper_length (mm): 216.0\\u003cbr\\u003ebody_mass (g): 5550.0\\u003cbr\\u003eSex: maleYear: 2007Bill Length (mm): 49.0\",\"Species: Gentoo\\u003cbr\\u003eIsland: Biscoe\\u003cbr\\u003eFlipper_length (mm): 214.0\\u003cbr\\u003ebody_mass (g): 4650.0\\u003cbr\\u003eSex: femaleYear: 2007Bill Length (mm): 45.5\",\"Species: Gentoo\\u003cbr\\u003eIsland: Biscoe\\u003cbr\\u003eFlipper_length (mm): 213.0\\u003cbr\\u003ebody_mass (g): 5850.0\\u003cbr\\u003eSex: maleYear: 2007Bill Length (mm): 48.4\",\"Species: Gentoo\\u003cbr\\u003eIsland: Biscoe\\u003cbr\\u003eFlipper_length (mm): 210.0\\u003cbr\\u003ebody_mass (g): 4200.0\\u003cbr\\u003eSex: femaleYear: 2007Bill Length (mm): 45.8\",\"Species: Gentoo\\u003cbr\\u003eIsland: Biscoe\\u003cbr\\u003eFlipper_length (mm): 217.0\\u003cbr\\u003ebody_mass (g): 5850.0\\u003cbr\\u003eSex: maleYear: 2007Bill Length (mm): 49.3\",\"Species: Gentoo\\u003cbr\\u003eIsland: Biscoe\\u003cbr\\u003eFlipper_length (mm): 210.0\\u003cbr\\u003ebody_mass (g): 4150.0\\u003cbr\\u003eSex: femaleYear: 2007Bill Length (mm): 42.0\",\"Species: Gentoo\\u003cbr\\u003eIsland: Biscoe\\u003cbr\\u003eFlipper_length (mm): 221.0\\u003cbr\\u003ebody_mass (g): 6300.0\\u003cbr\\u003eSex: maleYear: 2007Bill Length (mm): 49.2\",\"Species: Gentoo\\u003cbr\\u003eIsland: Biscoe\\u003cbr\\u003eFlipper_length (mm): 209.0\\u003cbr\\u003ebody_mass (g): 4800.0\\u003cbr\\u003eSex: femaleYear: 2007Bill Length (mm): 46.2\",\"Species: Gentoo\\u003cbr\\u003eIsland: Biscoe\\u003cbr\\u003eFlipper_length (mm): 222.0\\u003cbr\\u003ebody_mass (g): 5350.0\\u003cbr\\u003eSex: maleYear: 2007Bill Length (mm): 48.7\",\"Species: Gentoo\\u003cbr\\u003eIsland: Biscoe\\u003cbr\\u003eFlipper_length (mm): 218.0\\u003cbr\\u003ebody_mass (g): 5700.0\\u003cbr\\u003eSex: maleYear: 2007Bill Length (mm): 50.2\",\"Species: Gentoo\\u003cbr\\u003eIsland: Biscoe\\u003cbr\\u003eFlipper_length (mm): 215.0\\u003cbr\\u003ebody_mass (g): 5000.0\\u003cbr\\u003eSex: femaleYear: 2007Bill Length (mm): 45.1\",\"Species: Gentoo\\u003cbr\\u003eIsland: Biscoe\\u003cbr\\u003eFlipper_length (mm): 213.0\\u003cbr\\u003ebody_mass (g): 4400.0\\u003cbr\\u003eSex: femaleYear: 2007Bill Length (mm): 46.5\",\"Species: Gentoo\\u003cbr\\u003eIsland: Biscoe\\u003cbr\\u003eFlipper_length (mm): 215.0\\u003cbr\\u003ebody_mass (g): 5050.0\\u003cbr\\u003eSex: maleYear: 2007Bill Length (mm): 46.3\",\"Species: Gentoo\\u003cbr\\u003eIsland: Biscoe\\u003cbr\\u003eFlipper_length (mm): 215.0\\u003cbr\\u003ebody_mass (g): 5000.0\\u003cbr\\u003eSex: femaleYear: 2007Bill Length (mm): 42.9\",\"Species: Gentoo\\u003cbr\\u003eIsland: Biscoe\\u003cbr\\u003eFlipper_length (mm): 215.0\\u003cbr\\u003ebody_mass (g): 5100.0\\u003cbr\\u003eSex: maleYear: 2007Bill Length (mm): 46.1\",\"Species: Gentoo\\u003cbr\\u003eIsland: Biscoe\\u003cbr\\u003eFlipper_length (mm): 216.0\\u003cbr\\u003ebody_mass (g): 4100.0\\u003cbr\\u003eSex: nanYear: 2007Bill Length (mm): 44.5\",\"Species: Gentoo\\u003cbr\\u003eIsland: Biscoe\\u003cbr\\u003eFlipper_length (mm): 215.0\\u003cbr\\u003ebody_mass (g): 5650.0\\u003cbr\\u003eSex: maleYear: 2007Bill Length (mm): 47.8\",\"Species: Gentoo\\u003cbr\\u003eIsland: Biscoe\\u003cbr\\u003eFlipper_length (mm): 210.0\\u003cbr\\u003ebody_mass (g): 4600.0\\u003cbr\\u003eSex: femaleYear: 2007Bill Length (mm): 48.2\",\"Species: Gentoo\\u003cbr\\u003eIsland: Biscoe\\u003cbr\\u003eFlipper_length (mm): 220.0\\u003cbr\\u003ebody_mass (g): 5550.0\\u003cbr\\u003eSex: maleYear: 2007Bill Length (mm): 50.0\",\"Species: Gentoo\\u003cbr\\u003eIsland: Biscoe\\u003cbr\\u003eFlipper_length (mm): 222.0\\u003cbr\\u003ebody_mass (g): 5250.0\\u003cbr\\u003eSex: maleYear: 2007Bill Length (mm): 47.3\",\"Species: Gentoo\\u003cbr\\u003eIsland: Biscoe\\u003cbr\\u003eFlipper_length (mm): 209.0\\u003cbr\\u003ebody_mass (g): 4700.0\\u003cbr\\u003eSex: femaleYear: 2007Bill Length (mm): 42.8\",\"Species: Gentoo\\u003cbr\\u003eIsland: Biscoe\\u003cbr\\u003eFlipper_length (mm): 207.0\\u003cbr\\u003ebody_mass (g): 5050.0\\u003cbr\\u003eSex: femaleYear: 2007Bill Length (mm): 45.1\",\"Species: Gentoo\\u003cbr\\u003eIsland: Biscoe\\u003cbr\\u003eFlipper_length (mm): 230.0\\u003cbr\\u003ebody_mass (g): 6050.0\\u003cbr\\u003eSex: maleYear: 2007Bill Length (mm): 59.6\",\"Species: Gentoo\\u003cbr\\u003eIsland: Biscoe\\u003cbr\\u003eFlipper_length (mm): 220.0\\u003cbr\\u003ebody_mass (g): 5150.0\\u003cbr\\u003eSex: femaleYear: 2008Bill Length (mm): 49.1\",\"Species: Gentoo\\u003cbr\\u003eIsland: Biscoe\\u003cbr\\u003eFlipper_length (mm): 220.0\\u003cbr\\u003ebody_mass (g): 5400.0\\u003cbr\\u003eSex: maleYear: 2008Bill Length (mm): 48.4\",\"Species: Gentoo\\u003cbr\\u003eIsland: Biscoe\\u003cbr\\u003eFlipper_length (mm): 213.0\\u003cbr\\u003ebody_mass (g): 4950.0\\u003cbr\\u003eSex: femaleYear: 2008Bill Length (mm): 42.6\",\"Species: Gentoo\\u003cbr\\u003eIsland: Biscoe\\u003cbr\\u003eFlipper_length (mm): 219.0\\u003cbr\\u003ebody_mass (g): 5250.0\\u003cbr\\u003eSex: maleYear: 2008Bill Length (mm): 44.4\",\"Species: Gentoo\\u003cbr\\u003eIsland: Biscoe\\u003cbr\\u003eFlipper_length (mm): 208.0\\u003cbr\\u003ebody_mass (g): 4350.0\\u003cbr\\u003eSex: femaleYear: 2008Bill Length (mm): 44.0\",\"Species: Gentoo\\u003cbr\\u003eIsland: Biscoe\\u003cbr\\u003eFlipper_length (mm): 208.0\\u003cbr\\u003ebody_mass (g): 5350.0\\u003cbr\\u003eSex: maleYear: 2008Bill Length (mm): 48.7\",\"Species: Gentoo\\u003cbr\\u003eIsland: Biscoe\\u003cbr\\u003eFlipper_length (mm): 208.0\\u003cbr\\u003ebody_mass (g): 3950.0\\u003cbr\\u003eSex: femaleYear: 2008Bill Length (mm): 42.7\",\"Species: Gentoo\\u003cbr\\u003eIsland: Biscoe\\u003cbr\\u003eFlipper_length (mm): 225.0\\u003cbr\\u003ebody_mass (g): 5700.0\\u003cbr\\u003eSex: maleYear: 2008Bill Length (mm): 49.6\",\"Species: Gentoo\\u003cbr\\u003eIsland: Biscoe\\u003cbr\\u003eFlipper_length (mm): 210.0\\u003cbr\\u003ebody_mass (g): 4300.0\\u003cbr\\u003eSex: femaleYear: 2008Bill Length (mm): 45.3\",\"Species: Gentoo\\u003cbr\\u003eIsland: Biscoe\\u003cbr\\u003eFlipper_length (mm): 216.0\\u003cbr\\u003ebody_mass (g): 4750.0\\u003cbr\\u003eSex: maleYear: 2008Bill Length (mm): 49.6\",\"Species: Gentoo\\u003cbr\\u003eIsland: Biscoe\\u003cbr\\u003eFlipper_length (mm): 222.0\\u003cbr\\u003ebody_mass (g): 5550.0\\u003cbr\\u003eSex: maleYear: 2008Bill Length (mm): 50.5\",\"Species: Gentoo\\u003cbr\\u003eIsland: Biscoe\\u003cbr\\u003eFlipper_length (mm): 217.0\\u003cbr\\u003ebody_mass (g): 4900.0\\u003cbr\\u003eSex: femaleYear: 2008Bill Length (mm): 43.6\",\"Species: Gentoo\\u003cbr\\u003eIsland: Biscoe\\u003cbr\\u003eFlipper_length (mm): 210.0\\u003cbr\\u003ebody_mass (g): 4200.0\\u003cbr\\u003eSex: femaleYear: 2008Bill Length (mm): 45.5\",\"Species: Gentoo\\u003cbr\\u003eIsland: Biscoe\\u003cbr\\u003eFlipper_length (mm): 225.0\\u003cbr\\u003ebody_mass (g): 5400.0\\u003cbr\\u003eSex: maleYear: 2008Bill Length (mm): 50.5\",\"Species: Gentoo\\u003cbr\\u003eIsland: Biscoe\\u003cbr\\u003eFlipper_length (mm): 213.0\\u003cbr\\u003ebody_mass (g): 5100.0\\u003cbr\\u003eSex: femaleYear: 2008Bill Length (mm): 44.9\",\"Species: Gentoo\\u003cbr\\u003eIsland: Biscoe\\u003cbr\\u003eFlipper_length (mm): 215.0\\u003cbr\\u003ebody_mass (g): 5300.0\\u003cbr\\u003eSex: maleYear: 2008Bill Length (mm): 45.2\",\"Species: Gentoo\\u003cbr\\u003eIsland: Biscoe\\u003cbr\\u003eFlipper_length (mm): 210.0\\u003cbr\\u003ebody_mass (g): 4850.0\\u003cbr\\u003eSex: femaleYear: 2008Bill Length (mm): 46.6\",\"Species: Gentoo\\u003cbr\\u003eIsland: Biscoe\\u003cbr\\u003eFlipper_length (mm): 220.0\\u003cbr\\u003ebody_mass (g): 5300.0\\u003cbr\\u003eSex: maleYear: 2008Bill Length (mm): 48.5\",\"Species: Gentoo\\u003cbr\\u003eIsland: Biscoe\\u003cbr\\u003eFlipper_length (mm): 210.0\\u003cbr\\u003ebody_mass (g): 4400.0\\u003cbr\\u003eSex: femaleYear: 2008Bill Length (mm): 45.1\",\"Species: Gentoo\\u003cbr\\u003eIsland: Biscoe\\u003cbr\\u003eFlipper_length (mm): 225.0\\u003cbr\\u003ebody_mass (g): 5000.0\\u003cbr\\u003eSex: maleYear: 2008Bill Length (mm): 50.1\",\"Species: Gentoo\\u003cbr\\u003eIsland: Biscoe\\u003cbr\\u003eFlipper_length (mm): 217.0\\u003cbr\\u003ebody_mass (g): 4900.0\\u003cbr\\u003eSex: femaleYear: 2008Bill Length (mm): 46.5\",\"Species: Gentoo\\u003cbr\\u003eIsland: Biscoe\\u003cbr\\u003eFlipper_length (mm): 220.0\\u003cbr\\u003ebody_mass (g): 5050.0\\u003cbr\\u003eSex: maleYear: 2008Bill Length (mm): 45.0\",\"Species: Gentoo\\u003cbr\\u003eIsland: Biscoe\\u003cbr\\u003eFlipper_length (mm): 208.0\\u003cbr\\u003ebody_mass (g): 4300.0\\u003cbr\\u003eSex: femaleYear: 2008Bill Length (mm): 43.8\",\"Species: Gentoo\\u003cbr\\u003eIsland: Biscoe\\u003cbr\\u003eFlipper_length (mm): 220.0\\u003cbr\\u003ebody_mass (g): 5000.0\\u003cbr\\u003eSex: maleYear: 2008Bill Length (mm): 45.5\",\"Species: Gentoo\\u003cbr\\u003eIsland: Biscoe\\u003cbr\\u003eFlipper_length (mm): 208.0\\u003cbr\\u003ebody_mass (g): 4450.0\\u003cbr\\u003eSex: femaleYear: 2008Bill Length (mm): 43.2\",\"Species: Gentoo\\u003cbr\\u003eIsland: Biscoe\\u003cbr\\u003eFlipper_length (mm): 224.0\\u003cbr\\u003ebody_mass (g): 5550.0\\u003cbr\\u003eSex: maleYear: 2008Bill Length (mm): 50.4\",\"Species: Gentoo\\u003cbr\\u003eIsland: Biscoe\\u003cbr\\u003eFlipper_length (mm): 208.0\\u003cbr\\u003ebody_mass (g): 4200.0\\u003cbr\\u003eSex: femaleYear: 2008Bill Length (mm): 45.3\",\"Species: Gentoo\\u003cbr\\u003eIsland: Biscoe\\u003cbr\\u003eFlipper_length (mm): 221.0\\u003cbr\\u003ebody_mass (g): 5300.0\\u003cbr\\u003eSex: maleYear: 2008Bill Length (mm): 46.2\",\"Species: Gentoo\\u003cbr\\u003eIsland: Biscoe\\u003cbr\\u003eFlipper_length (mm): 214.0\\u003cbr\\u003ebody_mass (g): 4400.0\\u003cbr\\u003eSex: femaleYear: 2008Bill Length (mm): 45.7\",\"Species: Gentoo\\u003cbr\\u003eIsland: Biscoe\\u003cbr\\u003eFlipper_length (mm): 231.0\\u003cbr\\u003ebody_mass (g): 5650.0\\u003cbr\\u003eSex: maleYear: 2008Bill Length (mm): 54.3\",\"Species: Gentoo\\u003cbr\\u003eIsland: Biscoe\\u003cbr\\u003eFlipper_length (mm): 219.0\\u003cbr\\u003ebody_mass (g): 4700.0\\u003cbr\\u003eSex: femaleYear: 2008Bill Length (mm): 45.8\",\"Species: Gentoo\\u003cbr\\u003eIsland: Biscoe\\u003cbr\\u003eFlipper_length (mm): 230.0\\u003cbr\\u003ebody_mass (g): 5700.0\\u003cbr\\u003eSex: maleYear: 2008Bill Length (mm): 49.8\",\"Species: Gentoo\\u003cbr\\u003eIsland: Biscoe\\u003cbr\\u003eFlipper_length (mm): 214.0\\u003cbr\\u003ebody_mass (g): 4650.0\\u003cbr\\u003eSex: nanYear: 2008Bill Length (mm): 46.2\",\"Species: Gentoo\\u003cbr\\u003eIsland: Biscoe\\u003cbr\\u003eFlipper_length (mm): 229.0\\u003cbr\\u003ebody_mass (g): 5800.0\\u003cbr\\u003eSex: maleYear: 2008Bill Length (mm): 49.5\",\"Species: Gentoo\\u003cbr\\u003eIsland: Biscoe\\u003cbr\\u003eFlipper_length (mm): 220.0\\u003cbr\\u003ebody_mass (g): 4700.0\\u003cbr\\u003eSex: femaleYear: 2008Bill Length (mm): 43.5\",\"Species: Gentoo\\u003cbr\\u003eIsland: Biscoe\\u003cbr\\u003eFlipper_length (mm): 223.0\\u003cbr\\u003ebody_mass (g): 5550.0\\u003cbr\\u003eSex: maleYear: 2008Bill Length (mm): 50.7\",\"Species: Gentoo\\u003cbr\\u003eIsland: Biscoe\\u003cbr\\u003eFlipper_length (mm): 216.0\\u003cbr\\u003ebody_mass (g): 4750.0\\u003cbr\\u003eSex: femaleYear: 2008Bill Length (mm): 47.7\",\"Species: Gentoo\\u003cbr\\u003eIsland: Biscoe\\u003cbr\\u003eFlipper_length (mm): 221.0\\u003cbr\\u003ebody_mass (g): 5000.0\\u003cbr\\u003eSex: maleYear: 2008Bill Length (mm): 46.4\",\"Species: Gentoo\\u003cbr\\u003eIsland: Biscoe\\u003cbr\\u003eFlipper_length (mm): 221.0\\u003cbr\\u003ebody_mass (g): 5100.0\\u003cbr\\u003eSex: maleYear: 2008Bill Length (mm): 48.2\",\"Species: Gentoo\\u003cbr\\u003eIsland: Biscoe\\u003cbr\\u003eFlipper_length (mm): 217.0\\u003cbr\\u003ebody_mass (g): 5200.0\\u003cbr\\u003eSex: femaleYear: 2008Bill Length (mm): 46.5\",\"Species: Gentoo\\u003cbr\\u003eIsland: Biscoe\\u003cbr\\u003eFlipper_length (mm): 216.0\\u003cbr\\u003ebody_mass (g): 4700.0\\u003cbr\\u003eSex: femaleYear: 2008Bill Length (mm): 46.4\",\"Species: Gentoo\\u003cbr\\u003eIsland: Biscoe\\u003cbr\\u003eFlipper_length (mm): 230.0\\u003cbr\\u003ebody_mass (g): 5800.0\\u003cbr\\u003eSex: maleYear: 2008Bill Length (mm): 48.6\",\"Species: Gentoo\\u003cbr\\u003eIsland: Biscoe\\u003cbr\\u003eFlipper_length (mm): 209.0\\u003cbr\\u003ebody_mass (g): 4600.0\\u003cbr\\u003eSex: femaleYear: 2008Bill Length (mm): 47.5\",\"Species: Gentoo\\u003cbr\\u003eIsland: Biscoe\\u003cbr\\u003eFlipper_length (mm): 220.0\\u003cbr\\u003ebody_mass (g): 6000.0\\u003cbr\\u003eSex: maleYear: 2008Bill Length (mm): 51.1\",\"Species: Gentoo\\u003cbr\\u003eIsland: Biscoe\\u003cbr\\u003eFlipper_length (mm): 215.0\\u003cbr\\u003ebody_mass (g): 4750.0\\u003cbr\\u003eSex: femaleYear: 2008Bill Length (mm): 45.2\",\"Species: Gentoo\\u003cbr\\u003eIsland: Biscoe\\u003cbr\\u003eFlipper_length (mm): 223.0\\u003cbr\\u003ebody_mass (g): 5950.0\\u003cbr\\u003eSex: maleYear: 2008Bill Length (mm): 45.2\",\"Species: Gentoo\\u003cbr\\u003eIsland: Biscoe\\u003cbr\\u003eFlipper_length (mm): 212.0\\u003cbr\\u003ebody_mass (g): 4625.0\\u003cbr\\u003eSex: femaleYear: 2009Bill Length (mm): 49.1\",\"Species: Gentoo\\u003cbr\\u003eIsland: Biscoe\\u003cbr\\u003eFlipper_length (mm): 221.0\\u003cbr\\u003ebody_mass (g): 5450.0\\u003cbr\\u003eSex: maleYear: 2009Bill Length (mm): 52.5\",\"Species: Gentoo\\u003cbr\\u003eIsland: Biscoe\\u003cbr\\u003eFlipper_length (mm): 212.0\\u003cbr\\u003ebody_mass (g): 4725.0\\u003cbr\\u003eSex: femaleYear: 2009Bill Length (mm): 47.4\",\"Species: Gentoo\\u003cbr\\u003eIsland: Biscoe\\u003cbr\\u003eFlipper_length (mm): 224.0\\u003cbr\\u003ebody_mass (g): 5350.0\\u003cbr\\u003eSex: maleYear: 2009Bill Length (mm): 50.0\",\"Species: Gentoo\\u003cbr\\u003eIsland: Biscoe\\u003cbr\\u003eFlipper_length (mm): 212.0\\u003cbr\\u003ebody_mass (g): 4750.0\\u003cbr\\u003eSex: femaleYear: 2009Bill Length (mm): 44.9\",\"Species: Gentoo\\u003cbr\\u003eIsland: Biscoe\\u003cbr\\u003eFlipper_length (mm): 228.0\\u003cbr\\u003ebody_mass (g): 5600.0\\u003cbr\\u003eSex: maleYear: 2009Bill Length (mm): 50.8\",\"Species: Gentoo\\u003cbr\\u003eIsland: Biscoe\\u003cbr\\u003eFlipper_length (mm): 218.0\\u003cbr\\u003ebody_mass (g): 4600.0\\u003cbr\\u003eSex: femaleYear: 2009Bill Length (mm): 43.4\",\"Species: Gentoo\\u003cbr\\u003eIsland: Biscoe\\u003cbr\\u003eFlipper_length (mm): 218.0\\u003cbr\\u003ebody_mass (g): 5300.0\\u003cbr\\u003eSex: maleYear: 2009Bill Length (mm): 51.3\",\"Species: Gentoo\\u003cbr\\u003eIsland: Biscoe\\u003cbr\\u003eFlipper_length (mm): 212.0\\u003cbr\\u003ebody_mass (g): 4875.0\\u003cbr\\u003eSex: femaleYear: 2009Bill Length (mm): 47.5\",\"Species: Gentoo\\u003cbr\\u003eIsland: Biscoe\\u003cbr\\u003eFlipper_length (mm): 230.0\\u003cbr\\u003ebody_mass (g): 5550.0\\u003cbr\\u003eSex: maleYear: 2009Bill Length (mm): 52.1\",\"Species: Gentoo\\u003cbr\\u003eIsland: Biscoe\\u003cbr\\u003eFlipper_length (mm): 218.0\\u003cbr\\u003ebody_mass (g): 4950.0\\u003cbr\\u003eSex: femaleYear: 2009Bill Length (mm): 47.5\",\"Species: Gentoo\\u003cbr\\u003eIsland: Biscoe\\u003cbr\\u003eFlipper_length (mm): 228.0\\u003cbr\\u003ebody_mass (g): 5400.0\\u003cbr\\u003eSex: maleYear: 2009Bill Length (mm): 52.2\",\"Species: Gentoo\\u003cbr\\u003eIsland: Biscoe\\u003cbr\\u003eFlipper_length (mm): 212.0\\u003cbr\\u003ebody_mass (g): 4750.0\\u003cbr\\u003eSex: femaleYear: 2009Bill Length (mm): 45.5\",\"Species: Gentoo\\u003cbr\\u003eIsland: Biscoe\\u003cbr\\u003eFlipper_length (mm): 224.0\\u003cbr\\u003ebody_mass (g): 5650.0\\u003cbr\\u003eSex: maleYear: 2009Bill Length (mm): 49.5\",\"Species: Gentoo\\u003cbr\\u003eIsland: Biscoe\\u003cbr\\u003eFlipper_length (mm): 214.0\\u003cbr\\u003ebody_mass (g): 4850.0\\u003cbr\\u003eSex: femaleYear: 2009Bill Length (mm): 44.5\",\"Species: Gentoo\\u003cbr\\u003eIsland: Biscoe\\u003cbr\\u003eFlipper_length (mm): 226.0\\u003cbr\\u003ebody_mass (g): 5200.0\\u003cbr\\u003eSex: maleYear: 2009Bill Length (mm): 50.8\",\"Species: Gentoo\\u003cbr\\u003eIsland: Biscoe\\u003cbr\\u003eFlipper_length (mm): 216.0\\u003cbr\\u003ebody_mass (g): 4925.0\\u003cbr\\u003eSex: maleYear: 2009Bill Length (mm): 49.4\",\"Species: Gentoo\\u003cbr\\u003eIsland: Biscoe\\u003cbr\\u003eFlipper_length (mm): 222.0\\u003cbr\\u003ebody_mass (g): 4875.0\\u003cbr\\u003eSex: femaleYear: 2009Bill Length (mm): 46.9\",\"Species: Gentoo\\u003cbr\\u003eIsland: Biscoe\\u003cbr\\u003eFlipper_length (mm): 203.0\\u003cbr\\u003ebody_mass (g): 4625.0\\u003cbr\\u003eSex: femaleYear: 2009Bill Length (mm): 48.4\",\"Species: Gentoo\\u003cbr\\u003eIsland: Biscoe\\u003cbr\\u003eFlipper_length (mm): 225.0\\u003cbr\\u003ebody_mass (g): 5250.0\\u003cbr\\u003eSex: maleYear: 2009Bill Length (mm): 51.1\",\"Species: Gentoo\\u003cbr\\u003eIsland: Biscoe\\u003cbr\\u003eFlipper_length (mm): 219.0\\u003cbr\\u003ebody_mass (g): 4850.0\\u003cbr\\u003eSex: femaleYear: 2009Bill Length (mm): 48.5\",\"Species: Gentoo\\u003cbr\\u003eIsland: Biscoe\\u003cbr\\u003eFlipper_length (mm): 228.0\\u003cbr\\u003ebody_mass (g): 5600.0\\u003cbr\\u003eSex: maleYear: 2009Bill Length (mm): 55.9\",\"Species: Gentoo\\u003cbr\\u003eIsland: Biscoe\\u003cbr\\u003eFlipper_length (mm): 215.0\\u003cbr\\u003ebody_mass (g): 4975.0\\u003cbr\\u003eSex: femaleYear: 2009Bill Length (mm): 47.2\",\"Species: Gentoo\\u003cbr\\u003eIsland: Biscoe\\u003cbr\\u003eFlipper_length (mm): 228.0\\u003cbr\\u003ebody_mass (g): 5500.0\\u003cbr\\u003eSex: maleYear: 2009Bill Length (mm): 49.1\",\"Species: Gentoo\\u003cbr\\u003eIsland: Biscoe\\u003cbr\\u003eFlipper_length (mm): 216.0\\u003cbr\\u003ebody_mass (g): 4725.0\\u003cbr\\u003eSex: nanYear: 2009Bill Length (mm): 47.3\",\"Species: Gentoo\\u003cbr\\u003eIsland: Biscoe\\u003cbr\\u003eFlipper_length (mm): 215.0\\u003cbr\\u003ebody_mass (g): 5500.0\\u003cbr\\u003eSex: maleYear: 2009Bill Length (mm): 46.8\",\"Species: Gentoo\\u003cbr\\u003eIsland: Biscoe\\u003cbr\\u003eFlipper_length (mm): 210.0\\u003cbr\\u003ebody_mass (g): 4700.0\\u003cbr\\u003eSex: femaleYear: 2009Bill Length (mm): 41.7\",\"Species: Gentoo\\u003cbr\\u003eIsland: Biscoe\\u003cbr\\u003eFlipper_length (mm): 219.0\\u003cbr\\u003ebody_mass (g): 5500.0\\u003cbr\\u003eSex: maleYear: 2009Bill Length (mm): 53.4\",\"Species: Gentoo\\u003cbr\\u003eIsland: Biscoe\\u003cbr\\u003eFlipper_length (mm): 208.0\\u003cbr\\u003ebody_mass (g): 4575.0\\u003cbr\\u003eSex: femaleYear: 2009Bill Length (mm): 43.3\",\"Species: Gentoo\\u003cbr\\u003eIsland: Biscoe\\u003cbr\\u003eFlipper_length (mm): 209.0\\u003cbr\\u003ebody_mass (g): 5500.0\\u003cbr\\u003eSex: maleYear: 2009Bill Length (mm): 48.1\",\"Species: Gentoo\\u003cbr\\u003eIsland: Biscoe\\u003cbr\\u003eFlipper_length (mm): 216.0\\u003cbr\\u003ebody_mass (g): 5000.0\\u003cbr\\u003eSex: femaleYear: 2009Bill Length (mm): 50.5\",\"Species: Gentoo\\u003cbr\\u003eIsland: Biscoe\\u003cbr\\u003eFlipper_length (mm): 229.0\\u003cbr\\u003ebody_mass (g): 5950.0\\u003cbr\\u003eSex: maleYear: 2009Bill Length (mm): 49.8\",\"Species: Gentoo\\u003cbr\\u003eIsland: Biscoe\\u003cbr\\u003eFlipper_length (mm): 213.0\\u003cbr\\u003ebody_mass (g): 4650.0\\u003cbr\\u003eSex: femaleYear: 2009Bill Length (mm): 43.5\",\"Species: Gentoo\\u003cbr\\u003eIsland: Biscoe\\u003cbr\\u003eFlipper_length (mm): 230.0\\u003cbr\\u003ebody_mass (g): 5500.0\\u003cbr\\u003eSex: maleYear: 2009Bill Length (mm): 51.5\",\"Species: Gentoo\\u003cbr\\u003eIsland: Biscoe\\u003cbr\\u003eFlipper_length (mm): 217.0\\u003cbr\\u003ebody_mass (g): 4375.0\\u003cbr\\u003eSex: femaleYear: 2009Bill Length (mm): 46.2\",\"Species: Gentoo\\u003cbr\\u003eIsland: Biscoe\\u003cbr\\u003eFlipper_length (mm): 230.0\\u003cbr\\u003ebody_mass (g): 5850.0\\u003cbr\\u003eSex: maleYear: 2009Bill Length (mm): 55.1\",\"Species: Gentoo\\u003cbr\\u003eIsland: Biscoe\\u003cbr\\u003eFlipper_length (mm): 217.0\\u003cbr\\u003ebody_mass (g): 4875.0\\u003cbr\\u003eSex: nanYear: 2009Bill Length (mm): 44.5\",\"Species: Gentoo\\u003cbr\\u003eIsland: Biscoe\\u003cbr\\u003eFlipper_length (mm): 222.0\\u003cbr\\u003ebody_mass (g): 6000.0\\u003cbr\\u003eSex: maleYear: 2009Bill Length (mm): 48.8\",\"Species: Gentoo\\u003cbr\\u003eIsland: Biscoe\\u003cbr\\u003eFlipper_length (mm): 214.0\\u003cbr\\u003ebody_mass (g): 4925.0\\u003cbr\\u003eSex: femaleYear: 2009Bill Length (mm): 47.2\",\"Species: Gentoo\\u003cbr\\u003eIsland: Biscoe\\u003cbr\\u003eFlipper_length (mm): 215.0\\u003cbr\\u003ebody_mass (g): 4850.0\\u003cbr\\u003eSex: femaleYear: 2009Bill Length (mm): 46.8\",\"Species: Gentoo\\u003cbr\\u003eIsland: Biscoe\\u003cbr\\u003eFlipper_length (mm): 222.0\\u003cbr\\u003ebody_mass (g): 5750.0\\u003cbr\\u003eSex: maleYear: 2009Bill Length (mm): 50.4\",\"Species: Gentoo\\u003cbr\\u003eIsland: Biscoe\\u003cbr\\u003eFlipper_length (mm): 212.0\\u003cbr\\u003ebody_mass (g): 5200.0\\u003cbr\\u003eSex: femaleYear: 2009Bill Length (mm): 45.2\",\"Species: Gentoo\\u003cbr\\u003eIsland: Biscoe\\u003cbr\\u003eFlipper_length (mm): 213.0\\u003cbr\\u003ebody_mass (g): 5400.0\\u003cbr\\u003eSex: maleYear: 2009Bill Length (mm): 49.9\"],\"x\":[211.0,230.0,210.0,218.0,215.0,210.0,211.0,219.0,209.0,215.0,214.0,216.0,214.0,213.0,210.0,217.0,210.0,221.0,209.0,222.0,218.0,215.0,213.0,215.0,215.0,215.0,216.0,215.0,210.0,220.0,222.0,209.0,207.0,230.0,220.0,220.0,213.0,219.0,208.0,208.0,208.0,225.0,210.0,216.0,222.0,217.0,210.0,225.0,213.0,215.0,210.0,220.0,210.0,225.0,217.0,220.0,208.0,220.0,208.0,224.0,208.0,221.0,214.0,231.0,219.0,230.0,214.0,229.0,220.0,223.0,216.0,221.0,221.0,217.0,216.0,230.0,209.0,220.0,215.0,223.0,212.0,221.0,212.0,224.0,212.0,228.0,218.0,218.0,212.0,230.0,218.0,228.0,212.0,224.0,214.0,226.0,216.0,222.0,203.0,225.0,219.0,228.0,215.0,228.0,216.0,215.0,210.0,219.0,208.0,209.0,216.0,229.0,213.0,230.0,217.0,230.0,217.0,222.0,214.0,215.0,222.0,212.0,213.0],\"y\":[4500.0,5700.0,4450.0,5700.0,5400.0,4550.0,4800.0,5200.0,4400.0,5150.0,4650.0,5550.0,4650.0,5850.0,4200.0,5850.0,4150.0,6300.0,4800.0,5350.0,5700.0,5000.0,4400.0,5050.0,5000.0,5100.0,4100.0,5650.0,4600.0,5550.0,5250.0,4700.0,5050.0,6050.0,5150.0,5400.0,4950.0,5250.0,4350.0,5350.0,3950.0,5700.0,4300.0,4750.0,5550.0,4900.0,4200.0,5400.0,5100.0,5300.0,4850.0,5300.0,4400.0,5000.0,4900.0,5050.0,4300.0,5000.0,4450.0,5550.0,4200.0,5300.0,4400.0,5650.0,4700.0,5700.0,4650.0,5800.0,4700.0,5550.0,4750.0,5000.0,5100.0,5200.0,4700.0,5800.0,4600.0,6000.0,4750.0,5950.0,4625.0,5450.0,4725.0,5350.0,4750.0,5600.0,4600.0,5300.0,4875.0,5550.0,4950.0,5400.0,4750.0,5650.0,4850.0,5200.0,4925.0,4875.0,4625.0,5250.0,4850.0,5600.0,4975.0,5500.0,4725.0,5500.0,4700.0,5500.0,4575.0,5500.0,5000.0,5950.0,4650.0,5500.0,4375.0,5850.0,4875.0,6000.0,4925.0,4850.0,5750.0,5200.0,5400.0],\"type\":\"scatter\",\"mode\":\"markers\"}],                        {\"plot_bgcolor\":\"rgb(243, 243, 243)\",\"title\":{\"text\":\"Python + Plotly\"},\"xaxis\":{\"gridcolor\":\"white\",\"gridwidth\":1,\"title\":{\"text\":\"Flipper Length (mm)\"},\"type\":\"log\"},\"yaxis\":{\"gridcolor\":\"white\",\"title\":{\"text\":\"Body Mass (g)\"}},\"template\":{\"data\":{\"histogram2dcontour\":[{\"type\":\"histogram2dcontour\",\"colorbar\":{\"outlinewidth\":0,\"ticks\":\"\"},\"colorscale\":[[0.0,\"#0d0887\"],[0.1111111111111111,\"#46039f\"],[0.2222222222222222,\"#7201a8\"],[0.3333333333333333,\"#9c179e\"],[0.4444444444444444,\"#bd3786\"],[0.5555555555555556,\"#d8576b\"],[0.6666666666666666,\"#ed7953\"],[0.7777777777777778,\"#fb9f3a\"],[0.8888888888888888,\"#fdca26\"],[1.0,\"#f0f921\"]]}],\"choropleth\":[{\"type\":\"choropleth\",\"colorbar\":{\"outlinewidth\":0,\"ticks\":\"\"}}],\"histogram2d\":[{\"type\":\"histogram2d\",\"colorbar\":{\"outlinewidth\":0,\"ticks\":\"\"},\"colorscale\":[[0.0,\"#0d0887\"],[0.1111111111111111,\"#46039f\"],[0.2222222222222222,\"#7201a8\"],[0.3333333333333333,\"#9c179e\"],[0.4444444444444444,\"#bd3786\"],[0.5555555555555556,\"#d8576b\"],[0.6666666666666666,\"#ed7953\"],[0.7777777777777778,\"#fb9f3a\"],[0.8888888888888888,\"#fdca26\"],[1.0,\"#f0f921\"]]}],\"heatmap\":[{\"type\":\"heatmap\",\"colorbar\":{\"outlinewidth\":0,\"ticks\":\"\"},\"colorscale\":[[0.0,\"#0d0887\"],[0.1111111111111111,\"#46039f\"],[0.2222222222222222,\"#7201a8\"],[0.3333333333333333,\"#9c179e\"],[0.4444444444444444,\"#bd3786\"],[0.5555555555555556,\"#d8576b\"],[0.6666666666666666,\"#ed7953\"],[0.7777777777777778,\"#fb9f3a\"],[0.8888888888888888,\"#fdca26\"],[1.0,\"#f0f921\"]]}],\"heatmapgl\":[{\"type\":\"heatmapgl\",\"colorbar\":{\"outlinewidth\":0,\"ticks\":\"\"},\"colorscale\":[[0.0,\"#0d0887\"],[0.1111111111111111,\"#46039f\"],[0.2222222222222222,\"#7201a8\"],[0.3333333333333333,\"#9c179e\"],[0.4444444444444444,\"#bd3786\"],[0.5555555555555556,\"#d8576b\"],[0.6666666666666666,\"#ed7953\"],[0.7777777777777778,\"#fb9f3a\"],[0.8888888888888888,\"#fdca26\"],[1.0,\"#f0f921\"]]}],\"contourcarpet\":[{\"type\":\"contourcarpet\",\"colorbar\":{\"outlinewidth\":0,\"ticks\":\"\"}}],\"contour\":[{\"type\":\"contour\",\"colorbar\":{\"outlinewidth\":0,\"ticks\":\"\"},\"colorscale\":[[0.0,\"#0d0887\"],[0.1111111111111111,\"#46039f\"],[0.2222222222222222,\"#7201a8\"],[0.3333333333333333,\"#9c179e\"],[0.4444444444444444,\"#bd3786\"],[0.5555555555555556,\"#d8576b\"],[0.6666666666666666,\"#ed7953\"],[0.7777777777777778,\"#fb9f3a\"],[0.8888888888888888,\"#fdca26\"],[1.0,\"#f0f921\"]]}],\"surface\":[{\"type\":\"surface\",\"colorbar\":{\"outlinewidth\":0,\"ticks\":\"\"},\"colorscale\":[[0.0,\"#0d0887\"],[0.1111111111111111,\"#46039f\"],[0.2222222222222222,\"#7201a8\"],[0.3333333333333333,\"#9c179e\"],[0.4444444444444444,\"#bd3786\"],[0.5555555555555556,\"#d8576b\"],[0.6666666666666666,\"#ed7953\"],[0.7777777777777778,\"#fb9f3a\"],[0.8888888888888888,\"#fdca26\"],[1.0,\"#f0f921\"]]}],\"mesh3d\":[{\"type\":\"mesh3d\",\"colorbar\":{\"outlinewidth\":0,\"ticks\":\"\"}}],\"scatter\":[{\"fillpattern\":{\"fillmode\":\"overlay\",\"size\":10,\"solidity\":0.2},\"type\":\"scatter\"}],\"parcoords\":[{\"type\":\"parcoords\",\"line\":{\"colorbar\":{\"outlinewidth\":0,\"ticks\":\"\"}}}],\"scatterpolargl\":[{\"type\":\"scatterpolargl\",\"marker\":{\"colorbar\":{\"outlinewidth\":0,\"ticks\":\"\"}}}],\"bar\":[{\"error_x\":{\"color\":\"#2a3f5f\"},\"error_y\":{\"color\":\"#2a3f5f\"},\"marker\":{\"line\":{\"color\":\"#E5ECF6\",\"width\":0.5},\"pattern\":{\"fillmode\":\"overlay\",\"size\":10,\"solidity\":0.2}},\"type\":\"bar\"}],\"scattergeo\":[{\"type\":\"scattergeo\",\"marker\":{\"colorbar\":{\"outlinewidth\":0,\"ticks\":\"\"}}}],\"scatterpolar\":[{\"type\":\"scatterpolar\",\"marker\":{\"colorbar\":{\"outlinewidth\":0,\"ticks\":\"\"}}}],\"histogram\":[{\"marker\":{\"pattern\":{\"fillmode\":\"overlay\",\"size\":10,\"solidity\":0.2}},\"type\":\"histogram\"}],\"scattergl\":[{\"type\":\"scattergl\",\"marker\":{\"colorbar\":{\"outlinewidth\":0,\"ticks\":\"\"}}}],\"scatter3d\":[{\"type\":\"scatter3d\",\"line\":{\"colorbar\":{\"outlinewidth\":0,\"ticks\":\"\"}},\"marker\":{\"colorbar\":{\"outlinewidth\":0,\"ticks\":\"\"}}}],\"scattermapbox\":[{\"type\":\"scattermapbox\",\"marker\":{\"colorbar\":{\"outlinewidth\":0,\"ticks\":\"\"}}}],\"scatterternary\":[{\"type\":\"scatterternary\",\"marker\":{\"colorbar\":{\"outlinewidth\":0,\"ticks\":\"\"}}}],\"scattercarpet\":[{\"type\":\"scattercarpet\",\"marker\":{\"colorbar\":{\"outlinewidth\":0,\"ticks\":\"\"}}}],\"carpet\":[{\"aaxis\":{\"endlinecolor\":\"#2a3f5f\",\"gridcolor\":\"white\",\"linecolor\":\"white\",\"minorgridcolor\":\"white\",\"startlinecolor\":\"#2a3f5f\"},\"baxis\":{\"endlinecolor\":\"#2a3f5f\",\"gridcolor\":\"white\",\"linecolor\":\"white\",\"minorgridcolor\":\"white\",\"startlinecolor\":\"#2a3f5f\"},\"type\":\"carpet\"}],\"table\":[{\"cells\":{\"fill\":{\"color\":\"#EBF0F8\"},\"line\":{\"color\":\"white\"}},\"header\":{\"fill\":{\"color\":\"#C8D4E3\"},\"line\":{\"color\":\"white\"}},\"type\":\"table\"}],\"barpolar\":[{\"marker\":{\"line\":{\"color\":\"#E5ECF6\",\"width\":0.5},\"pattern\":{\"fillmode\":\"overlay\",\"size\":10,\"solidity\":0.2}},\"type\":\"barpolar\"}],\"pie\":[{\"automargin\":true,\"type\":\"pie\"}]},\"layout\":{\"autotypenumbers\":\"strict\",\"colorway\":[\"#636efa\",\"#EF553B\",\"#00cc96\",\"#ab63fa\",\"#FFA15A\",\"#19d3f3\",\"#FF6692\",\"#B6E880\",\"#FF97FF\",\"#FECB52\"],\"font\":{\"color\":\"#2a3f5f\"},\"hovermode\":\"closest\",\"hoverlabel\":{\"align\":\"left\"},\"paper_bgcolor\":\"white\",\"plot_bgcolor\":\"#E5ECF6\",\"polar\":{\"bgcolor\":\"#E5ECF6\",\"angularaxis\":{\"gridcolor\":\"white\",\"linecolor\":\"white\",\"ticks\":\"\"},\"radialaxis\":{\"gridcolor\":\"white\",\"linecolor\":\"white\",\"ticks\":\"\"}},\"ternary\":{\"bgcolor\":\"#E5ECF6\",\"aaxis\":{\"gridcolor\":\"white\",\"linecolor\":\"white\",\"ticks\":\"\"},\"baxis\":{\"gridcolor\":\"white\",\"linecolor\":\"white\",\"ticks\":\"\"},\"caxis\":{\"gridcolor\":\"white\",\"linecolor\":\"white\",\"ticks\":\"\"}},\"coloraxis\":{\"colorbar\":{\"outlinewidth\":0,\"ticks\":\"\"}},\"colorscale\":{\"sequential\":[[0.0,\"#0d0887\"],[0.1111111111111111,\"#46039f\"],[0.2222222222222222,\"#7201a8\"],[0.3333333333333333,\"#9c179e\"],[0.4444444444444444,\"#bd3786\"],[0.5555555555555556,\"#d8576b\"],[0.6666666666666666,\"#ed7953\"],[0.7777777777777778,\"#fb9f3a\"],[0.8888888888888888,\"#fdca26\"],[1.0,\"#f0f921\"]],\"sequentialminus\":[[0.0,\"#0d0887\"],[0.1111111111111111,\"#46039f\"],[0.2222222222222222,\"#7201a8\"],[0.3333333333333333,\"#9c179e\"],[0.4444444444444444,\"#bd3786\"],[0.5555555555555556,\"#d8576b\"],[0.6666666666666666,\"#ed7953\"],[0.7777777777777778,\"#fb9f3a\"],[0.8888888888888888,\"#fdca26\"],[1.0,\"#f0f921\"]],\"diverging\":[[0,\"#8e0152\"],[0.1,\"#c51b7d\"],[0.2,\"#de77ae\"],[0.3,\"#f1b6da\"],[0.4,\"#fde0ef\"],[0.5,\"#f7f7f7\"],[0.6,\"#e6f5d0\"],[0.7,\"#b8e186\"],[0.8,\"#7fbc41\"],[0.9,\"#4d9221\"],[1,\"#276419\"]]},\"xaxis\":{\"gridcolor\":\"white\",\"linecolor\":\"white\",\"ticks\":\"\",\"title\":{\"standoff\":15},\"zerolinecolor\":\"white\",\"automargin\":true,\"zerolinewidth\":2},\"yaxis\":{\"gridcolor\":\"white\",\"linecolor\":\"white\",\"ticks\":\"\",\"title\":{\"standoff\":15},\"zerolinecolor\":\"white\",\"automargin\":true,\"zerolinewidth\":2},\"scene\":{\"xaxis\":{\"backgroundcolor\":\"#E5ECF6\",\"gridcolor\":\"white\",\"linecolor\":\"white\",\"showbackground\":true,\"ticks\":\"\",\"zerolinecolor\":\"white\",\"gridwidth\":2},\"yaxis\":{\"backgroundcolor\":\"#E5ECF6\",\"gridcolor\":\"white\",\"linecolor\":\"white\",\"showbackground\":true,\"ticks\":\"\",\"zerolinecolor\":\"white\",\"gridwidth\":2},\"zaxis\":{\"backgroundcolor\":\"#E5ECF6\",\"gridcolor\":\"white\",\"linecolor\":\"white\",\"showbackground\":true,\"ticks\":\"\",\"zerolinecolor\":\"white\",\"gridwidth\":2}},\"shapedefaults\":{\"line\":{\"color\":\"#2a3f5f\"}},\"annotationdefaults\":{\"arrowcolor\":\"#2a3f5f\",\"arrowhead\":0,\"arrowwidth\":1},\"geo\":{\"bgcolor\":\"white\",\"landcolor\":\"#E5ECF6\",\"subunitcolor\":\"white\",\"showland\":true,\"showlakes\":true,\"lakecolor\":\"white\"},\"title\":{\"x\":0.05},\"mapbox\":{\"style\":\"light\"}}}},                        {\"responsive\": true}                    ).then(function(){\n",
       "                            \n",
       "var gd = document.getElementById('104a0985-90c8-4705-8b17-38f166ecd140');\n",
       "var x = new MutationObserver(function (mutations, observer) {{\n",
       "        var display = window.getComputedStyle(gd).display;\n",
       "        if (!display || display === 'none') {{\n",
       "            console.log([gd, 'removed!']);\n",
       "            Plotly.purge(gd);\n",
       "            observer.disconnect();\n",
       "        }}\n",
       "}});\n",
       "\n",
       "// Listen for the removal of the full notebook cells\n",
       "var notebookContainer = gd.closest('#notebook-container');\n",
       "if (notebookContainer) {{\n",
       "    x.observe(notebookContainer, {childList: true});\n",
       "}}\n",
       "\n",
       "// Listen for the clearing of the current output cell\n",
       "var outputEl = gd.closest('.output');\n",
       "if (outputEl) {{\n",
       "    x.observe(outputEl, {childList: true});\n",
       "}}\n",
       "\n",
       "                        })                };                });            </script>        </div>"
      ]
     },
     "metadata": {},
     "output_type": "display_data"
    }
   ],
   "source": [
    "hover_text = []\n",
    "bubble_size = []\n",
    "\n",
    "for index, row in df.iterrows():\n",
    "    hover_text.append(('Species: {species}<br>'+\n",
    "                      'Island: {island}<br>'+\n",
    "                      'Flipper_length (mm): {fl}<br>'+\n",
    "                      'body_mass (g): {bm}<br>'+\n",
    "                      'Sex: {sex}'+\n",
    "                      'Year: {year}'+\n",
    "                      'Bill Length (mm): {bl}').format(species=row['species'],\n",
    "                                            island=row['island'],\n",
    "                                            fl=row['flipper_length_mm'],\n",
    "                                            bm=row['body_mass_g'],\n",
    "                                            sex=row['sex'],\n",
    "                                            year=row['year'],\n",
    "                                            bl=row['bill_length_mm']))\n",
    "    \n",
    "df['text'] = hover_text\n",
    "\n",
    "# https://stackoverflow.com/questions/57417164/is-there-a-way-to-calculate-optimal-sizeref-value-for-plotly-scatter3d\n",
    "size_max = df['bill_length_mm'].max()\n",
    "sizeref = df[\"bill_length_mm\"].max()/(15**2)\n",
    "\n",
    "# Dictionary with dataframes for each species\n",
    "species_names = ['Adelie', 'Chinstrap', 'Gentoo']\n",
    "species_data = {species:df.query(\"species == '%s'\" %species)\n",
    "                              for species in species_names}\n",
    "\n",
    "df_l = df.sort_values(\"bill_length_mm\")\n",
    "fig2 = px.scatter(df_l,\n",
    "                  x=np.zeros(len(df)),\n",
    "                  y=pd.qcut(df_l[\"bill_length_mm\"], q=8, precision=0).astype(str),\n",
    "                  size=\"bill_length_mm\")\n",
    "\n",
    "\n",
    "# Create figure\n",
    "fig = go.Figure(\n",
    "                layout=dict(\n",
    "                title='Python + Plotly',\n",
    "                xaxis=dict(title='Flipper Length (mm)',\n",
    "                       gridcolor='white',\n",
    "                       type='log',\n",
    "                        gridwidth=1),\n",
    "                yaxis=dict(title='Body Mass (g)',\n",
    "                           gridcolor='white'),\n",
    "                plot_bgcolor='rgb(243, 243, 243)',  # change bg color to grey\n",
    "                ))\n",
    "\n",
    "for species_names, species in species_data.items():\n",
    "    fig.add_trace(go.Scatter(\n",
    "                             x=species['flipper_length_mm'], \n",
    "                             y=species['body_mass_g'],\n",
    "                             name=species_names, \n",
    "                             text=species['text'],\n",
    "                             marker_size=species['bill_length_mm'],\n",
    "                             ))\n",
    "\n",
    "\n",
    "# Tune marker appearance and layout\n",
    "fig.update_traces(mode='markers', marker=dict(sizemode='area',\n",
    "                                              sizeref=sizeref, \n",
    "                                              line_width=2))\n",
    "\n",
    "\n",
    "# unable to display multiple legends (bubble size & species)\n",
    "fig.show()"
   ]
  },
  {
   "cell_type": "code",
   "execution_count": null,
   "id": "ed7c90bb",
   "metadata": {},
   "outputs": [],
   "source": []
  }
 ],
 "metadata": {
  "kernelspec": {
   "display_name": "Python 3 (ipykernel)",
   "language": "python",
   "name": "python3"
  },
  "language_info": {
   "codemirror_mode": {
    "name": "ipython",
    "version": 3
   },
   "file_extension": ".py",
   "mimetype": "text/x-python",
   "name": "python",
   "nbconvert_exporter": "python",
   "pygments_lexer": "ipython3",
   "version": "3.9.17"
  }
 },
 "nbformat": 4,
 "nbformat_minor": 5
}
